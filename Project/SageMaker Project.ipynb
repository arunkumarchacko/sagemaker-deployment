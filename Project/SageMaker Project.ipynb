{
 "cells": [
  {
   "cell_type": "markdown",
   "metadata": {},
   "source": [
    "# Creating a Sentiment Analysis Web App\n",
    "## Using PyTorch and SageMaker\n",
    "\n",
    "_Deep Learning Nanodegree Program | Deployment_\n",
    "\n",
    "---\n",
    "\n",
    "Now that we have a basic understanding of how SageMaker works we will try to use it to construct a complete project from end to end. Our goal will be to have a simple web page which a user can use to enter a movie review. The web page will then send the review off to our deployed model which will predict the sentiment of the entered review.\n",
    "\n",
    "## Instructions\n",
    "\n",
    "Some template code has already been provided for you, and you will need to implement additional functionality to successfully complete this notebook. You will not need to modify the included code beyond what is requested. Sections that begin with '**TODO**' in the header indicate that you need to complete or implement some portion within them. Instructions will be provided for each section and the specifics of the implementation are marked in the code block with a `# TODO: ...` comment. Please be sure to read the instructions carefully!\n",
    "\n",
    "In addition to implementing code, there will be questions for you to answer which relate to the task and your implementation. Each section where you will answer a question is preceded by a '**Question:**' header. Carefully read each question and provide your answer below the '**Answer:**' header by editing the Markdown cell.\n",
    "\n",
    "> **Note**: Code and Markdown cells can be executed using the **Shift+Enter** keyboard shortcut. In addition, a cell can be edited by typically clicking it (double-click for Markdown cells) or by pressing **Enter** while it is highlighted.\n",
    "\n",
    "## General Outline\n",
    "\n",
    "Recall the general outline for SageMaker projects using a notebook instance.\n",
    "\n",
    "1. Download or otherwise retrieve the data.\n",
    "2. Process / Prepare the data.\n",
    "3. Upload the processed data to S3.\n",
    "4. Train a chosen model.\n",
    "5. Test the trained model (typically using a batch transform job).\n",
    "6. Deploy the trained model.\n",
    "7. Use the deployed model.\n",
    "\n",
    "For this project, you will be following the steps in the general outline with some modifications. \n",
    "\n",
    "First, you will not be testing the model in its own step. You will still be testing the model, however, you will do it by deploying your model and then using the deployed model by sending the test data to it. One of the reasons for doing this is so that you can make sure that your deployed model is working correctly before moving forward.\n",
    "\n",
    "In addition, you will deploy and use your trained model a second time. In the second iteration you will customize the way that your trained model is deployed by including some of your own code. In addition, your newly deployed model will be used in the sentiment analysis web app."
   ]
  },
  {
   "cell_type": "markdown",
   "metadata": {},
   "source": [
    "## Step 1: Downloading the data\n",
    "\n",
    "As in the XGBoost in SageMaker notebook, we will be using the [IMDb dataset](http://ai.stanford.edu/~amaas/data/sentiment/)\n",
    "\n",
    "> Maas, Andrew L., et al. [Learning Word Vectors for Sentiment Analysis](http://ai.stanford.edu/~amaas/data/sentiment/). In _Proceedings of the 49th Annual Meeting of the Association for Computational Linguistics: Human Language Technologies_. Association for Computational Linguistics, 2011."
   ]
  },
  {
   "cell_type": "code",
   "execution_count": 1,
   "metadata": {},
   "outputs": [
    {
     "name": "stdout",
     "output_type": "stream",
     "text": [
      "mkdir: cannot create directory ‘../data’: File exists\n",
      "--2020-08-05 06:23:15--  http://ai.stanford.edu/~amaas/data/sentiment/aclImdb_v1.tar.gz\n",
      "Resolving ai.stanford.edu (ai.stanford.edu)... 171.64.68.10\n",
      "Connecting to ai.stanford.edu (ai.stanford.edu)|171.64.68.10|:80... connected.\n",
      "HTTP request sent, awaiting response... 200 OK\n",
      "Length: 84125825 (80M) [application/x-gzip]\n",
      "Saving to: ‘../data/aclImdb_v1.tar.gz’\n",
      "\n",
      "../data/aclImdb_v1. 100%[===================>]  80.23M  48.0MB/s    in 1.7s    \n",
      "\n",
      "2020-08-05 06:23:17 (48.0 MB/s) - ‘../data/aclImdb_v1.tar.gz’ saved [84125825/84125825]\n",
      "\n",
      "Download complete\n"
     ]
    }
   ],
   "source": [
    "%mkdir ../data\n",
    "!wget -O ../data/aclImdb_v1.tar.gz http://ai.stanford.edu/~amaas/data/sentiment/aclImdb_v1.tar.gz\n",
    "!tar -zxf ../data/aclImdb_v1.tar.gz -C ../data\n",
    "\n",
    "print(\"Download complete\")"
   ]
  },
  {
   "cell_type": "markdown",
   "metadata": {},
   "source": [
    "## Step 2: Preparing and Processing the data\n",
    "\n",
    "Also, as in the XGBoost notebook, we will be doing some initial data processing. The first few steps are the same as in the XGBoost example. To begin with, we will read in each of the reviews and combine them into a single input structure. Then, we will split the dataset into a training set and a testing set."
   ]
  },
  {
   "cell_type": "code",
   "execution_count": 2,
   "metadata": {},
   "outputs": [],
   "source": [
    "import os\n",
    "import glob\n",
    "\n",
    "def read_imdb_data(data_dir='../data/aclImdb'):\n",
    "    data = {}\n",
    "    labels = {}\n",
    "    \n",
    "    \n",
    "    for data_type in ['train', 'test']:\n",
    "        data[data_type] = {}\n",
    "        labels[data_type] = {}\n",
    "        \n",
    "        for sentiment in ['pos', 'neg']:\n",
    "            data[data_type][sentiment] = []\n",
    "            labels[data_type][sentiment] = []\n",
    "            \n",
    "            path = os.path.join(data_dir, data_type, sentiment, '*.txt')\n",
    "            files = glob.glob(path)\n",
    "            \n",
    "            for f in files:\n",
    "                with open(f) as review:\n",
    "                    data[data_type][sentiment].append(review.read())\n",
    "                    # Here we represent a positive review by '1' and a negative review by '0'\n",
    "                    labels[data_type][sentiment].append(1 if sentiment == 'pos' else 0)\n",
    "                    \n",
    "            assert len(data[data_type][sentiment]) == len(labels[data_type][sentiment]), \\\n",
    "                    \"{}/{} data size does not match labels size\".format(data_type, sentiment)\n",
    "                \n",
    "    return data, labels"
   ]
  },
  {
   "cell_type": "code",
   "execution_count": 3,
   "metadata": {},
   "outputs": [
    {
     "name": "stdout",
     "output_type": "stream",
     "text": [
      "IMDB reviews: train = 12500 pos / 12500 neg, test = 12500 pos / 12500 neg\n"
     ]
    }
   ],
   "source": [
    "data, labels = read_imdb_data()\n",
    "print(\"IMDB reviews: train = {} pos / {} neg, test = {} pos / {} neg\".format(\n",
    "            len(data['train']['pos']), len(data['train']['neg']),\n",
    "            len(data['test']['pos']), len(data['test']['neg'])))"
   ]
  },
  {
   "cell_type": "markdown",
   "metadata": {},
   "source": [
    "Now that we've read the raw training and testing data from the downloaded dataset, we will combine the positive and negative reviews and shuffle the resulting records."
   ]
  },
  {
   "cell_type": "code",
   "execution_count": 4,
   "metadata": {},
   "outputs": [],
   "source": [
    "from sklearn.utils import shuffle\n",
    "\n",
    "def prepare_imdb_data(data, labels):\n",
    "    \"\"\"Prepare training and test sets from IMDb movie reviews.\"\"\"\n",
    "    \n",
    "    #Combine positive and negative reviews and labels\n",
    "    data_train = data['train']['pos'] + data['train']['neg']\n",
    "    data_test = data['test']['pos'] + data['test']['neg']\n",
    "    labels_train = labels['train']['pos'] + labels['train']['neg']\n",
    "    labels_test = labels['test']['pos'] + labels['test']['neg']\n",
    "    \n",
    "    #Shuffle reviews and corresponding labels within training and test sets\n",
    "    data_train, labels_train = shuffle(data_train, labels_train)\n",
    "    data_test, labels_test = shuffle(data_test, labels_test)\n",
    "    \n",
    "    # Return a unified training data, test data, training labels, test labets\n",
    "    return data_train, data_test, labels_train, labels_test"
   ]
  },
  {
   "cell_type": "code",
   "execution_count": 5,
   "metadata": {},
   "outputs": [
    {
     "name": "stdout",
     "output_type": "stream",
     "text": [
      "IMDb reviews (combined): train = 25000, test = 25000\n"
     ]
    }
   ],
   "source": [
    "train_X, test_X, train_y, test_y = prepare_imdb_data(data, labels)\n",
    "print(\"IMDb reviews (combined): train = {}, test = {}\".format(len(train_X), len(test_X)))"
   ]
  },
  {
   "cell_type": "markdown",
   "metadata": {},
   "source": [
    "Now that we have our training and testing sets unified and prepared, we should do a quick check and see an example of the data our model will be trained on. This is generally a good idea as it allows you to see how each of the further processing steps affects the reviews and it also ensures that the data has been loaded correctly."
   ]
  },
  {
   "cell_type": "code",
   "execution_count": 6,
   "metadata": {},
   "outputs": [
    {
     "name": "stdout",
     "output_type": "stream",
     "text": [
      "It has been said that Deanna Durbin invented teenagery. This first film was one of the best. The humorous story presented a delightful 14 year old Deanna, a little beauty with a gorgeous voice, as the \"Miss Fixit\" in a family split by divorce. For plot summary, see other IMDb entries, but quickly Deanna and her two older sisters plan to go to America from Switzerland to prevent their father from remarrying. With an excellent supporting cast especially Barbara Read and Nan Grey as the sisters, good direction and editing, the film succeeds in captivating one even on subsequent viewings. Of Deanna's three songs, only \"Il Bacio\" is from the classical repertoire, but when she sings it in that police station scene, the film's place in history is assured. At least it was for this viewer who at the age of 15 was smitten for life with both Deanna and classical music. One of the many nice touches that occur throughout THREE SMART GIRLS is the brief glimpse of the drunk stretching his neck for a final glimpse of Deanna as the cops hustle him by! One unfortunate result of the success of this film was that subsequent writers for Durbin vehicles became locked into the \"Miss Fixit\" theme, which quickly became stale. Deanna herself never did. Her stature as an actress is more questionable than her charisma, which she certainly had. It seems to me that, like many another film personality, she substituted \"naturalness\" for the histrionic ability that she lacked. The ploy worked well for 21 feature films.\n",
      "1\n"
     ]
    }
   ],
   "source": [
    "print(train_X[100])\n",
    "print(train_y[100])"
   ]
  },
  {
   "cell_type": "markdown",
   "metadata": {},
   "source": [
    "The first step in processing the reviews is to make sure that any html tags that appear should be removed. In addition we wish to tokenize our input, that way words such as *entertained* and *entertaining* are considered the same with regard to sentiment analysis."
   ]
  },
  {
   "cell_type": "code",
   "execution_count": 7,
   "metadata": {},
   "outputs": [],
   "source": [
    "import nltk\n",
    "from nltk.corpus import stopwords\n",
    "from nltk.stem.porter import *\n",
    "\n",
    "import re\n",
    "from bs4 import BeautifulSoup\n",
    "\n",
    "def review_to_words(review):\n",
    "    nltk.download(\"stopwords\", quiet=True)\n",
    "    stemmer = PorterStemmer()\n",
    "    \n",
    "    text = BeautifulSoup(review, \"html.parser\").get_text() # Remove HTML tags\n",
    "    text = re.sub(r\"[^a-zA-Z0-9]\", \" \", text.lower()) # Convert to lower case\n",
    "    words = text.split() # Split string into words\n",
    "    words = [w for w in words if w not in stopwords.words(\"english\")] # Remove stopwords\n",
    "    words = [PorterStemmer().stem(w) for w in words] # stem\n",
    "    \n",
    "    return words"
   ]
  },
  {
   "cell_type": "markdown",
   "metadata": {},
   "source": [
    "The `review_to_words` method defined above uses `BeautifulSoup` to remove any html tags that appear and uses the `nltk` package to tokenize the reviews. As a check to ensure we know how everything is working, try applying `review_to_words` to one of the reviews in the training set."
   ]
  },
  {
   "cell_type": "code",
   "execution_count": 8,
   "metadata": {},
   "outputs": [
    {
     "name": "stdout",
     "output_type": "stream",
     "text": [
      "It has been said that Deanna Durbin invented teenagery. This first film was one of the best. The humorous story presented a delightful 14 year old Deanna, a little beauty with a gorgeous voice, as the \"Miss Fixit\" in a family split by divorce. For plot summary, see other IMDb entries, but quickly Deanna and her two older sisters plan to go to America from Switzerland to prevent their father from remarrying. With an excellent supporting cast especially Barbara Read and Nan Grey as the sisters, good direction and editing, the film succeeds in captivating one even on subsequent viewings. Of Deanna's three songs, only \"Il Bacio\" is from the classical repertoire, but when she sings it in that police station scene, the film's place in history is assured. At least it was for this viewer who at the age of 15 was smitten for life with both Deanna and classical music. One of the many nice touches that occur throughout THREE SMART GIRLS is the brief glimpse of the drunk stretching his neck for a final glimpse of Deanna as the cops hustle him by! One unfortunate result of the success of this film was that subsequent writers for Durbin vehicles became locked into the \"Miss Fixit\" theme, which quickly became stale. Deanna herself never did. Her stature as an actress is more questionable than her charisma, which she certainly had. It seems to me that, like many another film personality, she substituted \"naturalness\" for the histrionic ability that she lacked. The ploy worked well for 21 feature films.\n",
      "\n",
      "['said', 'deanna', 'durbin', 'invent', 'teenageri', 'first', 'film', 'one', 'best', 'humor', 'stori', 'present', 'delight', '14', 'year', 'old', 'deanna', 'littl', 'beauti', 'gorgeou', 'voic', 'miss', 'fixit', 'famili', 'split', 'divorc', 'plot', 'summari', 'see', 'imdb', 'entri', 'quickli', 'deanna', 'two', 'older', 'sister', 'plan', 'go', 'america', 'switzerland', 'prevent', 'father', 'remarri', 'excel', 'support', 'cast', 'especi', 'barbara', 'read', 'nan', 'grey', 'sister', 'good', 'direct', 'edit', 'film', 'succe', 'captiv', 'one', 'even', 'subsequ', 'view', 'deanna', 'three', 'song', 'il', 'bacio', 'classic', 'repertoir', 'sing', 'polic', 'station', 'scene', 'film', 'place', 'histori', 'assur', 'least', 'viewer', 'age', '15', 'smitten', 'life', 'deanna', 'classic', 'music', 'one', 'mani', 'nice', 'touch', 'occur', 'throughout', 'three', 'smart', 'girl', 'brief', 'glimps', 'drunk', 'stretch', 'neck', 'final', 'glimps', 'deanna', 'cop', 'hustl', 'one', 'unfortun', 'result', 'success', 'film', 'subsequ', 'writer', 'durbin', 'vehicl', 'becam', 'lock', 'miss', 'fixit', 'theme', 'quickli', 'becam', 'stale', 'deanna', 'never', 'statur', 'actress', 'question', 'charisma', 'certainli', 'seem', 'like', 'mani', 'anoth', 'film', 'person', 'substitut', 'natur', 'histrion', 'abil', 'lack', 'ploy', 'work', 'well', '21', 'featur', 'film']\n"
     ]
    }
   ],
   "source": [
    "# TODO: Apply review_to_words to a review (train_X[100] or any other review)\n",
    "sampleRow = train_X[100]\n",
    "print(sampleRow)\n",
    "print()\n",
    "print(review_to_words(sampleRow))"
   ]
  },
  {
   "cell_type": "markdown",
   "metadata": {},
   "source": [
    "**Question:** Above we mentioned that `review_to_words` method removes html formatting and allows us to tokenize the words found in a review, for example, converting *entertained* and *entertaining* into *entertain* so that they are treated as though they are the same word. What else, if anything, does this method do to the input?"
   ]
  },
  {
   "cell_type": "markdown",
   "metadata": {},
   "source": [
    "**Answer:** convert the words to lower cases, remove every character except a-z and digits, split the review to each word, remove the stop words"
   ]
  },
  {
   "cell_type": "markdown",
   "metadata": {},
   "source": [
    "The method below applies the `review_to_words` method to each of the reviews in the training and testing datasets. In addition it caches the results. This is because performing this processing step can take a long time. This way if you are unable to complete the notebook in the current session, you can come back without needing to process the data a second time."
   ]
  },
  {
   "cell_type": "code",
   "execution_count": 9,
   "metadata": {},
   "outputs": [],
   "source": [
    "import pickle\n",
    "\n",
    "cache_dir = os.path.join(\"../cache\", \"sentiment_analysis\")  # where to store cache files\n",
    "os.makedirs(cache_dir, exist_ok=True)  # ensure cache directory exists\n",
    "\n",
    "def preprocess_data(data_train, data_test, labels_train, labels_test,\n",
    "                    cache_dir=cache_dir, cache_file=\"preprocessed_data.pkl\"):\n",
    "    \"\"\"Convert each review to words; read from cache if available.\"\"\"\n",
    "\n",
    "    # If cache_file is not None, try to read from it first\n",
    "    cache_data = None\n",
    "    if cache_file is not None:\n",
    "        try:\n",
    "            with open(os.path.join(cache_dir, cache_file), \"rb\") as f:\n",
    "                cache_data = pickle.load(f)\n",
    "            print(\"Read preprocessed data from cache file:\", cache_file)\n",
    "        except:\n",
    "            pass  # unable to read from cache, but that's okay\n",
    "    \n",
    "    # If cache is missing, then do the heavy lifting\n",
    "    if cache_data is None:\n",
    "        # Preprocess training and test data to obtain words for each review\n",
    "        #words_train = list(map(review_to_words, data_train))\n",
    "        #words_test = list(map(review_to_words, data_test))\n",
    "        words_train = [review_to_words(review) for review in data_train]\n",
    "        words_test = [review_to_words(review) for review in data_test]\n",
    "        \n",
    "        # Write to cache file for future runs\n",
    "        if cache_file is not None:\n",
    "            cache_data = dict(words_train=words_train, words_test=words_test,\n",
    "                              labels_train=labels_train, labels_test=labels_test)\n",
    "            with open(os.path.join(cache_dir, cache_file), \"wb\") as f:\n",
    "                pickle.dump(cache_data, f)\n",
    "            print(\"Wrote preprocessed data to cache file:\", cache_file)\n",
    "    else:\n",
    "        # Unpack data loaded from cache file\n",
    "        words_train, words_test, labels_train, labels_test = (cache_data['words_train'],\n",
    "                cache_data['words_test'], cache_data['labels_train'], cache_data['labels_test'])\n",
    "    \n",
    "    return words_train, words_test, labels_train, labels_test"
   ]
  },
  {
   "cell_type": "code",
   "execution_count": 10,
   "metadata": {},
   "outputs": [
    {
     "name": "stdout",
     "output_type": "stream",
     "text": [
      "Read preprocessed data from cache file: preprocessed_data.pkl\n"
     ]
    }
   ],
   "source": [
    "# Preprocess data\n",
    "train_X, test_X, train_y, test_y = preprocess_data(train_X, test_X, train_y, test_y)"
   ]
  },
  {
   "cell_type": "markdown",
   "metadata": {},
   "source": [
    "## Transform the data\n",
    "\n",
    "In the XGBoost notebook we transformed the data from its word representation to a bag-of-words feature representation. For the model we are going to construct in this notebook we will construct a feature representation which is very similar. To start, we will represent each word as an integer. Of course, some of the words that appear in the reviews occur very infrequently and so likely don't contain much information for the purposes of sentiment analysis. The way we will deal with this problem is that we will fix the size of our working vocabulary and we will only include the words that appear most frequently. We will then combine all of the infrequent words into a single category and, in our case, we will label it as `1`.\n",
    "\n",
    "Since we will be using a recurrent neural network, it will be convenient if the length of each review is the same. To do this, we will fix a size for our reviews and then pad short reviews with the category 'no word' (which we will label `0`) and truncate long reviews."
   ]
  },
  {
   "cell_type": "markdown",
   "metadata": {},
   "source": [
    "### (TODO) Create a word dictionary\n",
    "\n",
    "To begin with, we need to construct a way to map words that appear in the reviews to integers. Here we fix the size of our vocabulary (including the 'no word' and 'infrequent' categories) to be `5000` but you may wish to change this to see how it affects the model.\n",
    "\n",
    "> **TODO:** Complete the implementation for the `build_dict()` method below. Note that even though the vocab_size is set to `5000`, we only want to construct a mapping for the most frequently appearing `4998` words. This is because we want to reserve the special labels `0` for 'no word' and `1` for 'infrequent word'."
   ]
  },
  {
   "cell_type": "code",
   "execution_count": 11,
   "metadata": {},
   "outputs": [
    {
     "name": "stdout",
     "output_type": "stream",
     "text": [
      "({'b': 2, 'a': 3, 'c': 4, 'e': 5, 'f': 6, '1': 7, '2': 8, '3': 9}, ['b', 'a', 'c', 'e', 'f', '1', '2', '3', '4'])\n"
     ]
    }
   ],
   "source": [
    "import numpy as np\n",
    "import itertools\n",
    "\n",
    "\n",
    "\n",
    "def build_dict(data, vocab_size = 5000):\n",
    "    \"\"\"Construct and return a dictionary mapping each of the most frequently appearing words to a unique integer.\"\"\"\n",
    "    \n",
    "    # TODO: Determine how often each word appears in `data`. Note that `data` is a list of sentences and that a\n",
    "    #       sentence is a list of words.\n",
    "    \n",
    "    word_count = {} # A dict storing the words that appear in the reviews along with how often they occur\n",
    "    \n",
    "    for word in itertools.chain.from_iterable(data):\n",
    "        if word not in word_count:\n",
    "            word_count[word] = 0\n",
    "        \n",
    "        word_count[word] = word_count[word] + 1\n",
    "            \n",
    "    # TODO: Sort the words found in `data` so that sorted_words[0] is the most frequently appearing word and\n",
    "    #       sorted_words[-1] is the least frequently appearing word.\n",
    "    \n",
    "    sorted_words = [k for k, v in sorted(word_count.items(), key=lambda item: item[1], reverse=True)]\n",
    "    \n",
    "    word_dict = {} # This is what we are building, a dictionary that translates words into integers\n",
    "    for idx, word in enumerate(sorted_words[:vocab_size - 2]): # The -2 is so that we save room for the 'no word'\n",
    "        word_dict[word] = idx + 2                              # 'infrequent' labels\n",
    "        \n",
    "    return (word_dict, sorted_words)\n",
    "\n",
    "test = [['a','b'], ['c', 'b'], ['e', 'b'], ['f', '1', '2', '3', '4']]\n",
    "print(build_dict(test, 10))"
   ]
  },
  {
   "cell_type": "code",
   "execution_count": 12,
   "metadata": {},
   "outputs": [
    {
     "name": "stdout",
     "output_type": "stream",
     "text": [
      "['movi', 'film', 'one', 'like', 'time', 'good', 'make', 'charact', 'get', 'see']\n"
     ]
    }
   ],
   "source": [
    "word_dict, sorted_words = build_dict(train_X)\n",
    "\n",
    "print(sorted_words[:10])"
   ]
  },
  {
   "cell_type": "markdown",
   "metadata": {},
   "source": [
    "**Question:** What are the five most frequently appearing (tokenized) words in the training set? Does it makes sense that these words appear frequently in the training set?"
   ]
  },
  {
   "cell_type": "markdown",
   "metadata": {},
   "source": [
    "**Answer:** Top five words are \"movie\", \"film\", \"one\" , \"like\" and \"time\". Yes, they do make sense since the topic is related to movies."
   ]
  },
  {
   "cell_type": "code",
   "execution_count": 13,
   "metadata": {},
   "outputs": [
    {
     "name": "stdout",
     "output_type": "stream",
     "text": [
      "['movi', 'film', 'one', 'like', 'time', 'good', 'make', 'charact', 'get', 'see']\n"
     ]
    }
   ],
   "source": [
    "# TODO: Use this space to determine the five most frequently appearing words in the training set.\n",
    "print(sorted_words[:10])"
   ]
  },
  {
   "cell_type": "markdown",
   "metadata": {},
   "source": [
    "### Save `word_dict`\n",
    "\n",
    "Later on when we construct an endpoint which processes a submitted review we will need to make use of the `word_dict` which we have created. As such, we will save it to a file now for future use."
   ]
  },
  {
   "cell_type": "code",
   "execution_count": 14,
   "metadata": {},
   "outputs": [],
   "source": [
    "data_dir = '../data/pytorch' # The folder we will use for storing data\n",
    "if not os.path.exists(data_dir): # Make sure that the folder exists\n",
    "    os.makedirs(data_dir)"
   ]
  },
  {
   "cell_type": "code",
   "execution_count": 15,
   "metadata": {},
   "outputs": [],
   "source": [
    "with open(os.path.join(data_dir, 'word_dict.pkl'), \"wb\") as f:\n",
    "    pickle.dump(word_dict, f)"
   ]
  },
  {
   "cell_type": "markdown",
   "metadata": {},
   "source": [
    "### Transform the reviews\n",
    "\n",
    "Now that we have our word dictionary which allows us to transform the words appearing in the reviews into integers, it is time to make use of it and convert our reviews to their integer sequence representation, making sure to pad or truncate to a fixed length, which in our case is `500`."
   ]
  },
  {
   "cell_type": "code",
   "execution_count": 16,
   "metadata": {},
   "outputs": [],
   "source": [
    "def convert_and_pad(word_dict, sentence, pad=500):\n",
    "    NOWORD = 0 # We will use 0 to represent the 'no word' category\n",
    "    INFREQ = 1 # and we use 1 to represent the infrequent words, i.e., words not appearing in word_dict\n",
    "    \n",
    "    working_sentence = [NOWORD] * pad\n",
    "    \n",
    "    for word_index, word in enumerate(sentence[:pad]):\n",
    "        if word in word_dict:\n",
    "            working_sentence[word_index] = word_dict[word]\n",
    "        else:\n",
    "            working_sentence[word_index] = INFREQ\n",
    "            \n",
    "    return working_sentence, min(len(sentence), pad)\n",
    "\n",
    "def convert_and_pad_data(word_dict, data, pad=500):\n",
    "    result = []\n",
    "    lengths = []\n",
    "    \n",
    "    for sentence in data:\n",
    "        converted, leng = convert_and_pad(word_dict, sentence, pad)\n",
    "        result.append(converted)\n",
    "        lengths.append(leng)\n",
    "        \n",
    "    return np.array(result), np.array(lengths)"
   ]
  },
  {
   "cell_type": "code",
   "execution_count": 17,
   "metadata": {},
   "outputs": [],
   "source": [
    "train_X, train_X_len = convert_and_pad_data(word_dict, train_X)\n",
    "test_X, test_X_len = convert_and_pad_data(word_dict, test_X)"
   ]
  },
  {
   "cell_type": "markdown",
   "metadata": {},
   "source": [
    "As a quick check to make sure that things are working as intended, check to see what one of the reviews in the training set looks like after having been processeed. Does this look reasonable? What is the length of a review in the training set?"
   ]
  },
  {
   "cell_type": "code",
   "execution_count": 18,
   "metadata": {},
   "outputs": [
    {
     "name": "stdout",
     "output_type": "stream",
     "text": [
      "[ 122  643  348  343  236  194 2349   21    1  192   40 2315 1380  678\n",
      "  833   15   29  143    1    1   13  826  274    1   96  814  439 3237\n",
      "    1  745  410  337    1    1  346 1805 2295    3   49  939  164    2\n",
      "   19 2851 1663  153  634 1922    1 4284   31    0    0    0    0    0\n",
      "    0    0    0    0    0    0    0    0    0    0    0    0    0    0\n",
      "    0    0    0    0    0    0    0    0    0    0    0    0    0    0\n",
      "    0    0    0    0    0    0    0    0    0    0    0    0    0    0\n",
      "    0    0    0    0    0    0    0    0    0    0    0    0    0    0\n",
      "    0    0    0    0    0    0    0    0    0    0    0    0    0    0\n",
      "    0    0    0    0    0    0    0    0    0    0    0    0    0    0\n",
      "    0    0    0    0    0    0    0    0    0    0    0    0    0    0\n",
      "    0    0    0    0    0    0    0    0    0    0    0    0    0    0\n",
      "    0    0    0    0    0    0    0    0    0    0    0    0    0    0\n",
      "    0    0    0    0    0    0    0    0    0    0    0    0    0    0\n",
      "    0    0    0    0    0    0    0    0    0    0    0    0    0    0\n",
      "    0    0    0    0    0    0    0    0    0    0    0    0    0    0\n",
      "    0    0    0    0    0    0    0    0    0    0    0    0    0    0\n",
      "    0    0    0    0    0    0    0    0    0    0    0    0    0    0\n",
      "    0    0    0    0    0    0    0    0    0    0    0    0    0    0\n",
      "    0    0    0    0    0    0    0    0    0    0    0    0    0    0\n",
      "    0    0    0    0    0    0    0    0    0    0    0    0    0    0\n",
      "    0    0    0    0    0    0    0    0    0    0    0    0    0    0\n",
      "    0    0    0    0    0    0    0    0    0    0    0    0    0    0\n",
      "    0    0    0    0    0    0    0    0    0    0    0    0    0    0\n",
      "    0    0    0    0    0    0    0    0    0    0    0    0    0    0\n",
      "    0    0    0    0    0    0    0    0    0    0    0    0    0    0\n",
      "    0    0    0    0    0    0    0    0    0    0    0    0    0    0\n",
      "    0    0    0    0    0    0    0    0    0    0    0    0    0    0\n",
      "    0    0    0    0    0    0    0    0    0    0    0    0    0    0\n",
      "    0    0    0    0    0    0    0    0    0    0    0    0    0    0\n",
      "    0    0    0    0    0    0    0    0    0    0    0    0    0    0\n",
      "    0    0    0    0    0    0    0    0    0    0    0    0    0    0\n",
      "    0    0    0    0    0    0    0    0    0    0    0    0    0    0\n",
      "    0    0    0    0    0    0    0    0    0    0    0    0    0    0\n",
      "    0    0    0    0    0    0    0    0    0    0    0    0    0    0\n",
      "    0    0    0    0    0    0    0    0    0    0]\n",
      "25000\n",
      "500\n"
     ]
    }
   ],
   "source": [
    "# Use this cell to examine one of the processed reviews to make sure everything is working as intended.\n",
    "print(train_X[0])\n",
    "print(len(train_X))\n",
    "print(len(train_X[0]))"
   ]
  },
  {
   "cell_type": "markdown",
   "metadata": {},
   "source": [
    "**Question:** In the cells above we use the `preprocess_data` and `convert_and_pad_data` methods to process both the training and testing set. Why or why not might this be a problem?"
   ]
  },
  {
   "cell_type": "markdown",
   "metadata": {},
   "source": [
    "**Answer:** The features has to be same in both test and train. for e.g. if word \"movie\" has different indices in train and test, model will not perform well on test data."
   ]
  },
  {
   "cell_type": "markdown",
   "metadata": {},
   "source": [
    "## Step 3: Upload the data to S3\n",
    "\n",
    "As in the XGBoost notebook, we will need to upload the training dataset to S3 in order for our training code to access it. For now we will save it locally and we will upload to S3 later on.\n",
    "\n",
    "### Save the processed training dataset locally\n",
    "\n",
    "It is important to note the format of the data that we are saving as we will need to know it when we write the training code. In our case, each row of the dataset has the form `label`, `length`, `review[500]` where `review[500]` is a sequence of `500` integers representing the words in the review."
   ]
  },
  {
   "cell_type": "code",
   "execution_count": 19,
   "metadata": {},
   "outputs": [],
   "source": [
    "import pandas as pd\n",
    "    \n",
    "pd.concat([pd.DataFrame(train_y), pd.DataFrame(train_X_len), pd.DataFrame(train_X)], axis=1) \\\n",
    "        .to_csv(os.path.join(data_dir, 'train.csv'), header=False, index=False)"
   ]
  },
  {
   "cell_type": "markdown",
   "metadata": {},
   "source": [
    "### Uploading the training data\n",
    "\n",
    "\n",
    "Next, we need to upload the training data to the SageMaker default S3 bucket so that we can provide access to it while training our model."
   ]
  },
  {
   "cell_type": "code",
   "execution_count": 20,
   "metadata": {},
   "outputs": [],
   "source": [
    "import sagemaker\n",
    "\n",
    "sagemaker_session = sagemaker.Session()\n",
    "\n",
    "bucket = sagemaker_session.default_bucket()\n",
    "prefix = 'sagemaker/sentiment_rnn'\n",
    "\n",
    "role = sagemaker.get_execution_role()"
   ]
  },
  {
   "cell_type": "code",
   "execution_count": 21,
   "metadata": {},
   "outputs": [],
   "source": [
    "input_data = sagemaker_session.upload_data(path=data_dir, bucket=bucket, key_prefix=prefix)"
   ]
  },
  {
   "cell_type": "markdown",
   "metadata": {},
   "source": [
    "**NOTE:** The cell above uploads the entire contents of our data directory. This includes the `word_dict.pkl` file. This is fortunate as we will need this later on when we create an endpoint that accepts an arbitrary review. For now, we will just take note of the fact that it resides in the data directory (and so also in the S3 training bucket) and that we will need to make sure it gets saved in the model directory."
   ]
  },
  {
   "cell_type": "markdown",
   "metadata": {},
   "source": [
    "## Step 4: Build and Train the PyTorch Model\n",
    "\n",
    "In the XGBoost notebook we discussed what a model is in the SageMaker framework. In particular, a model comprises three objects\n",
    "\n",
    " - Model Artifacts,\n",
    " - Training Code, and\n",
    " - Inference Code,\n",
    " \n",
    "each of which interact with one another. In the XGBoost example we used training and inference code that was provided by Amazon. Here we will still be using containers provided by Amazon with the added benefit of being able to include our own custom code.\n",
    "\n",
    "We will start by implementing our own neural network in PyTorch along with a training script. For the purposes of this project we have provided the necessary model object in the `model.py` file, inside of the `train` folder. You can see the provided implementation by running the cell below."
   ]
  },
  {
   "cell_type": "code",
   "execution_count": 22,
   "metadata": {},
   "outputs": [
    {
     "name": "stdout",
     "output_type": "stream",
     "text": [
      "\u001b[34mimport\u001b[39;49;00m \u001b[04m\u001b[36mtorch\u001b[39;49;00m\u001b[04m\u001b[36m.\u001b[39;49;00m\u001b[04m\u001b[36mnn\u001b[39;49;00m \u001b[34mas\u001b[39;49;00m \u001b[04m\u001b[36mnn\u001b[39;49;00m\r\n",
      "\r\n",
      "\u001b[34mclass\u001b[39;49;00m \u001b[04m\u001b[32mLSTMClassifier\u001b[39;49;00m(nn.Module):\r\n",
      "    \u001b[33m\"\"\"\u001b[39;49;00m\r\n",
      "\u001b[33m    This is the simple RNN model we will be using to perform Sentiment Analysis.\u001b[39;49;00m\r\n",
      "\u001b[33m    \"\"\"\u001b[39;49;00m\r\n",
      "\r\n",
      "    \u001b[34mdef\u001b[39;49;00m \u001b[32m__init__\u001b[39;49;00m(\u001b[36mself\u001b[39;49;00m, embedding_dim, hidden_dim, vocab_size):\r\n",
      "        \u001b[33m\"\"\"\u001b[39;49;00m\r\n",
      "\u001b[33m        Initialize the model by settingg up the various layers.\u001b[39;49;00m\r\n",
      "\u001b[33m        \"\"\"\u001b[39;49;00m\r\n",
      "        \u001b[36msuper\u001b[39;49;00m(LSTMClassifier, \u001b[36mself\u001b[39;49;00m).\u001b[32m__init__\u001b[39;49;00m()\r\n",
      "\r\n",
      "        \u001b[36mself\u001b[39;49;00m.embedding = nn.Embedding(vocab_size, embedding_dim, padding_idx=\u001b[34m0\u001b[39;49;00m)\r\n",
      "        \u001b[36mself\u001b[39;49;00m.lstm = nn.LSTM(embedding_dim, hidden_dim)\r\n",
      "        \u001b[36mself\u001b[39;49;00m.dense = nn.Linear(in_features=hidden_dim, out_features=\u001b[34m1\u001b[39;49;00m)\r\n",
      "        \u001b[36mself\u001b[39;49;00m.sig = nn.Sigmoid()\r\n",
      "        \r\n",
      "        \u001b[36mself\u001b[39;49;00m.word_dict = \u001b[34mNone\u001b[39;49;00m\r\n",
      "\r\n",
      "    \u001b[34mdef\u001b[39;49;00m \u001b[32mforward\u001b[39;49;00m(\u001b[36mself\u001b[39;49;00m, x):\r\n",
      "        \u001b[33m\"\"\"\u001b[39;49;00m\r\n",
      "\u001b[33m        Perform a forward pass of our model on some input.\u001b[39;49;00m\r\n",
      "\u001b[33m        \"\"\"\u001b[39;49;00m\r\n",
      "        x = x.t()\r\n",
      "        lengths = x[\u001b[34m0\u001b[39;49;00m,:]\r\n",
      "        reviews = x[\u001b[34m1\u001b[39;49;00m:,:]\r\n",
      "        embeds = \u001b[36mself\u001b[39;49;00m.embedding(reviews)\r\n",
      "        lstm_out, _ = \u001b[36mself\u001b[39;49;00m.lstm(embeds)\r\n",
      "        out = \u001b[36mself\u001b[39;49;00m.dense(lstm_out)\r\n",
      "        out = out[lengths - \u001b[34m1\u001b[39;49;00m, \u001b[36mrange\u001b[39;49;00m(\u001b[36mlen\u001b[39;49;00m(lengths))]\r\n",
      "        \u001b[34mreturn\u001b[39;49;00m \u001b[36mself\u001b[39;49;00m.sig(out.squeeze())\r\n"
     ]
    }
   ],
   "source": [
    "!pygmentize train/model.py"
   ]
  },
  {
   "cell_type": "markdown",
   "metadata": {},
   "source": [
    "The important takeaway from the implementation provided is that there are three parameters that we may wish to tweak to improve the performance of our model. These are the embedding dimension, the hidden dimension and the size of the vocabulary. We will likely want to make these parameters configurable in the training script so that if we wish to modify them we do not need to modify the script itself. We will see how to do this later on. To start we will write some of the training code in the notebook so that we can more easily diagnose any issues that arise.\n",
    "\n",
    "First we will load a small portion of the training data set to use as a sample. It would be very time consuming to try and train the model completely in the notebook as we do not have access to a gpu and the compute instance that we are using is not particularly powerful. However, we can work on a small bit of the data to get a feel for how our training script is behaving."
   ]
  },
  {
   "cell_type": "code",
   "execution_count": 23,
   "metadata": {},
   "outputs": [
    {
     "name": "stdout",
     "output_type": "stream",
     "text": [
      "250\n",
      "250\n"
     ]
    }
   ],
   "source": [
    "import torch\n",
    "import torch.utils.data\n",
    "import pandas as pd\n",
    "\n",
    "# Read in only the first 250 rows\n",
    "train_sample = pd.read_csv(os.path.join(data_dir, 'train.csv'), header=None, names=None, nrows=250)\n",
    "\n",
    "# Turn the input pandas dataframe into tensors\n",
    "train_sample_y = torch.from_numpy(train_sample[[0]].values).float().squeeze()\n",
    "train_sample_X = torch.from_numpy(train_sample.drop([0], axis=1).values).long()\n",
    "\n",
    "print(len(train_sample_X))\n",
    "print(len(train_sample[[0]].values))\n",
    "# Build the dataset\n",
    "train_sample_ds = torch.utils.data.TensorDataset(train_sample_X, train_sample_y)\n",
    "# Build the dataloader\n",
    "train_sample_dl = torch.utils.data.DataLoader(train_sample_ds, batch_size=50)"
   ]
  },
  {
   "cell_type": "markdown",
   "metadata": {},
   "source": [
    "### (TODO) Writing the training method\n",
    "\n",
    "Next we need to write the training code itself. This should be very similar to training methods that you have written before to train PyTorch models. We will leave any difficult aspects such as model saving / loading and parameter loading until a little later."
   ]
  },
  {
   "cell_type": "code",
   "execution_count": 24,
   "metadata": {},
   "outputs": [],
   "source": [
    "def train(model, train_loader, epochs, optimizer, loss_fn, device):\n",
    "    for epoch in range(1, epochs + 1):\n",
    "        model.train()\n",
    "        total_loss = 0\n",
    "        for batch in train_loader:         \n",
    "            batch_X, batch_y = batch\n",
    "            \n",
    "            batch_X = batch_X.to(device)\n",
    "            batch_y = batch_y.to(device)\n",
    "            \n",
    "            # TODO: Complete this train method to train the model provided.\n",
    "            epochBatchOutput = model.forward(batch_X)\n",
    "            loss = loss_fn(epochBatchOutput, batch_y)\n",
    "            total_loss += loss.data.item()\n",
    "            loss.backward()\n",
    "            optimizer.step()\n",
    "            \n",
    "\n",
    "        print(\"Epoch: {}, BCELoss: {}\".format(epoch, total_loss / len(train_loader)))"
   ]
  },
  {
   "cell_type": "markdown",
   "metadata": {},
   "source": [
    "Supposing we have the training method above, we will test that it is working by writing a bit of code in the notebook that executes our training method on the small sample training set that we loaded earlier. The reason for doing this in the notebook is so that we have an opportunity to fix any errors that arise early when they are easier to diagnose."
   ]
  },
  {
   "cell_type": "code",
   "execution_count": 25,
   "metadata": {},
   "outputs": [
    {
     "name": "stdout",
     "output_type": "stream",
     "text": [
      "Epoch: 1, BCELoss: 0.694225299358368\n",
      "Epoch: 2, BCELoss: 0.6823102831840515\n",
      "Epoch: 3, BCELoss: 0.6687436580657959\n",
      "Epoch: 4, BCELoss: 0.6509913325309753\n",
      "Epoch: 5, BCELoss: 0.624017870426178\n",
      "Epoch: 6, BCELoss: 0.5778302311897278\n",
      "Epoch: 7, BCELoss: 0.5636981666088104\n",
      "Epoch: 8, BCELoss: 0.7847015142440796\n",
      "Epoch: 9, BCELoss: 0.8171531558036804\n",
      "Epoch: 10, BCELoss: 0.6245692491531372\n",
      "Epoch: 11, BCELoss: 0.575008225440979\n",
      "Epoch: 12, BCELoss: 0.563104772567749\n",
      "Epoch: 13, BCELoss: 0.5574711799621582\n",
      "Epoch: 14, BCELoss: 0.5508002042770386\n",
      "Epoch: 15, BCELoss: 0.5412641167640686\n",
      "Epoch: 16, BCELoss: 0.528342604637146\n",
      "Epoch: 17, BCELoss: 0.5118260741233825\n",
      "Epoch: 18, BCELoss: 0.4915971696376801\n",
      "Epoch: 19, BCELoss: 0.46760618686676025\n",
      "Epoch: 20, BCELoss: 0.43993911147117615\n"
     ]
    }
   ],
   "source": [
    "import torch.optim as optim\n",
    "from train.model import LSTMClassifier\n",
    "\n",
    "device = torch.device(\"cuda\" if torch.cuda.is_available() else \"cpu\")\n",
    "model = LSTMClassifier(32, 100, 5000).to(device)\n",
    "optimizer = optim.Adam(model.parameters())\n",
    "loss_fn = torch.nn.BCELoss()\n",
    "\n",
    "train(model, train_sample_dl, 20, optimizer, loss_fn, device)"
   ]
  },
  {
   "cell_type": "markdown",
   "metadata": {},
   "source": [
    "In order to construct a PyTorch model using SageMaker we must provide SageMaker with a training script. We may optionally include a directory which will be copied to the container and from which our training code will be run. When the training container is executed it will check the uploaded directory (if there is one) for a `requirements.txt` file and install any required Python libraries, after which the training script will be run."
   ]
  },
  {
   "cell_type": "markdown",
   "metadata": {},
   "source": [
    "### (TODO) Training the model\n",
    "\n",
    "When a PyTorch model is constructed in SageMaker, an entry point must be specified. This is the Python file which will be executed when the model is trained. Inside of the `train` directory is a file called `train.py` which has been provided and which contains most of the necessary code to train our model. The only thing that is missing is the implementation of the `train()` method which you wrote earlier in this notebook.\n",
    "\n",
    "**TODO**: Copy the `train()` method written above and paste it into the `train/train.py` file where required.\n",
    "\n",
    "The way that SageMaker passes hyperparameters to the training script is by way of arguments. These arguments can then be parsed and used in the training script. To see how this is done take a look at the provided `train/train.py` file."
   ]
  },
  {
   "cell_type": "code",
   "execution_count": 26,
   "metadata": {},
   "outputs": [],
   "source": [
    "from sagemaker.pytorch import PyTorch\n",
    "\n",
    "estimator = PyTorch(entry_point=\"train.py\",\n",
    "                    source_dir=\"train\",\n",
    "                    role=role,\n",
    "                    framework_version='0.4.0',\n",
    "                    train_instance_count=1,\n",
    "                    train_instance_type='ml.p2.xlarge',\n",
    "                    hyperparameters={\n",
    "                        'epochs': 10,\n",
    "                        'hidden_dim': 200,\n",
    "                    })"
   ]
  },
  {
   "cell_type": "code",
   "execution_count": 30,
   "metadata": {},
   "outputs": [
    {
     "name": "stderr",
     "output_type": "stream",
     "text": [
      "'create_image_uri' will be deprecated in favor of 'ImageURIProvider' class in SageMaker Python SDK v2.\n",
      "'s3_input' class will be renamed to 'TrainingInput' in SageMaker Python SDK v2.\n",
      "'create_image_uri' will be deprecated in favor of 'ImageURIProvider' class in SageMaker Python SDK v2.\n"
     ]
    },
    {
     "name": "stdout",
     "output_type": "stream",
     "text": [
      "2020-08-05 06:34:36 Starting - Starting the training job...\n",
      "2020-08-05 06:34:38 Starting - Launching requested ML instances......\n",
      "2020-08-05 06:35:48 Starting - Preparing the instances for training......\n",
      "2020-08-05 06:36:51 Downloading - Downloading input data...\n",
      "2020-08-05 06:37:35 Training - Downloading the training image...\n",
      "2020-08-05 06:37:59 Training - Training image download completed. Training in progress..\u001b[34mbash: cannot set terminal process group (-1): Inappropriate ioctl for device\u001b[0m\n",
      "\u001b[34mbash: no job control in this shell\u001b[0m\n",
      "\u001b[34m2020-08-05 06:37:59,757 sagemaker-containers INFO     Imported framework sagemaker_pytorch_container.training\u001b[0m\n",
      "\u001b[34m2020-08-05 06:37:59,784 sagemaker_pytorch_container.training INFO     Block until all host DNS lookups succeed.\u001b[0m\n",
      "\u001b[34m2020-08-05 06:38:02,809 sagemaker_pytorch_container.training INFO     Invoking user training script.\u001b[0m\n",
      "\u001b[34m2020-08-05 06:38:03,052 sagemaker-containers INFO     Module train does not provide a setup.py. \u001b[0m\n",
      "\u001b[34mGenerating setup.py\u001b[0m\n",
      "\u001b[34m2020-08-05 06:38:03,053 sagemaker-containers INFO     Generating setup.cfg\u001b[0m\n",
      "\u001b[34m2020-08-05 06:38:03,053 sagemaker-containers INFO     Generating MANIFEST.in\u001b[0m\n",
      "\u001b[34m2020-08-05 06:38:03,053 sagemaker-containers INFO     Installing module with the following command:\u001b[0m\n",
      "\u001b[34m/usr/bin/python -m pip install -U . -r requirements.txt\u001b[0m\n",
      "\u001b[34mProcessing /opt/ml/code\u001b[0m\n",
      "\u001b[34mCollecting pandas (from -r requirements.txt (line 1))\n",
      "  Downloading https://files.pythonhosted.org/packages/74/24/0cdbf8907e1e3bc5a8da03345c23cbed7044330bb8f73bb12e711a640a00/pandas-0.24.2-cp35-cp35m-manylinux1_x86_64.whl (10.0MB)\u001b[0m\n",
      "\u001b[34mCollecting numpy (from -r requirements.txt (line 2))\u001b[0m\n",
      "\u001b[34m  Downloading https://files.pythonhosted.org/packages/b5/36/88723426b4ff576809fec7d73594fe17a35c27f8d01f93637637a29ae25b/numpy-1.18.5-cp35-cp35m-manylinux1_x86_64.whl (19.9MB)\u001b[0m\n",
      "\u001b[34mCollecting nltk (from -r requirements.txt (line 3))\n",
      "  Downloading https://files.pythonhosted.org/packages/92/75/ce35194d8e3022203cca0d2f896dbb88689f9b3fce8e9f9cff942913519d/nltk-3.5.zip (1.4MB)\u001b[0m\n",
      "\u001b[34mCollecting beautifulsoup4 (from -r requirements.txt (line 4))\n",
      "  Downloading https://files.pythonhosted.org/packages/66/25/ff030e2437265616a1e9b25ccc864e0371a0bc3adb7c5a404fd661c6f4f6/beautifulsoup4-4.9.1-py3-none-any.whl (115kB)\u001b[0m\n",
      "\u001b[34mCollecting html5lib (from -r requirements.txt (line 5))\n",
      "  Downloading https://files.pythonhosted.org/packages/6c/dd/a834df6482147d48e225a49515aabc28974ad5a4ca3215c18a882565b028/html5lib-1.1-py2.py3-none-any.whl (112kB)\u001b[0m\n",
      "\u001b[34mCollecting pytz>=2011k (from pandas->-r requirements.txt (line 1))\n",
      "  Downloading https://files.pythonhosted.org/packages/4f/a4/879454d49688e2fad93e59d7d4efda580b783c745fd2ec2a3adf87b0808d/pytz-2020.1-py2.py3-none-any.whl (510kB)\u001b[0m\n",
      "\u001b[34mRequirement already satisfied, skipping upgrade: python-dateutil>=2.5.0 in /usr/local/lib/python3.5/dist-packages (from pandas->-r requirements.txt (line 1)) (2.7.5)\u001b[0m\n",
      "\u001b[34mRequirement already satisfied, skipping upgrade: click in /usr/local/lib/python3.5/dist-packages (from nltk->-r requirements.txt (line 3)) (7.0)\u001b[0m\n",
      "\u001b[34mCollecting joblib (from nltk->-r requirements.txt (line 3))\n",
      "  Downloading https://files.pythonhosted.org/packages/28/5c/cf6a2b65a321c4a209efcdf64c2689efae2cb62661f8f6f4bb28547cf1bf/joblib-0.14.1-py2.py3-none-any.whl (294kB)\u001b[0m\n",
      "\u001b[34mCollecting regex (from nltk->-r requirements.txt (line 3))\u001b[0m\n",
      "\u001b[34m  Downloading https://files.pythonhosted.org/packages/09/c3/ddaa87500f31ed86290e3d014c0302a51fde28d7139eda0b5f33733726db/regex-2020.7.14.tar.gz (690kB)\u001b[0m\n",
      "\u001b[34mCollecting tqdm (from nltk->-r requirements.txt (line 3))\n",
      "  Downloading https://files.pythonhosted.org/packages/28/7e/281edb5bc3274dfb894d90f4dbacfceaca381c2435ec6187a2c6f329aed7/tqdm-4.48.2-py2.py3-none-any.whl (68kB)\u001b[0m\n",
      "\u001b[34mCollecting soupsieve>1.2 (from beautifulsoup4->-r requirements.txt (line 4))\n",
      "  Downloading https://files.pythonhosted.org/packages/6f/8f/457f4a5390eeae1cc3aeab89deb7724c965be841ffca6cfca9197482e470/soupsieve-2.0.1-py3-none-any.whl\u001b[0m\n",
      "\u001b[34mRequirement already satisfied, skipping upgrade: six>=1.9 in /usr/local/lib/python3.5/dist-packages (from html5lib->-r requirements.txt (line 5)) (1.11.0)\u001b[0m\n",
      "\u001b[34mCollecting webencodings (from html5lib->-r requirements.txt (line 5))\n",
      "  Downloading https://files.pythonhosted.org/packages/f4/24/2a3e3df732393fed8b3ebf2ec078f05546de641fe1b667ee316ec1dcf3b7/webencodings-0.5.1-py2.py3-none-any.whl\u001b[0m\n",
      "\u001b[34mBuilding wheels for collected packages: nltk, train, regex\n",
      "  Running setup.py bdist_wheel for nltk: started\u001b[0m\n",
      "\u001b[34m  Running setup.py bdist_wheel for nltk: finished with status 'done'\n",
      "  Stored in directory: /root/.cache/pip/wheels/ae/8c/3f/b1fe0ba04555b08b57ab52ab7f86023639a526d8bc8d384306\n",
      "  Running setup.py bdist_wheel for train: started\n",
      "  Running setup.py bdist_wheel for train: finished with status 'done'\n",
      "  Stored in directory: /tmp/pip-ephem-wheel-cache-igfks6id/wheels/35/24/16/37574d11bf9bde50616c67372a334f94fa8356bc7164af8ca3\n",
      "  Running setup.py bdist_wheel for regex: started\u001b[0m\n",
      "\u001b[34m  Running setup.py bdist_wheel for regex: finished with status 'done'\n",
      "  Stored in directory: /root/.cache/pip/wheels/53/55/dc/e17fa4568958f4c53be34b65e474a1327b64641f65df379ec3\u001b[0m\n",
      "\u001b[34mSuccessfully built nltk train regex\u001b[0m\n",
      "\u001b[34mInstalling collected packages: pytz, numpy, pandas, joblib, regex, tqdm, nltk, soupsieve, beautifulsoup4, webencodings, html5lib, train\n",
      "  Found existing installation: numpy 1.15.4\n",
      "    Uninstalling numpy-1.15.4:\u001b[0m\n",
      "\u001b[34m      Successfully uninstalled numpy-1.15.4\u001b[0m\n",
      "\u001b[34mSuccessfully installed beautifulsoup4-4.9.1 html5lib-1.1 joblib-0.14.1 nltk-3.5 numpy-1.18.5 pandas-0.24.2 pytz-2020.1 regex-2020.7.14 soupsieve-2.0.1 tqdm-4.48.2 train-1.0.0 webencodings-0.5.1\u001b[0m\n",
      "\u001b[34mYou are using pip version 18.1, however version 20.2.1 is available.\u001b[0m\n",
      "\u001b[34mYou should consider upgrading via the 'pip install --upgrade pip' command.\u001b[0m\n",
      "\u001b[34m2020-08-05 06:38:26,936 sagemaker-containers INFO     Invoking user script\n",
      "\u001b[0m\n",
      "\u001b[34mTraining Env:\n",
      "\u001b[0m\n",
      "\u001b[34m{\n",
      "    \"network_interface_name\": \"eth0\",\n",
      "    \"model_dir\": \"/opt/ml/model\",\n",
      "    \"log_level\": 20,\n",
      "    \"input_config_dir\": \"/opt/ml/input/config\",\n",
      "    \"module_dir\": \"s3://sagemaker-us-west-2-941193757500/sagemaker-pytorch-2020-08-05-06-34-36-220/source/sourcedir.tar.gz\",\n",
      "    \"hyperparameters\": {\n",
      "        \"hidden_dim\": 200,\n",
      "        \"epochs\": 10\n",
      "    },\n",
      "    \"output_intermediate_dir\": \"/opt/ml/output/intermediate\",\n",
      "    \"output_dir\": \"/opt/ml/output\",\n",
      "    \"additional_framework_parameters\": {},\n",
      "    \"num_cpus\": 4,\n",
      "    \"hosts\": [\n",
      "        \"algo-1\"\n",
      "    ],\n",
      "    \"user_entry_point\": \"train.py\",\n",
      "    \"output_data_dir\": \"/opt/ml/output/data\",\n",
      "    \"input_data_config\": {\n",
      "        \"training\": {\n",
      "            \"RecordWrapperType\": \"None\",\n",
      "            \"TrainingInputMode\": \"File\",\n",
      "            \"S3DistributionType\": \"FullyReplicated\"\n",
      "        }\n",
      "    },\n",
      "    \"module_name\": \"train\",\n",
      "    \"num_gpus\": 1,\n",
      "    \"resource_config\": {\n",
      "        \"current_host\": \"algo-1\",\n",
      "        \"hosts\": [\n",
      "            \"algo-1\"\n",
      "        ],\n",
      "        \"network_interface_name\": \"eth0\"\n",
      "    },\n",
      "    \"framework_module\": \"sagemaker_pytorch_container.training:main\",\n",
      "    \"channel_input_dirs\": {\n",
      "        \"training\": \"/opt/ml/input/data/training\"\n",
      "    },\n",
      "    \"job_name\": \"sagemaker-pytorch-2020-08-05-06-34-36-220\",\n",
      "    \"current_host\": \"algo-1\",\n",
      "    \"input_dir\": \"/opt/ml/input\"\u001b[0m\n",
      "\u001b[34m}\n",
      "\u001b[0m\n",
      "\u001b[34mEnvironment variables:\n",
      "\u001b[0m\n",
      "\u001b[34mSM_TRAINING_ENV={\"additional_framework_parameters\":{},\"channel_input_dirs\":{\"training\":\"/opt/ml/input/data/training\"},\"current_host\":\"algo-1\",\"framework_module\":\"sagemaker_pytorch_container.training:main\",\"hosts\":[\"algo-1\"],\"hyperparameters\":{\"epochs\":10,\"hidden_dim\":200},\"input_config_dir\":\"/opt/ml/input/config\",\"input_data_config\":{\"training\":{\"RecordWrapperType\":\"None\",\"S3DistributionType\":\"FullyReplicated\",\"TrainingInputMode\":\"File\"}},\"input_dir\":\"/opt/ml/input\",\"job_name\":\"sagemaker-pytorch-2020-08-05-06-34-36-220\",\"log_level\":20,\"model_dir\":\"/opt/ml/model\",\"module_dir\":\"s3://sagemaker-us-west-2-941193757500/sagemaker-pytorch-2020-08-05-06-34-36-220/source/sourcedir.tar.gz\",\"module_name\":\"train\",\"network_interface_name\":\"eth0\",\"num_cpus\":4,\"num_gpus\":1,\"output_data_dir\":\"/opt/ml/output/data\",\"output_dir\":\"/opt/ml/output\",\"output_intermediate_dir\":\"/opt/ml/output/intermediate\",\"resource_config\":{\"current_host\":\"algo-1\",\"hosts\":[\"algo-1\"],\"network_interface_name\":\"eth0\"},\"user_entry_point\":\"train.py\"}\u001b[0m\n",
      "\u001b[34mSM_INPUT_DATA_CONFIG={\"training\":{\"RecordWrapperType\":\"None\",\"S3DistributionType\":\"FullyReplicated\",\"TrainingInputMode\":\"File\"}}\u001b[0m\n",
      "\u001b[34mSM_HOSTS=[\"algo-1\"]\u001b[0m\n",
      "\u001b[34mSM_FRAMEWORK_PARAMS={}\u001b[0m\n",
      "\u001b[34mSM_CHANNEL_TRAINING=/opt/ml/input/data/training\u001b[0m\n",
      "\u001b[34mSM_USER_ARGS=[\"--epochs\",\"10\",\"--hidden_dim\",\"200\"]\u001b[0m\n",
      "\u001b[34mSM_OUTPUT_DIR=/opt/ml/output\u001b[0m\n",
      "\u001b[34mSM_HP_HIDDEN_DIM=200\u001b[0m\n",
      "\u001b[34mSM_OUTPUT_DATA_DIR=/opt/ml/output/data\u001b[0m\n",
      "\u001b[34mSM_MODULE_NAME=train\u001b[0m\n",
      "\u001b[34mSM_MODEL_DIR=/opt/ml/model\u001b[0m\n",
      "\u001b[34mSM_NUM_GPUS=1\u001b[0m\n",
      "\u001b[34mSM_HP_EPOCHS=10\u001b[0m\n",
      "\u001b[34mSM_LOG_LEVEL=20\u001b[0m\n",
      "\u001b[34mSM_INPUT_CONFIG_DIR=/opt/ml/input/config\u001b[0m\n",
      "\u001b[34mSM_NUM_CPUS=4\u001b[0m\n",
      "\u001b[34mSM_INPUT_DIR=/opt/ml/input\u001b[0m\n",
      "\u001b[34mSM_FRAMEWORK_MODULE=sagemaker_pytorch_container.training:main\u001b[0m\n",
      "\u001b[34mSM_OUTPUT_INTERMEDIATE_DIR=/opt/ml/output/intermediate\u001b[0m\n",
      "\u001b[34mSM_USER_ENTRY_POINT=train.py\u001b[0m\n",
      "\u001b[34mSM_HPS={\"epochs\":10,\"hidden_dim\":200}\u001b[0m\n",
      "\u001b[34mSM_NETWORK_INTERFACE_NAME=eth0\u001b[0m\n",
      "\u001b[34mSM_RESOURCE_CONFIG={\"current_host\":\"algo-1\",\"hosts\":[\"algo-1\"],\"network_interface_name\":\"eth0\"}\u001b[0m\n",
      "\u001b[34mSM_MODULE_DIR=s3://sagemaker-us-west-2-941193757500/sagemaker-pytorch-2020-08-05-06-34-36-220/source/sourcedir.tar.gz\u001b[0m\n",
      "\u001b[34mSM_CURRENT_HOST=algo-1\u001b[0m\n",
      "\u001b[34mPYTHONPATH=/usr/local/bin:/usr/lib/python35.zip:/usr/lib/python3.5:/usr/lib/python3.5/plat-x86_64-linux-gnu:/usr/lib/python3.5/lib-dynload:/usr/local/lib/python3.5/dist-packages:/usr/lib/python3/dist-packages\u001b[0m\n",
      "\u001b[34mSM_CHANNELS=[\"training\"]\n",
      "\u001b[0m\n",
      "\u001b[34mInvoking script with the following command:\n",
      "\u001b[0m\n",
      "\u001b[34m/usr/bin/python -m train --epochs 10 --hidden_dim 200\n",
      "\n",
      "\u001b[0m\n",
      "\u001b[34mUsing device cuda.\u001b[0m\n",
      "\u001b[34mGet train data loader.\u001b[0m\n"
     ]
    },
    {
     "name": "stdout",
     "output_type": "stream",
     "text": [
      "\u001b[34mModel loaded with embedding_dim 32, hidden_dim 200, vocab_size 5000.\u001b[0m\n",
      "\u001b[34mEpoch: 1, BCELoss: 0.6828513559030027\u001b[0m\n",
      "\u001b[34mEpoch: 2, BCELoss: 0.6514361488575838\u001b[0m\n",
      "\u001b[34mEpoch: 3, BCELoss: 0.6143366074075505\u001b[0m\n",
      "\u001b[34mEpoch: 4, BCELoss: 0.5582141000397352\u001b[0m\n",
      "\u001b[34mEpoch: 5, BCELoss: 0.5484641662665776\u001b[0m\n",
      "\u001b[34mEpoch: 6, BCELoss: 0.5380215772560665\u001b[0m\n",
      "\u001b[34mEpoch: 7, BCELoss: 0.6082312513370903\u001b[0m\n",
      "\u001b[34mEpoch: 8, BCELoss: 0.5631555653348261\u001b[0m\n",
      "\u001b[34mEpoch: 9, BCELoss: 0.5414475093082506\u001b[0m\n",
      "\n",
      "2020-08-05 06:41:34 Uploading - Uploading generated training model\n",
      "2020-08-05 06:41:34 Completed - Training job completed\n",
      "\u001b[34mEpoch: 10, BCELoss: 0.47588611439782746\u001b[0m\n",
      "\u001b[34m2020-08-05 06:41:26,220 sagemaker-containers INFO     Reporting training SUCCESS\u001b[0m\n",
      "Training seconds: 283\n",
      "Billable seconds: 283\n"
     ]
    }
   ],
   "source": [
    "estimator.fit({'training': input_data})"
   ]
  },
  {
   "cell_type": "markdown",
   "metadata": {},
   "source": [
    "## Step 5: Testing the model\n",
    "\n",
    "As mentioned at the top of this notebook, we will be testing this model by first deploying it and then sending the testing data to the deployed endpoint. We will do this so that we can make sure that the deployed model is working correctly.\n",
    "\n",
    "## Step 6: Deploy the model for testing\n",
    "\n",
    "Now that we have trained our model, we would like to test it to see how it performs. Currently our model takes input of the form `review_length, review[500]` where `review[500]` is a sequence of `500` integers which describe the words present in the review, encoded using `word_dict`. Fortunately for us, SageMaker provides built-in inference code for models with simple inputs such as this.\n",
    "\n",
    "There is one thing that we need to provide, however, and that is a function which loads the saved model. This function must be called `model_fn()` and takes as its only parameter a path to the directory where the model artifacts are stored. This function must also be present in the python file which we specified as the entry point. In our case the model loading function has been provided and so no changes need to be made.\n",
    "\n",
    "**NOTE**: When the built-in inference code is run it must import the `model_fn()` method from the `train.py` file. This is why the training code is wrapped in a main guard ( ie, `if __name__ == '__main__':` )\n",
    "\n",
    "Since we don't need to change anything in the code that was uploaded during training, we can simply deploy the current model as-is.\n",
    "\n",
    "**NOTE:** When deploying a model you are asking SageMaker to launch an compute instance that will wait for data to be sent to it. As a result, this compute instance will continue to run until *you* shut it down. This is important to know since the cost of a deployed endpoint depends on how long it has been running for.\n",
    "\n",
    "In other words **If you are no longer using a deployed endpoint, shut it down!**\n",
    "\n",
    "**TODO:** Deploy the trained model."
   ]
  },
  {
   "cell_type": "code",
   "execution_count": 31,
   "metadata": {},
   "outputs": [
    {
     "name": "stderr",
     "output_type": "stream",
     "text": [
      "Parameter image will be renamed to image_uri in SageMaker Python SDK v2.\n",
      "'create_image_uri' will be deprecated in favor of 'ImageURIProvider' class in SageMaker Python SDK v2.\n"
     ]
    },
    {
     "name": "stdout",
     "output_type": "stream",
     "text": [
      "---------------!"
     ]
    }
   ],
   "source": [
    "# TODO: Deploy the trained model\n",
    "\n",
    "predictor = estimator.deploy(initial_instance_count = 1, instance_type = 'ml.m4.xlarge')"
   ]
  },
  {
   "cell_type": "markdown",
   "metadata": {},
   "source": [
    "## Step 7 - Use the model for testing\n",
    "\n",
    "Once deployed, we can read in the test data and send it off to our deployed model to get some results. Once we collect all of the results we can determine how accurate our model is."
   ]
  },
  {
   "cell_type": "code",
   "execution_count": 32,
   "metadata": {},
   "outputs": [],
   "source": [
    "test_X = pd.concat([pd.DataFrame(test_X_len), pd.DataFrame(test_X)], axis=1)"
   ]
  },
  {
   "cell_type": "code",
   "execution_count": 33,
   "metadata": {},
   "outputs": [],
   "source": [
    "# We split the data into chunks and send each chunk seperately, accumulating the results.\n",
    "\n",
    "def predict(data, rows=512):\n",
    "    split_array = np.array_split(data, int(data.shape[0] / float(rows) + 1))\n",
    "    predictions = np.array([])\n",
    "    for array in split_array:\n",
    "        predictions = np.append(predictions, predictor.predict(array))\n",
    "    \n",
    "    return predictions"
   ]
  },
  {
   "cell_type": "code",
   "execution_count": 34,
   "metadata": {},
   "outputs": [],
   "source": [
    "predictions = predict(test_X.values)\n",
    "predictions = [round(num) for num in predictions]"
   ]
  },
  {
   "cell_type": "code",
   "execution_count": 35,
   "metadata": {},
   "outputs": [
    {
     "data": {
      "text/plain": [
       "0.72488"
      ]
     },
     "execution_count": 35,
     "metadata": {},
     "output_type": "execute_result"
    }
   ],
   "source": [
    "from sklearn.metrics import accuracy_score\n",
    "accuracy_score(test_y, predictions)"
   ]
  },
  {
   "cell_type": "markdown",
   "metadata": {},
   "source": [
    "**Question:** How does this model compare to the XGBoost model you created earlier? Why might these two models perform differently on this dataset? Which do *you* think is better for sentiment analysis?"
   ]
  },
  {
   "cell_type": "markdown",
   "metadata": {},
   "source": [
    "**Answer:** The accuracty of the model is less than the XGBoost model. But that is not enough to conclude which model is better. We did only 10 epochs of training. The BCELoss was still reducing during the training. If the epoch was increased, we could have likely got a better model. Also the model we chose was very simple and has a high amount of bias. i.e. if we had gone with a more complex model, we might have got a better model."
   ]
  },
  {
   "cell_type": "markdown",
   "metadata": {},
   "source": [
    "### (TODO) More testing\n",
    "\n",
    "We now have a trained model which has been deployed and which we can send processed reviews to and which returns the predicted sentiment. However, ultimately we would like to be able to send our model an unprocessed review. That is, we would like to send the review itself as a string. For example, suppose we wish to send the following review to our model."
   ]
  },
  {
   "cell_type": "code",
   "execution_count": 36,
   "metadata": {},
   "outputs": [],
   "source": [
    "test_review = 'The simplest pleasures in life are the best, and this film is one of them. Combining a rather basic storyline of love and adventure this movie transcends the usual weekend fair with wit and unmitigated charm.'\n",
    "best_review = 'The simplest pleasures in life are the best, and this film is one of them. This movie is very good. best movie'"
   ]
  },
  {
   "cell_type": "markdown",
   "metadata": {},
   "source": [
    "The question we now need to answer is, how do we send this review to our model?\n",
    "\n",
    "Recall in the first section of this notebook we did a bunch of data processing to the IMDb dataset. In particular, we did two specific things to the provided reviews.\n",
    " - Removed any html tags and stemmed the input\n",
    " - Encoded the review as a sequence of integers using `word_dict`\n",
    " \n",
    "In order process the review we will need to repeat these two steps.\n",
    "\n",
    "**TODO**: Using the `review_to_words` and `convert_and_pad` methods from section one, convert `test_review` into a numpy array `test_data` suitable to send to our model. Remember that our model expects input of the form `review_length, review[500]`."
   ]
  },
  {
   "cell_type": "code",
   "execution_count": 37,
   "metadata": {},
   "outputs": [],
   "source": [
    "preProcessedTestReview = review_to_words(test_review)\n",
    "bestReview = review_to_words(best_review)\n",
    "# TODO: Convert test_review into a form usable by the model and save the results in test_data\n",
    "test_data = None\n",
    "#test_data, test_data = convert_and_pad(word_dict, test_review, 500)\n",
    "\n",
    "test_data, test_data_len = convert_and_pad_data(word_dict, [preProcessedTestReview, bestReview])\n",
    "\n",
    "test_data = pd.concat([pd.DataFrame(test_data_len), pd.DataFrame(test_data)], axis=1)"
   ]
  },
  {
   "cell_type": "markdown",
   "metadata": {},
   "source": [
    "Now that we have processed the review, we can send the resulting array to our model to predict the sentiment of the review."
   ]
  },
  {
   "cell_type": "code",
   "execution_count": 38,
   "metadata": {},
   "outputs": [
    {
     "data": {
      "text/plain": [
       "array([0.39294624, 0.91705096], dtype=float32)"
      ]
     },
     "execution_count": 38,
     "metadata": {},
     "output_type": "execute_result"
    }
   ],
   "source": [
    "predictor.predict(test_data)"
   ]
  },
  {
   "cell_type": "markdown",
   "metadata": {},
   "source": [
    "Since the return value of our model is close to `1`, we can be certain that the review we submitted is positive."
   ]
  },
  {
   "cell_type": "markdown",
   "metadata": {},
   "source": [
    "### Delete the endpoint\n",
    "\n",
    "Of course, just like in the XGBoost notebook, once we've deployed an endpoint it continues to run until we tell it to shut down. Since we are done using our endpoint for now, we can delete it."
   ]
  },
  {
   "cell_type": "code",
   "execution_count": 39,
   "metadata": {},
   "outputs": [
    {
     "name": "stderr",
     "output_type": "stream",
     "text": [
      "estimator.delete_endpoint() will be deprecated in SageMaker Python SDK v2. Please use the delete_endpoint() function on your predictor instead.\n"
     ]
    }
   ],
   "source": [
    "estimator.delete_endpoint()\n"
   ]
  },
  {
   "cell_type": "markdown",
   "metadata": {},
   "source": [
    "## Step 6 (again) - Deploy the model for the web app\n",
    "\n",
    "Now that we know that our model is working, it's time to create some custom inference code so that we can send the model a review which has not been processed and have it determine the sentiment of the review.\n",
    "\n",
    "As we saw above, by default the estimator which we created, when deployed, will use the entry script and directory which we provided when creating the model. However, since we now wish to accept a string as input and our model expects a processed review, we need to write some custom inference code.\n",
    "\n",
    "We will store the code that we write in the `serve` directory. Provided in this directory is the `model.py` file that we used to construct our model, a `utils.py` file which contains the `review_to_words` and `convert_and_pad` pre-processing functions which we used during the initial data processing, and `predict.py`, the file which will contain our custom inference code. Note also that `requirements.txt` is present which will tell SageMaker what Python libraries are required by our custom inference code.\n",
    "\n",
    "When deploying a PyTorch model in SageMaker, you are expected to provide four functions which the SageMaker inference container will use.\n",
    " - `model_fn`: This function is the same function that we used in the training script and it tells SageMaker how to load our model.\n",
    " - `input_fn`: This function receives the raw serialized input that has been sent to the model's endpoint and its job is to de-serialize and make the input available for the inference code.\n",
    " - `output_fn`: This function takes the output of the inference code and its job is to serialize this output and return it to the caller of the model's endpoint.\n",
    " - `predict_fn`: The heart of the inference script, this is where the actual prediction is done and is the function which you will need to complete.\n",
    "\n",
    "For the simple website that we are constructing during this project, the `input_fn` and `output_fn` methods are relatively straightforward. We only require being able to accept a string as input and we expect to return a single value as output. You might imagine though that in a more complex application the input or output may be image data or some other binary data which would require some effort to serialize.\n",
    "\n",
    "### (TODO) Writing inference code\n",
    "\n",
    "Before writing our custom inference code, we will begin by taking a look at the code which has been provided."
   ]
  },
  {
   "cell_type": "code",
   "execution_count": 40,
   "metadata": {},
   "outputs": [
    {
     "name": "stdout",
     "output_type": "stream",
     "text": [
      "\u001b[34mimport\u001b[39;49;00m \u001b[04m\u001b[36margparse\u001b[39;49;00m\r\n",
      "\u001b[34mimport\u001b[39;49;00m \u001b[04m\u001b[36mjson\u001b[39;49;00m\r\n",
      "\u001b[34mimport\u001b[39;49;00m \u001b[04m\u001b[36mos\u001b[39;49;00m\r\n",
      "\u001b[34mimport\u001b[39;49;00m \u001b[04m\u001b[36mpickle\u001b[39;49;00m\r\n",
      "\u001b[34mimport\u001b[39;49;00m \u001b[04m\u001b[36msys\u001b[39;49;00m\r\n",
      "\u001b[34mimport\u001b[39;49;00m \u001b[04m\u001b[36msagemaker_containers\u001b[39;49;00m\r\n",
      "\u001b[34mimport\u001b[39;49;00m \u001b[04m\u001b[36mpandas\u001b[39;49;00m \u001b[34mas\u001b[39;49;00m \u001b[04m\u001b[36mpd\u001b[39;49;00m\r\n",
      "\u001b[34mimport\u001b[39;49;00m \u001b[04m\u001b[36mnumpy\u001b[39;49;00m \u001b[34mas\u001b[39;49;00m \u001b[04m\u001b[36mnp\u001b[39;49;00m\r\n",
      "\u001b[34mimport\u001b[39;49;00m \u001b[04m\u001b[36mtorch\u001b[39;49;00m\r\n",
      "\u001b[34mimport\u001b[39;49;00m \u001b[04m\u001b[36mtorch\u001b[39;49;00m\u001b[04m\u001b[36m.\u001b[39;49;00m\u001b[04m\u001b[36mnn\u001b[39;49;00m \u001b[34mas\u001b[39;49;00m \u001b[04m\u001b[36mnn\u001b[39;49;00m\r\n",
      "\u001b[34mimport\u001b[39;49;00m \u001b[04m\u001b[36mtorch\u001b[39;49;00m\u001b[04m\u001b[36m.\u001b[39;49;00m\u001b[04m\u001b[36moptim\u001b[39;49;00m \u001b[34mas\u001b[39;49;00m \u001b[04m\u001b[36moptim\u001b[39;49;00m\r\n",
      "\u001b[34mimport\u001b[39;49;00m \u001b[04m\u001b[36mtorch\u001b[39;49;00m\u001b[04m\u001b[36m.\u001b[39;49;00m\u001b[04m\u001b[36mutils\u001b[39;49;00m\u001b[04m\u001b[36m.\u001b[39;49;00m\u001b[04m\u001b[36mdata\u001b[39;49;00m\r\n",
      "\r\n",
      "\u001b[34mfrom\u001b[39;49;00m \u001b[04m\u001b[36mmodel\u001b[39;49;00m \u001b[34mimport\u001b[39;49;00m LSTMClassifier\r\n",
      "\r\n",
      "\u001b[34mfrom\u001b[39;49;00m \u001b[04m\u001b[36mutils\u001b[39;49;00m \u001b[34mimport\u001b[39;49;00m review_to_words, convert_and_pad\r\n",
      "\r\n",
      "\u001b[34mdef\u001b[39;49;00m \u001b[32mmodel_fn\u001b[39;49;00m(model_dir):\r\n",
      "    \u001b[33m\"\"\"Load the PyTorch model from the `model_dir` directory.\"\"\"\u001b[39;49;00m\r\n",
      "    \u001b[36mprint\u001b[39;49;00m(\u001b[33m\"\u001b[39;49;00m\u001b[33mLoading model.\u001b[39;49;00m\u001b[33m\"\u001b[39;49;00m)\r\n",
      "\r\n",
      "    \u001b[37m# First, load the parameters used to create the model.\u001b[39;49;00m\r\n",
      "    model_info = {}\r\n",
      "    model_info_path = os.path.join(model_dir, \u001b[33m'\u001b[39;49;00m\u001b[33mmodel_info.pth\u001b[39;49;00m\u001b[33m'\u001b[39;49;00m)\r\n",
      "    \u001b[34mwith\u001b[39;49;00m \u001b[36mopen\u001b[39;49;00m(model_info_path, \u001b[33m'\u001b[39;49;00m\u001b[33mrb\u001b[39;49;00m\u001b[33m'\u001b[39;49;00m) \u001b[34mas\u001b[39;49;00m f:\r\n",
      "        model_info = torch.load(f)\r\n",
      "\r\n",
      "    \u001b[36mprint\u001b[39;49;00m(\u001b[33m\"\u001b[39;49;00m\u001b[33mmodel_info: \u001b[39;49;00m\u001b[33m{}\u001b[39;49;00m\u001b[33m\"\u001b[39;49;00m.format(model_info))\r\n",
      "\r\n",
      "    \u001b[37m# Determine the device and construct the model.\u001b[39;49;00m\r\n",
      "    device = torch.device(\u001b[33m\"\u001b[39;49;00m\u001b[33mcuda\u001b[39;49;00m\u001b[33m\"\u001b[39;49;00m \u001b[34mif\u001b[39;49;00m torch.cuda.is_available() \u001b[34melse\u001b[39;49;00m \u001b[33m\"\u001b[39;49;00m\u001b[33mcpu\u001b[39;49;00m\u001b[33m\"\u001b[39;49;00m)\r\n",
      "    model = LSTMClassifier(model_info[\u001b[33m'\u001b[39;49;00m\u001b[33membedding_dim\u001b[39;49;00m\u001b[33m'\u001b[39;49;00m], model_info[\u001b[33m'\u001b[39;49;00m\u001b[33mhidden_dim\u001b[39;49;00m\u001b[33m'\u001b[39;49;00m], model_info[\u001b[33m'\u001b[39;49;00m\u001b[33mvocab_size\u001b[39;49;00m\u001b[33m'\u001b[39;49;00m])\r\n",
      "\r\n",
      "    \u001b[37m# Load the store model parameters.\u001b[39;49;00m\r\n",
      "    model_path = os.path.join(model_dir, \u001b[33m'\u001b[39;49;00m\u001b[33mmodel.pth\u001b[39;49;00m\u001b[33m'\u001b[39;49;00m)\r\n",
      "    \u001b[34mwith\u001b[39;49;00m \u001b[36mopen\u001b[39;49;00m(model_path, \u001b[33m'\u001b[39;49;00m\u001b[33mrb\u001b[39;49;00m\u001b[33m'\u001b[39;49;00m) \u001b[34mas\u001b[39;49;00m f:\r\n",
      "        model.load_state_dict(torch.load(f))\r\n",
      "\r\n",
      "    \u001b[37m# Load the saved word_dict.\u001b[39;49;00m\r\n",
      "    word_dict_path = os.path.join(model_dir, \u001b[33m'\u001b[39;49;00m\u001b[33mword_dict.pkl\u001b[39;49;00m\u001b[33m'\u001b[39;49;00m)\r\n",
      "    \u001b[34mwith\u001b[39;49;00m \u001b[36mopen\u001b[39;49;00m(word_dict_path, \u001b[33m'\u001b[39;49;00m\u001b[33mrb\u001b[39;49;00m\u001b[33m'\u001b[39;49;00m) \u001b[34mas\u001b[39;49;00m f:\r\n",
      "        model.word_dict = pickle.load(f)\r\n",
      "\r\n",
      "    model.to(device).eval()\r\n",
      "\r\n",
      "    \u001b[36mprint\u001b[39;49;00m(\u001b[33m\"\u001b[39;49;00m\u001b[33mDone loading model.\u001b[39;49;00m\u001b[33m\"\u001b[39;49;00m)\r\n",
      "    \u001b[34mreturn\u001b[39;49;00m model\r\n",
      "\r\n",
      "\u001b[34mdef\u001b[39;49;00m \u001b[32minput_fn\u001b[39;49;00m(serialized_input_data, content_type):\r\n",
      "    \u001b[36mprint\u001b[39;49;00m(\u001b[33m'\u001b[39;49;00m\u001b[33mDeserializing the input data.\u001b[39;49;00m\u001b[33m'\u001b[39;49;00m)\r\n",
      "    \u001b[34mif\u001b[39;49;00m content_type == \u001b[33m'\u001b[39;49;00m\u001b[33mtext/plain\u001b[39;49;00m\u001b[33m'\u001b[39;49;00m:\r\n",
      "        data = serialized_input_data.decode(\u001b[33m'\u001b[39;49;00m\u001b[33mutf-8\u001b[39;49;00m\u001b[33m'\u001b[39;49;00m)\r\n",
      "        \u001b[34mreturn\u001b[39;49;00m data\r\n",
      "    \u001b[34mraise\u001b[39;49;00m \u001b[36mException\u001b[39;49;00m(\u001b[33m'\u001b[39;49;00m\u001b[33mRequested unsupported ContentType in content_type: \u001b[39;49;00m\u001b[33m'\u001b[39;49;00m + content_type)\r\n",
      "\r\n",
      "\u001b[34mdef\u001b[39;49;00m \u001b[32moutput_fn\u001b[39;49;00m(prediction_output, accept):\r\n",
      "    \u001b[36mprint\u001b[39;49;00m(\u001b[33m'\u001b[39;49;00m\u001b[33mSerializing the generated output.: \u001b[39;49;00m\u001b[33m'\u001b[39;49;00m + \u001b[36mstr\u001b[39;49;00m(prediction_output))\r\n",
      "    \u001b[34mreturn\u001b[39;49;00m \u001b[36mstr\u001b[39;49;00m(prediction_output)\r\n",
      "\r\n",
      "\u001b[34mdef\u001b[39;49;00m \u001b[32mpredict_fn\u001b[39;49;00m(input_data, model):\r\n",
      "    \u001b[36mprint\u001b[39;49;00m(\u001b[33m'\u001b[39;49;00m\u001b[33mInferring sentiment of input data. \u001b[39;49;00m\u001b[33m'\u001b[39;49;00m)\r\n",
      "\r\n",
      "    device = torch.device(\u001b[33m\"\u001b[39;49;00m\u001b[33mcuda\u001b[39;49;00m\u001b[33m\"\u001b[39;49;00m \u001b[34mif\u001b[39;49;00m torch.cuda.is_available() \u001b[34melse\u001b[39;49;00m \u001b[33m\"\u001b[39;49;00m\u001b[33mcpu\u001b[39;49;00m\u001b[33m\"\u001b[39;49;00m)\r\n",
      "    \r\n",
      "\r\n",
      "    \u001b[34mif\u001b[39;49;00m model.word_dict \u001b[35mis\u001b[39;49;00m \u001b[34mNone\u001b[39;49;00m:\r\n",
      "        \u001b[34mraise\u001b[39;49;00m \u001b[36mException\u001b[39;49;00m(\u001b[33m'\u001b[39;49;00m\u001b[33mModel has not been loaded properly, no word_dict.\u001b[39;49;00m\u001b[33m'\u001b[39;49;00m)\r\n",
      "    \r\n",
      "\r\n",
      "    \u001b[37m# TODO: Process input_data so that it is ready to be sent to our model.\u001b[39;49;00m\r\n",
      "    \u001b[37m#       You should produce two variables:\u001b[39;49;00m\r\n",
      "    \u001b[37m#         data_X   - A sequence of length 500 which represents the converted review\u001b[39;49;00m\r\n",
      "    \u001b[37m#         data_len - The length of the review\u001b[39;49;00m\r\n",
      "\r\n",
      "    \u001b[37m#print('Word_dict')\u001b[39;49;00m\r\n",
      "    \u001b[37m#print(model.word_dict)\u001b[39;49;00m\r\n",
      "    data_X = \u001b[34mNone\u001b[39;49;00m\r\n",
      "    data_len = \u001b[34mNone\u001b[39;49;00m\r\n",
      "    \r\n",
      "    preprocessedInputData = review_to_words(input_data)\r\n",
      "    encodedData, theLength = convert_and_pad(model.word_dict, preprocessedInputData)\r\n",
      "    \r\n",
      "    data_X = encodedData\r\n",
      "    data_len = theLength\r\n",
      "\r\n",
      "    \r\n",
      "    \u001b[36mprint\u001b[39;49;00m(\u001b[36mlen\u001b[39;49;00m(encodedData), theLength)\r\n",
      "    \u001b[36mprint\u001b[39;49;00m(encodedData[:\u001b[34m20\u001b[39;49;00m])\r\n",
      "\r\n",
      "    \u001b[37m#data_X = pd.concat([pd.DataFrame(np.array([theLength])), pd.DataFrame(np.array([encodedData]))], axis=1)\u001b[39;49;00m\r\n",
      "\r\n",
      "\r\n",
      "    \u001b[37m# Using data_X and data_len we construct an appropriate input tensor. Remember\u001b[39;49;00m\r\n",
      "    \u001b[37m# that our model expects input data of the form 'len, review[500]'.\u001b[39;49;00m\r\n",
      "    data_pack = np.hstack((data_len, data_X))\r\n",
      "    data_pack = data_pack.reshape(\u001b[34m1\u001b[39;49;00m, -\u001b[34m1\u001b[39;49;00m)\r\n",
      "    \r\n",
      "    \u001b[36mprint\u001b[39;49;00m(\u001b[33m\"\u001b[39;49;00m\u001b[33mCalling torch.from_numpy\u001b[39;49;00m\u001b[33m\"\u001b[39;49;00m)\r\n",
      "        \r\n",
      "    data = torch.from_numpy(data_pack)\r\n",
      "    data = data.to(device)\r\n",
      "    \r\n",
      "    \u001b[36mprint\u001b[39;49;00m(\u001b[33m\"\u001b[39;49;00m\u001b[33mCalling Model.eval\u001b[39;49;00m\u001b[33m\"\u001b[39;49;00m)\r\n",
      "    \u001b[37m# Make sure to put the model into evaluation mode\u001b[39;49;00m\r\n",
      "    model.eval()\r\n",
      "\r\n",
      "    \u001b[37m#print(dir(model))\u001b[39;49;00m\r\n",
      "    score = model.forward(data)\r\n",
      "    \u001b[36mprint\u001b[39;49;00m(\u001b[33m\"\u001b[39;49;00m\u001b[33mScore is:\u001b[39;49;00m\u001b[33m\"\u001b[39;49;00m + \u001b[36mstr\u001b[39;49;00m(score))\r\n",
      "    \r\n",
      "    result = \u001b[34mNone\u001b[39;49;00m\r\n",
      "    \u001b[34mif\u001b[39;49;00m score[\u001b[34m0\u001b[39;49;00m] > \u001b[34m0.5\u001b[39;49;00m:\r\n",
      "        result = np.array(\u001b[34m1\u001b[39;49;00m)\r\n",
      "    \u001b[34melse\u001b[39;49;00m:\r\n",
      "        result = np.array(\u001b[34m0\u001b[39;49;00m)\r\n",
      "    \u001b[37m# TODO: Compute the result of applying the model to the input data. The variable `result` should\u001b[39;49;00m\r\n",
      "    \u001b[37m#       be a numpy array which contains a single integer which is either 1 or 0\u001b[39;49;00m\r\n",
      "\r\n",
      "\r\n",
      "    \u001b[37m#print(\"Result is:\" + str(result))\u001b[39;49;00m\r\n",
      "    \u001b[34mreturn\u001b[39;49;00m result\r\n"
     ]
    }
   ],
   "source": [
    "!pygmentize serve/predict.py"
   ]
  },
  {
   "cell_type": "markdown",
   "metadata": {},
   "source": [
    "As mentioned earlier, the `model_fn` method is the same as the one provided in the training code and the `input_fn` and `output_fn` methods are very simple and your task will be to complete the `predict_fn` method. Make sure that you save the completed file as `predict.py` in the `serve` directory.\n",
    "\n",
    "**TODO**: Complete the `predict_fn()` method in the `serve/predict.py` file."
   ]
  },
  {
   "cell_type": "code",
   "execution_count": 41,
   "metadata": {},
   "outputs": [
    {
     "name": "stdout",
     "output_type": "stream",
     "text": [
      "{'movi': 2, 'film': 3, 'one': 4, 'like': 5, 'time': 6, 'good': 7, 'make': 8, 'charact': 9, 'get': 10, 'see': 11, 'watch': 12, 'stori': 13, 'even': 14, 'would': 15, 'realli': 16, 'well': 17, 'scene': 18, 'look': 19, 'show': 20, 'much': 21, 'end': 22, 'peopl': 23, 'bad': 24, 'go': 25, 'great': 26, 'also': 27, 'first': 28, 'love': 29, 'think': 30, 'way': 31, 'act': 32, 'play': 33, 'made': 34, 'thing': 35, 'could': 36, 'know': 37, 'say': 38, 'seem': 39, 'work': 40, 'plot': 41, 'two': 42, 'actor': 43, 'year': 44, 'come': 45, 'mani': 46, 'seen': 47, 'take': 48, 'want': 49, 'life': 50, 'never': 51, 'littl': 52, 'best': 53, 'tri': 54, 'man': 55, 'ever': 56, 'give': 57, 'better': 58, 'still': 59, 'perform': 60, 'find': 61, 'feel': 62, 'part': 63, 'back': 64, 'use': 65, 'someth': 66, 'director': 67, 'actual': 68, 'interest': 69, 'lot': 70, 'real': 71, 'old': 72, 'cast': 73, 'though': 74, 'live': 75, 'star': 76, 'enjoy': 77, 'guy': 78, 'anoth': 79, 'new': 80, 'role': 81, 'noth': 82, '10': 83, 'funni': 84, 'music': 85, 'point': 86, 'start': 87, 'set': 88, 'girl': 89, 'origin': 90, 'day': 91, 'world': 92, 'everi': 93, 'believ': 94, 'turn': 95, 'quit': 96, 'direct': 97, 'us': 98, 'thought': 99, 'fact': 100, 'minut': 101, 'horror': 102, 'kill': 103, 'action': 104, 'comedi': 105, 'pretti': 106, 'young': 107, 'wonder': 108, 'happen': 109, 'around': 110, 'got': 111, 'effect': 112, 'right': 113, 'long': 114, 'howev': 115, 'big': 116, 'line': 117, 'famili': 118, 'enough': 119, 'seri': 120, 'may': 121, 'need': 122, 'fan': 123, 'bit': 124, 'script': 125, 'beauti': 126, 'person': 127, 'becom': 128, 'without': 129, 'must': 130, 'alway': 131, 'friend': 132, 'tell': 133, 'reason': 134, 'saw': 135, 'last': 136, 'final': 137, 'kid': 138, 'almost': 139, 'put': 140, 'least': 141, 'sure': 142, 'done': 143, 'whole': 144, 'place': 145, 'complet': 146, 'kind': 147, 'expect': 148, 'differ': 149, 'shot': 150, 'far': 151, 'mean': 152, 'anyth': 153, 'book': 154, 'laugh': 155, 'might': 156, 'name': 157, 'sinc': 158, 'begin': 159, '2': 160, 'probabl': 161, 'woman': 162, 'help': 163, 'entertain': 164, 'let': 165, 'screen': 166, 'call': 167, 'tv': 168, 'moment': 169, 'away': 170, 'read': 171, 'yet': 172, 'rather': 173, 'worst': 174, 'run': 175, 'fun': 176, 'lead': 177, 'hard': 178, 'audienc': 179, 'idea': 180, 'anyon': 181, 'episod': 182, 'american': 183, 'found': 184, 'appear': 185, 'bore': 186, 'especi': 187, 'although': 188, 'hope': 189, 'cours': 190, 'keep': 191, 'anim': 192, 'job': 193, 'goe': 194, 'move': 195, 'sens': 196, 'dvd': 197, 'version': 198, 'war': 199, 'money': 200, 'someon': 201, 'mind': 202, 'mayb': 203, 'problem': 204, 'true': 205, 'hous': 206, 'everyth': 207, 'nice': 208, 'second': 209, 'rate': 210, 'three': 211, 'night': 212, 'face': 213, 'follow': 214, 'recommend': 215, 'product': 216, 'main': 217, 'worth': 218, 'leav': 219, 'human': 220, 'special': 221, 'excel': 222, 'togeth': 223, 'wast': 224, 'sound': 225, 'everyon': 226, 'john': 227, 'hand': 228, '1': 229, 'father': 230, 'later': 231, 'eye': 232, 'said': 233, 'view': 234, 'instead': 235, 'review': 236, 'boy': 237, 'high': 238, 'hour': 239, 'miss': 240, 'talk': 241, 'classic': 242, 'wife': 243, 'understand': 244, 'left': 245, 'care': 246, 'black': 247, 'death': 248, 'open': 249, 'murder': 250, 'write': 251, 'half': 252, 'head': 253, 'rememb': 254, 'chang': 255, 'viewer': 256, 'fight': 257, 'gener': 258, 'surpris': 259, 'includ': 260, 'short': 261, 'die': 262, 'fall': 263, 'less': 264, 'els': 265, 'entir': 266, 'piec': 267, 'involv': 268, 'pictur': 269, 'simpli': 270, 'power': 271, 'top': 272, 'home': 273, 'total': 274, 'usual': 275, 'budget': 276, 'attempt': 277, 'suppos': 278, 'releas': 279, 'hollywood': 280, 'terribl': 281, 'song': 282, 'men': 283, 'possibl': 284, 'featur': 285, 'portray': 286, 'disappoint': 287, '3': 288, 'poor': 289, 'coupl': 290, 'stupid': 291, 'camera': 292, 'dead': 293, 'wrong': 294, 'low': 295, 'produc': 296, 'either': 297, 'video': 298, 'aw': 299, 'definit': 300, 'except': 301, 'rest': 302, 'given': 303, 'absolut': 304, 'women': 305, 'lack': 306, 'word': 307, 'writer': 308, 'titl': 309, 'talent': 310, 'decid': 311, 'full': 312, 'perfect': 313, 'along': 314, 'style': 315, 'close': 316, 'truli': 317, 'school': 318, 'emot': 319, 'save': 320, 'age': 321, 'sex': 322, 'next': 323, 'bring': 324, 'mr': 325, 'case': 326, 'killer': 327, 'heart': 328, 'comment': 329, 'sort': 330, 'creat': 331, 'perhap': 332, 'came': 333, 'brother': 334, 'sever': 335, 'joke': 336, 'art': 337, 'dialogu': 338, 'game': 339, 'small': 340, 'base': 341, 'flick': 342, 'written': 343, 'sequenc': 344, 'meet': 345, 'earli': 346, 'often': 347, 'other': 348, 'mother': 349, 'develop': 350, 'humor': 351, 'actress': 352, 'consid': 353, 'dark': 354, 'guess': 355, 'amaz': 356, 'unfortun': 357, 'light': 358, 'lost': 359, 'exampl': 360, 'cinema': 361, 'drama': 362, 'white': 363, 'ye': 364, 'experi': 365, 'imagin': 366, 'mention': 367, 'stop': 368, 'natur': 369, 'forc': 370, 'manag': 371, 'felt': 372, 'cut': 373, 'present': 374, 'children': 375, 'fail': 376, 'son': 377, 'support': 378, 'qualiti': 379, 'car': 380, 'ask': 381, 'hit': 382, 'side': 383, 'voic': 384, 'extrem': 385, 'impress': 386, 'wors': 387, 'evil': 388, 'went': 389, 'stand': 390, 'certainli': 391, 'basic': 392, 'oh': 393, 'overal': 394, 'favorit': 395, 'horribl': 396, 'mysteri': 397, 'number': 398, 'type': 399, 'danc': 400, 'wait': 401, 'hero': 402, '5': 403, 'alreadi': 404, 'learn': 405, 'matter': 406, '4': 407, 'michael': 408, 'genr': 409, 'fine': 410, 'despit': 411, 'throughout': 412, 'walk': 413, 'success': 414, 'histori': 415, 'question': 416, 'zombi': 417, 'town': 418, 'relationship': 419, 'realiz': 420, 'child': 421, 'past': 422, 'daughter': 423, 'late': 424, 'b': 425, 'wish': 426, 'credit': 427, 'hate': 428, 'event': 429, 'theme': 430, 'touch': 431, 'citi': 432, 'today': 433, 'sometim': 434, 'behind': 435, 'god': 436, 'twist': 437, 'sit': 438, 'stay': 439, 'annoy': 440, 'deal': 441, 'abl': 442, 'rent': 443, 'pleas': 444, 'edit': 445, 'blood': 446, 'deserv': 447, 'anyway': 448, 'comic': 449, 'appar': 450, 'soon': 451, 'gave': 452, 'etc': 453, 'level': 454, 'slow': 455, 'chanc': 456, 'score': 457, 'bodi': 458, 'brilliant': 459, 'incred': 460, 'figur': 461, 'situat': 462, 'self': 463, 'major': 464, 'stuff': 465, 'decent': 466, 'element': 467, 'dream': 468, 'return': 469, 'obvious': 470, 'continu': 471, 'order': 472, 'pace': 473, 'ridicul': 474, 'happi': 475, 'highli': 476, 'add': 477, 'group': 478, 'thank': 479, 'ladi': 480, 'novel': 481, 'pain': 482, 'speak': 483, 'career': 484, 'shoot': 485, 'strang': 486, 'heard': 487, 'sad': 488, 'husband': 489, 'polic': 490, 'import': 491, 'break': 492, 'took': 493, 'cannot': 494, 'strong': 495, 'predict': 496, 'robert': 497, 'violenc': 498, 'hilari': 499, 'recent': 500, 'countri': 501, 'known': 502, 'particularli': 503, 'pick': 504, 'documentari': 505, 'season': 506, 'critic': 507, 'jame': 508, 'compar': 509, 'alon': 510, 'obviou': 511, 'told': 512, 'state': 513, 'rock': 514, 'visual': 515, 'exist': 516, 'theater': 517, 'offer': 518, 'opinion': 519, 'gore': 520, 'hold': 521, 'crap': 522, 'result': 523, 'room': 524, 'realiti': 525, 'hear': 526, 'effort': 527, 'clich': 528, 'thriller': 529, 'caus': 530, 'sequel': 531, 'serious': 532, 'explain': 533, 'king': 534, 'local': 535, 'ago': 536, 'hell': 537, 'none': 538, 'note': 539, 'allow': 540, 'sister': 541, 'david': 542, 'simpl': 543, 'femal': 544, 'deliv': 545, 'ok': 546, 'convinc': 547, 'class': 548, 'check': 549, 'suspens': 550, 'win': 551, 'buy': 552, 'oscar': 553, 'huge': 554, 'valu': 555, 'sexual': 556, 'cool': 557, 'scari': 558, 'excit': 559, 'similar': 560, 'exactli': 561, 'provid': 562, 'apart': 563, 'shown': 564, 'avoid': 565, 'seriou': 566, 'english': 567, 'taken': 568, 'whose': 569, 'cinematographi': 570, 'shock': 571, 'polit': 572, 'spoiler': 573, 'offic': 574, 'across': 575, 'middl': 576, 'pass': 577, 'street': 578, 'messag': 579, 'charm': 580, 'silli': 581, 'somewhat': 582, 'modern': 583, 'confus': 584, 'filmmak': 585, 'form': 586, 'tale': 587, 'singl': 588, 'jack': 589, 'mostli': 590, 'carri': 591, 'attent': 592, 'william': 593, 'sing': 594, 'subject': 595, 'five': 596, 'prove': 597, 'richard': 598, 'stage': 599, 'team': 600, 'cop': 601, 'unlik': 602, 'georg': 603, 'monster': 604, 'televis': 605, 'earth': 606, 'cover': 607, 'villain': 608, 'pay': 609, 'marri': 610, 'toward': 611, 'build': 612, 'pull': 613, 'parent': 614, 'due': 615, 'respect': 616, 'fill': 617, 'four': 618, 'dialog': 619, 'remind': 620, 'futur': 621, 'weak': 622, 'typic': 623, '7': 624, 'cheap': 625, 'intellig': 626, 'atmospher': 627, 'british': 628, '80': 629, 'clearli': 630, 'paul': 631, 'non': 632, 'dog': 633, 'artist': 634, 'knew': 635, 'fast': 636, '8': 637, 'crime': 638, 'easili': 639, 'escap': 640, 'adult': 641, 'doubt': 642, 'detail': 643, 'date': 644, 'member': 645, 'romant': 646, 'fire': 647, 'drive': 648, 'gun': 649, 'straight': 650, 'beyond': 651, 'fit': 652, 'attack': 653, 'imag': 654, 'upon': 655, 'posit': 656, 'whether': 657, 'fantast': 658, 'peter': 659, 'appreci': 660, 'captur': 661, 'aspect': 662, 'ten': 663, 'plan': 664, 'discov': 665, 'remain': 666, 'near': 667, 'period': 668, 'realist': 669, 'air': 670, 'mark': 671, 'red': 672, 'dull': 673, 'adapt': 674, 'within': 675, 'spend': 676, 'lose': 677, 'color': 678, 'materi': 679, 'chase': 680, 'mari': 681, 'storylin': 682, 'forget': 683, 'bunch': 684, 'clear': 685, 'lee': 686, 'victim': 687, 'nearli': 688, 'box': 689, 'york': 690, 'inspir': 691, 'match': 692, 'finish': 693, 'mess': 694, 'standard': 695, 'easi': 696, 'truth': 697, 'suffer': 698, 'busi': 699, 'space': 700, 'bill': 701, 'dramat': 702, 'western': 703, 'e': 704, 'list': 705, 'battl': 706, 'notic': 707, 'de': 708, 'french': 709, 'ad': 710, '9': 711, 'tom': 712, 'larg': 713, 'among': 714, 'eventu': 715, 'accept': 716, 'train': 717, 'agre': 718, 'soundtrack': 719, 'spirit': 720, 'third': 721, 'teenag': 722, 'soldier': 723, 'adventur': 724, 'famou': 725, 'sorri': 726, 'drug': 727, 'suggest': 728, 'babi': 729, 'cri': 730, 'normal': 731, 'ultim': 732, 'troubl': 733, 'contain': 734, 'certain': 735, 'cultur': 736, 'romanc': 737, 'rare': 738, 'lame': 739, 'somehow': 740, 'mix': 741, 'disney': 742, 'gone': 743, 'cartoon': 744, 'student': 745, 'fear': 746, 'reveal': 747, 'kept': 748, 'suck': 749, 'attract': 750, 'appeal': 751, 'premis': 752, 'design': 753, 'greatest': 754, 'secret': 755, 'shame': 756, 'throw': 757, 'copi': 758, 'scare': 759, 'wit': 760, 'america': 761, 'admit': 762, 'relat': 763, 'brought': 764, 'particular': 765, 'screenplay': 766, 'whatev': 767, 'pure': 768, '70': 769, 'averag': 770, 'harri': 771, 'master': 772, 'describ': 773, 'male': 774, 'treat': 775, '20': 776, 'issu': 777, 'fantasi': 778, 'warn': 779, 'inde': 780, 'background': 781, 'forward': 782, 'free': 783, 'project': 784, 'japanes': 785, 'memor': 786, 'poorli': 787, 'award': 788, 'locat': 789, 'potenti': 790, 'amus': 791, 'struggl': 792, 'magic': 793, 'weird': 794, 'societi': 795, 'okay': 796, 'accent': 797, 'doctor': 798, 'imdb': 799, 'water': 800, 'hot': 801, '30': 802, 'express': 803, 'dr': 804, 'alien': 805, 'odd': 806, 'choic': 807, 'crazi': 808, 'fiction': 809, 'studio': 810, 'control': 811, 'becam': 812, 'masterpiec': 813, 'difficult': 814, 'fli': 815, 'joe': 816, 'scream': 817, 'costum': 818, 'lover': 819, 'refer': 820, 'uniqu': 821, 'remak': 822, 'vampir': 823, 'girlfriend': 824, 'prison': 825, 'execut': 826, 'wear': 827, 'jump': 828, 'unless': 829, 'wood': 830, 'creepi': 831, 'cheesi': 832, 'superb': 833, 'otherwis': 834, 'parti': 835, 'roll': 836, 'ghost': 837, 'public': 838, 'mad': 839, 'depict': 840, 'moral': 841, 'earlier': 842, 'jane': 843, 'badli': 844, 'week': 845, 'dumb': 846, 'fi': 847, 'grow': 848, 'flaw': 849, 'deep': 850, 'sci': 851, 'cat': 852, 'maker': 853, 'connect': 854, 'footag': 855, 'older': 856, 'plenti': 857, 'bother': 858, 'outsid': 859, 'stick': 860, 'gay': 861, 'catch': 862, 'plu': 863, 'co': 864, 'popular': 865, 'equal': 866, 'social': 867, 'quickli': 868, 'disturb': 869, 'perfectli': 870, 'dress': 871, 'era': 872, '90': 873, 'mistak': 874, 'lie': 875, 'ride': 876, 'previou': 877, 'combin': 878, 'band': 879, 'concept': 880, 'surviv': 881, 'rich': 882, 'answer': 883, 'front': 884, 'christma': 885, 'sweet': 886, 'insid': 887, 'concern': 888, 'bare': 889, 'eat': 890, 'beat': 891, 'listen': 892, 'ben': 893, 'c': 894, 'serv': 895, 'term': 896, 'la': 897, 'meant': 898, 'german': 899, 'hardli': 900, 'stereotyp': 901, 'law': 902, 'innoc': 903, 'desper': 904, 'memori': 905, 'promis': 906, 'cute': 907, 'intent': 908, 'steal': 909, 'variou': 910, 'inform': 911, 'brain': 912, 'post': 913, 'tone': 914, 'island': 915, 'amount': 916, 'track': 917, 'nuditi': 918, 'compani': 919, 'claim': 920, 'store': 921, 'hair': 922, 'flat': 923, '50': 924, 'land': 925, 'univers': 926, 'scott': 927, 'fairli': 928, 'danger': 929, 'kick': 930, 'player': 931, 'crew': 932, 'step': 933, 'plain': 934, 'toni': 935, 'share': 936, 'centuri': 937, 'tast': 938, 'engag': 939, 'achiev': 940, 'travel': 941, 'cold': 942, 'record': 943, 'suit': 944, 'rip': 945, 'sadli': 946, 'manner': 947, 'spot': 948, 'tension': 949, 'wrote': 950, 'fascin': 951, 'intens': 952, 'familiar': 953, 'depth': 954, 'remark': 955, 'burn': 956, 'histor': 957, 'destroy': 958, 'sleep': 959, 'purpos': 960, 'languag': 961, 'ignor': 962, 'ruin': 963, 'delight': 964, 'unbeliev': 965, 'italian': 966, 'abil': 967, 'collect': 968, 'soul': 969, 'clever': 970, 'detect': 971, 'violent': 972, 'rape': 973, 'reach': 974, 'door': 975, 'trash': 976, 'scienc': 977, 'liter': 978, 'reveng': 979, 'caught': 980, 'commun': 981, 'creatur': 982, 'approach': 983, 'trip': 984, 'intrigu': 985, 'fashion': 986, 'paint': 987, 'introduc': 988, 'skill': 989, 'channel': 990, 'complex': 991, 'camp': 992, 'christian': 993, 'hole': 994, 'extra': 995, 'mental': 996, 'immedi': 997, 'limit': 998, 'ann': 999, 'slightli': 1000, 'mere': 1001, '6': 1002, 'comput': 1003, 'million': 1004, 'slasher': 1005, 'conclus': 1006, 'imposs': 1007, 'suddenli': 1008, 'teen': 1009, 'crimin': 1010, 'neither': 1011, 'nation': 1012, 'physic': 1013, 'spent': 1014, 'respons': 1015, 'planet': 1016, 'receiv': 1017, 'fake': 1018, 'sick': 1019, 'blue': 1020, 'bizarr': 1021, 'embarrass': 1022, 'indian': 1023, '15': 1024, 'ring': 1025, 'pop': 1026, 'drop': 1027, 'drag': 1028, 'haunt': 1029, 'pointless': 1030, 'suspect': 1031, 'edg': 1032, 'search': 1033, 'handl': 1034, 'common': 1035, 'biggest': 1036, 'arriv': 1037, 'hurt': 1038, 'faith': 1039, 'technic': 1040, 'angel': 1041, 'dad': 1042, 'genuin': 1043, 'f': 1044, 'solid': 1045, 'awesom': 1046, 'former': 1047, 'colleg': 1048, 'focu': 1049, 'van': 1050, 'count': 1051, 'tear': 1052, 'heavi': 1053, 'wall': 1054, 'rais': 1055, 'younger': 1056, 'laughabl': 1057, 'visit': 1058, 'sign': 1059, 'excus': 1060, 'fair': 1061, 'cult': 1062, 'tough': 1063, 'motion': 1064, 'key': 1065, 'desir': 1066, 'super': 1067, 'addit': 1068, 'stun': 1069, 'cloth': 1070, 'exploit': 1071, 'smith': 1072, 'tortur': 1073, 'race': 1074, 'davi': 1075, 'author': 1076, 'cross': 1077, 'jim': 1078, 'focus': 1079, 'minor': 1080, 'consist': 1081, 'compel': 1082, 'commit': 1083, 'chemistri': 1084, 'pathet': 1085, 'park': 1086, 'frank': 1087, 'tradit': 1088, 'obsess': 1089, 'grade': 1090, 'asid': 1091, '60': 1092, 'brutal': 1093, 'somewher': 1094, 'steve': 1095, 'grant': 1096, 'u': 1097, 'depress': 1098, 'rule': 1099, 'opportun': 1100, 'explor': 1101, 'besid': 1102, 'honest': 1103, 'dub': 1104, 'anti': 1105, 'trailer': 1106, 'intend': 1107, 'bar': 1108, 'regard': 1109, 'longer': 1110, 'scientist': 1111, 'west': 1112, 'decad': 1113, 'judg': 1114, 'silent': 1115, 'creativ': 1116, 'armi': 1117, 'wild': 1118, 'south': 1119, 'g': 1120, 'stewart': 1121, 'draw': 1122, 'road': 1123, 'govern': 1124, 'ex': 1125, 'boss': 1126, 'practic': 1127, 'motiv': 1128, 'gang': 1129, 'surprisingli': 1130, 'festiv': 1131, 'club': 1132, 'redeem': 1133, 'green': 1134, 'page': 1135, 'london': 1136, 'machin': 1137, 'aliv': 1138, 'display': 1139, 'idiot': 1140, 'militari': 1141, 'thrill': 1142, 'repeat': 1143, 'folk': 1144, '100': 1145, 'nobodi': 1146, 'yeah': 1147, '40': 1148, 'journey': 1149, 'garbag': 1150, 'tire': 1151, 'smile': 1152, 'ground': 1153, 'bought': 1154, 'mood': 1155, 'stone': 1156, 'sam': 1157, 'cost': 1158, 'mouth': 1159, 'noir': 1160, 'terrif': 1161, 'agent': 1162, 'utterli': 1163, 'requir': 1164, 'honestli': 1165, 'sexi': 1166, 'area': 1167, 'report': 1168, 'geniu': 1169, 'glad': 1170, 'enter': 1171, 'humour': 1172, 'investig': 1173, 'serial': 1174, 'narr': 1175, 'occasion': 1176, 'passion': 1177, 'climax': 1178, 'marriag': 1179, 'industri': 1180, 'studi': 1181, 'center': 1182, 'nowher': 1183, 'charli': 1184, 'ship': 1185, 'demon': 1186, 'bear': 1187, 'loos': 1188, 'hors': 1189, 'hang': 1190, 'wow': 1191, 'graphic': 1192, 'giant': 1193, 'admir': 1194, 'send': 1195, 'damn': 1196, 'loud': 1197, 'rel': 1198, 'subtl': 1199, 'profession': 1200, 'nake': 1201, 'blow': 1202, 'bottom': 1203, 'insult': 1204, 'batman': 1205, 'r': 1206, 'boyfriend': 1207, 'doubl': 1208, 'kelli': 1209, 'initi': 1210, 'frame': 1211, 'opera': 1212, 'gem': 1213, 'cinemat': 1214, 'affect': 1215, 'challeng': 1216, 'drawn': 1217, 'church': 1218, 'seek': 1219, 'l': 1220, 'j': 1221, 'evid': 1222, 'fulli': 1223, 'nightmar': 1224, 'arm': 1225, 'essenti': 1226, 'conflict': 1227, 'christoph': 1228, 'wind': 1229, 'grace': 1230, 'henri': 1231, 'assum': 1232, 'witch': 1233, 'narrat': 1234, 'push': 1235, 'hunt': 1236, 'wise': 1237, 'chri': 1238, 'nomin': 1239, 'month': 1240, 'repres': 1241, 'affair': 1242, 'hide': 1243, 'avail': 1244, 'sceneri': 1245, 'smart': 1246, 'thu': 1247, 'justic': 1248, 'bond': 1249, 'flashback': 1250, 'outstand': 1251, 'interview': 1252, 'presenc': 1253, 'satisfi': 1254, 'constantli': 1255, 'bed': 1256, 'central': 1257, 'content': 1258, 'sell': 1259, 'iron': 1260, 'gag': 1261, 'everybodi': 1262, 'slowli': 1263, 'hotel': 1264, 'hire': 1265, 'system': 1266, 'thrown': 1267, 'hey': 1268, 'adam': 1269, 'charl': 1270, 'individu': 1271, 'mediocr': 1272, 'allen': 1273, 'jone': 1274, 'ray': 1275, 'billi': 1276, 'lesson': 1277, 'cameo': 1278, 'photographi': 1279, 'fellow': 1280, 'pari': 1281, 'strike': 1282, 'rise': 1283, 'brief': 1284, 'absurd': 1285, 'independ': 1286, 'neg': 1287, 'impact': 1288, 'phone': 1289, 'born': 1290, 'model': 1291, 'ill': 1292, 'fresh': 1293, 'spoil': 1294, 'angl': 1295, 'likabl': 1296, 'abus': 1297, 'discuss': 1298, 'hill': 1299, 'sight': 1300, 'ahead': 1301, 'photograph': 1302, 'sent': 1303, 'logic': 1304, 'occur': 1305, 'blame': 1306, 'shine': 1307, 'mainli': 1308, 'bruce': 1309, 'forev': 1310, 'commerci': 1311, 'skip': 1312, 'held': 1313, 'segment': 1314, 'teacher': 1315, 'surround': 1316, 'zero': 1317, 'blond': 1318, 'summer': 1319, 'trap': 1320, 'satir': 1321, 'resembl': 1322, 'fool': 1323, 'six': 1324, 'ball': 1325, 'queen': 1326, 'sub': 1327, 'twice': 1328, 'tragedi': 1329, 'reaction': 1330, 'pack': 1331, 'bomb': 1332, 'hospit': 1333, 'will': 1334, 'protagonist': 1335, 'sport': 1336, 'mile': 1337, 'mom': 1338, 'trust': 1339, 'drink': 1340, 'jerri': 1341, 'vote': 1342, 'encount': 1343, 'plane': 1344, 'al': 1345, 'station': 1346, 'program': 1347, 'current': 1348, 'celebr': 1349, 'choos': 1350, 'martin': 1351, 'join': 1352, 'tragic': 1353, 'field': 1354, 'lord': 1355, 'favourit': 1356, 'round': 1357, 'robot': 1358, 'jean': 1359, 'vision': 1360, 'tie': 1361, 'arthur': 1362, 'random': 1363, 'fortun': 1364, 'roger': 1365, 'dread': 1366, 'psycholog': 1367, 'intern': 1368, 'improv': 1369, 'nonsens': 1370, 'prefer': 1371, 'epic': 1372, 'pleasur': 1373, 'legend': 1374, 'highlight': 1375, 'formula': 1376, 'tape': 1377, 'dollar': 1378, '11': 1379, 'gorgeou': 1380, 'porn': 1381, 'fox': 1382, 'thin': 1383, 'object': 1384, 'wide': 1385, 'buddi': 1386, 'influenc': 1387, 'ugli': 1388, 'nasti': 1389, 'ii': 1390, 'prepar': 1391, 'progress': 1392, 'supposedli': 1393, 'reflect': 1394, 'warm': 1395, 'worthi': 1396, 'youth': 1397, 'latter': 1398, 'unusu': 1399, 'length': 1400, 'crash': 1401, 'seven': 1402, 'childhood': 1403, 'shop': 1404, 'superior': 1405, 'remot': 1406, 'theatr': 1407, 'disgust': 1408, 'paid': 1409, 'funniest': 1410, 'pilot': 1411, 'trick': 1412, 'castl': 1413, 'convers': 1414, 'fell': 1415, 'gangster': 1416, 'establish': 1417, 'rob': 1418, 'disast': 1419, 'suicid': 1420, 'mine': 1421, 'disappear': 1422, 'ident': 1423, 'heaven': 1424, 'singer': 1425, 'mask': 1426, 'decis': 1427, 'forgotten': 1428, 'tend': 1429, 'heroin': 1430, 'brian': 1431, 'partner': 1432, 'recogn': 1433, 'desert': 1434, 'alan': 1435, 'p': 1436, 'sky': 1437, 'thoroughli': 1438, 'stuck': 1439, 'ms': 1440, 'replac': 1441, 'accur': 1442, 'market': 1443, 'seemingli': 1444, 'uncl': 1445, 'danni': 1446, 'clue': 1447, 'commentari': 1448, 'andi': 1449, 'eddi': 1450, 'jackson': 1451, 'devil': 1452, 'refus': 1453, 'therefor': 1454, 'that': 1455, 'pair': 1456, 'fate': 1457, 'ed': 1458, 'fault': 1459, 'accid': 1460, 'river': 1461, 'unit': 1462, 'afraid': 1463, 'tune': 1464, 'hidden': 1465, 'russian': 1466, 'clean': 1467, 'stephen': 1468, 'convey': 1469, 'readi': 1470, 'instanc': 1471, 'quick': 1472, 'test': 1473, 'captain': 1474, 'irrit': 1475, 'european': 1476, 'frustrat': 1477, 'insan': 1478, 'daniel': 1479, 'food': 1480, 'chines': 1481, 'wed': 1482, '1950': 1483, 'rescu': 1484, 'angri': 1485, 'lock': 1486, 'dirti': 1487, 'joy': 1488, 'steven': 1489, 'price': 1490, 'cage': 1491, 'bland': 1492, 'anymor': 1493, 'rang': 1494, 'wooden': 1495, 'n': 1496, 'jason': 1497, 'rush': 1498, 'news': 1499, 'worri': 1500, 'twenti': 1501, 'board': 1502, '12': 1503, 'led': 1504, 'martial': 1505, 'symbol': 1506, 'cgi': 1507, 'hunter': 1508, 'transform': 1509, 'onto': 1510, 'sentiment': 1511, 'johnni': 1512, 'piti': 1513, 'x': 1514, 'invent': 1515, 'attitud': 1516, 'explan': 1517, 'process': 1518, 'awar': 1519, 'owner': 1520, 'aim': 1521, 'energi': 1522, 'favor': 1523, 'target': 1524, 'necessari': 1525, 'floor': 1526, 'opposit': 1527, 'religi': 1528, 'chick': 1529, 'window': 1530, 'insight': 1531, 'blind': 1532, 'movement': 1533, 'possess': 1534, 'research': 1535, 'deepli': 1536, 'mountain': 1537, 'comparison': 1538, 'comed': 1539, 'grand': 1540, 'rain': 1541, 'whatsoev': 1542, 'mid': 1543, 'shadow': 1544, 'began': 1545, 'bank': 1546, 'princ': 1547, 'parodi': 1548, 'weapon': 1549, 'friendship': 1550, 'credibl': 1551, 'pre': 1552, 'taylor': 1553, 'teach': 1554, 'dougla': 1555, 'flesh': 1556, 'protect': 1557, 'bloodi': 1558, 'terror': 1559, 'hint': 1560, 'marvel': 1561, 'accord': 1562, 'drunk': 1563, 'load': 1564, 'anybodi': 1565, 'leader': 1566, 'watchabl': 1567, 'superman': 1568, 'freddi': 1569, 'brown': 1570, 'seat': 1571, 'tim': 1572, 'appropri': 1573, 'jeff': 1574, 'hitler': 1575, 'unknown': 1576, 'knock': 1577, 'charg': 1578, 'villag': 1579, 'keaton': 1580, 'unnecessari': 1581, 'empti': 1582, 'england': 1583, 'media': 1584, 'enemi': 1585, 'strength': 1586, 'craft': 1587, 'utter': 1588, 'dare': 1589, 'perspect': 1590, 'buck': 1591, 'wave': 1592, 'ford': 1593, 'nativ': 1594, 'contrast': 1595, 'kiss': 1596, 'correct': 1597, 'chill': 1598, 'speed': 1599, 'anywher': 1600, 'nazi': 1601, 'distract': 1602, 'soap': 1603, 'magnific': 1604, 'knowledg': 1605, 'ice': 1606, 'mission': 1607, 'breath': 1608, 'fred': 1609, '1980': 1610, 'joan': 1611, 'crowd': 1612, 'jr': 1613, 'moon': 1614, '000': 1615, 'kate': 1616, 'frighten': 1617, 'soft': 1618, 'dan': 1619, 'dick': 1620, 'nick': 1621, 'hundr': 1622, 'simon': 1623, 'radio': 1624, 'somebodi': 1625, 'dozen': 1626, 'loss': 1627, 'academi': 1628, 'shakespear': 1629, 'andrew': 1630, 'thousand': 1631, 'quot': 1632, 'sum': 1633, 'root': 1634, 'vehicl': 1635, 'account': 1636, '1970': 1637, 'behavior': 1638, 'convent': 1639, 'leg': 1640, 'regular': 1641, 'gold': 1642, 'pretenti': 1643, 'demand': 1644, 'compet': 1645, 'worker': 1646, 'japan': 1647, 'explos': 1648, 'stretch': 1649, 'interpret': 1650, 'candi': 1651, 'lynch': 1652, 'notabl': 1653, 'privat': 1654, 'debut': 1655, 'constant': 1656, 'tarzan': 1657, 'prais': 1658, 'translat': 1659, 'revolv': 1660, 'sea': 1661, 'spi': 1662, 'failur': 1663, 'ass': 1664, 'franc': 1665, 'threaten': 1666, 'technolog': 1667, 'sat': 1668, 'quiet': 1669, 'jesu': 1670, 'met': 1671, 'toy': 1672, 'punch': 1673, 'kevin': 1674, 'higher': 1675, 'aid': 1676, 'vh': 1677, 'mike': 1678, 'interact': 1679, 'abandon': 1680, 'bet': 1681, 'separ': 1682, 'command': 1683, 'confront': 1684, 'servic': 1685, 'recal': 1686, 'stunt': 1687, 'belong': 1688, 'techniqu': 1689, 'site': 1690, 'gotten': 1691, 'cabl': 1692, 'freak': 1693, 'bug': 1694, 'foot': 1695, 'bright': 1696, 'african': 1697, 'jimmi': 1698, 'capabl': 1699, 'fu': 1700, 'presid': 1701, 'succeed': 1702, 'fat': 1703, 'clark': 1704, 'stock': 1705, 'boat': 1706, 'structur': 1707, 'spanish': 1708, 'gene': 1709, 'paper': 1710, 'kidnap': 1711, 'whilst': 1712, 'factor': 1713, 'belief': 1714, 'complic': 1715, 'educ': 1716, 'witti': 1717, 'tree': 1718, 'realis': 1719, 'realism': 1720, 'bob': 1721, 'attend': 1722, 'finest': 1723, 'assist': 1724, 'santa': 1725, 'broken': 1726, 'v': 1727, 'up': 1728, 'depart': 1729, 'smoke': 1730, 'determin': 1731, 'observ': 1732, 'fame': 1733, 'domin': 1734, 'hat': 1735, 'oper': 1736, 'lewi': 1737, 'routin': 1738, 'rubbish': 1739, 'lone': 1740, 'safe': 1741, 'kinda': 1742, 'morgan': 1743, 'advanc': 1744, 'hook': 1745, 'foreign': 1746, 'numer': 1747, 'rank': 1748, 'shallow': 1749, 'werewolf': 1750, 'vs': 1751, 'rose': 1752, 'shape': 1753, 'washington': 1754, 'civil': 1755, 'gari': 1756, 'morn': 1757, 'winner': 1758, 'accomplish': 1759, 'kong': 1760, 'ordinari': 1761, 'peac': 1762, 'whenev': 1763, 'virtual': 1764, 'grab': 1765, 'h': 1766, 'offens': 1767, 'luck': 1768, 'contriv': 1769, 'activ': 1770, 'complain': 1771, 'unfunni': 1772, 'bigger': 1773, 'welcom': 1774, 'patient': 1775, 'pretend': 1776, 'con': 1777, 'dimension': 1778, 'trek': 1779, 'cain': 1780, 'flash': 1781, 'wake': 1782, 'eric': 1783, 'dri': 1784, 'code': 1785, 'lesbian': 1786, 'guard': 1787, 'corrupt': 1788, 'statu': 1789, 'manipul': 1790, 'dancer': 1791, 'albert': 1792, 'signific': 1793, 'awkward': 1794, 'sourc': 1795, 'context': 1796, 'speech': 1797, 'gain': 1798, 'anthoni': 1799, 'corni': 1800, 'clip': 1801, '13': 1802, 'psycho': 1803, 'sean': 1804, 'religion': 1805, 'reli': 1806, 'priest': 1807, 'advic': 1808, 'w': 1809, 'curiou': 1810, 'theatric': 1811, 'addict': 1812, 'flow': 1813, 'specif': 1814, 'skin': 1815, 'asian': 1816, 'howard': 1817, 'jennif': 1818, 'secur': 1819, 'core': 1820, 'golden': 1821, 'comfort': 1822, 'organ': 1823, 'promot': 1824, 'luke': 1825, 'cheat': 1826, 'lucki': 1827, 'cash': 1828, 'lower': 1829, 'associ': 1830, 'dislik': 1831, 'frequent': 1832, 'frankli': 1833, 'contribut': 1834, 'degre': 1835, 'devic': 1836, 'regret': 1837, 'wing': 1838, 'spell': 1839, 'balanc': 1840, 'sake': 1841, 'print': 1842, 'lake': 1843, 'forgiv': 1844, 'mass': 1845, 'thoma': 1846, 'betti': 1847, 'unexpect': 1848, 'crack': 1849, 'gordon': 1850, 'unfold': 1851, 'invit': 1852, 'grown': 1853, 'categori': 1854, 'construct': 1855, 'depend': 1856, 'amateur': 1857, 'honor': 1858, 'intellectu': 1859, 'walter': 1860, 'grew': 1861, 'matur': 1862, 'condit': 1863, 'anna': 1864, 'mirror': 1865, 'veteran': 1866, 'sudden': 1867, 'sole': 1868, 'spectacular': 1869, 'card': 1870, 'experienc': 1871, 'meanwhil': 1872, 'robin': 1873, 'demonstr': 1874, 'liner': 1875, 'overli': 1876, 'grip': 1877, 'gift': 1878, 'freedom': 1879, 'circumst': 1880, 'crappi': 1881, 'subtitl': 1882, 'brilliantli': 1883, 'drew': 1884, 'theori': 1885, 'unabl': 1886, 'colour': 1887, 'sheriff': 1888, 'section': 1889, 'oliv': 1890, 'laughter': 1891, 'path': 1892, 'altern': 1893, 'pile': 1894, 'parker': 1895, 'cook': 1896, 'sheer': 1897, 'matt': 1898, 'relief': 1899, 'defin': 1900, 'hall': 1901, 'wander': 1902, 'treatment': 1903, 'lawyer': 1904, 'accident': 1905, 'sinatra': 1906, 'dragon': 1907, 'captiv': 1908, 'hank': 1909, 'halloween': 1910, 'gratuit': 1911, 'moor': 1912, 'k': 1913, 'unintent': 1914, 'wound': 1915, 'wayn': 1916, 'broadway': 1917, 'kung': 1918, 'jacki': 1919, 'barbara': 1920, 'cowboy': 1921, 'statement': 1922, 'winter': 1923, 'surreal': 1924, 'spoof': 1925, 'canadian': 1926, 'gonna': 1927, 'compos': 1928, 'treasur': 1929, 'fare': 1930, 'fish': 1931, 'cheer': 1932, 'unrealist': 1933, 'emerg': 1934, 'woodi': 1935, 'sensit': 1936, 'victor': 1937, 'sympathet': 1938, 'neighbor': 1939, 'ran': 1940, 'driven': 1941, 'expos': 1942, 'menac': 1943, 'overlook': 1944, 'authent': 1945, 'topic': 1946, 'glass': 1947, 'michel': 1948, 'gross': 1949, 'ancient': 1950, 'chief': 1951, 'handsom': 1952, 'feet': 1953, 'contemporari': 1954, 'network': 1955, 'comedian': 1956, 'pleasant': 1957, 'built': 1958, 'russel': 1959, 'cinderella': 1960, 'nevertheless': 1961, 'stranger': 1962, 'miser': 1963, 'endless': 1964, 'earn': 1965, 'underr': 1966, 'consider': 1967, 'blockbust': 1968, 'letter': 1969, 'gori': 1970, 'solv': 1971, 'switch': 1972, 'brook': 1973, 'bullet': 1974, 'convict': 1975, 'edward': 1976, 'joseph': 1977, 'virgin': 1978, 'victoria': 1979, 'cynic': 1980, '0': 1981, 'scale': 1982, 'alex': 1983, 'chosen': 1984, 'scenario': 1985, 'outrag': 1986, 'gut': 1987, 'curs': 1988, 'com': 1989, 'sword': 1990, 'proper': 1991, 'monkey': 1992, 'wrap': 1993, 'driver': 1994, 'uk': 1995, 'screenwrit': 1996, 'juli': 1997, 'substanc': 1998, 'court': 1999, 'indic': 2000, 'remov': 2001, 'par': 2002, 'bird': 2003, 'loser': 2004, 'inevit': 2005, 'roy': 2006, 'consequ': 2007, 'naiv': 2008, 'rental': 2009, 'advertis': 2010, 'grave': 2011, 'nanci': 2012, 'le': 2013, 'germani': 2014, 'slap': 2015, 'invis': 2016, 'bridg': 2017, 'fatal': 2018, 'brave': 2019, 'ador': 2020, 'loui': 2021, 'anger': 2022, 'footbal': 2023, 'provok': 2024, 'anderson': 2025, 'chan': 2026, 'alcohol': 2027, 'stumbl': 2028, 'willi': 2029, 'professor': 2030, 'ryan': 2031, 'assassin': 2032, 'patrick': 2033, 'sharp': 2034, 'bat': 2035, '1930': 2036, 'australian': 2037, 'trilog': 2038, 'heck': 2039, 'saturday': 2040, 'amateurish': 2041, 'liber': 2042, 'cell': 2043, 'ape': 2044, 'deni': 2045, 'eight': 2046, 'refresh': 2047, 'lousi': 2048, 'strongli': 2049, 'sin': 2050, 'san': 2051, 'justifi': 2052, 'vagu': 2053, 'resid': 2054, 'defeat': 2055, 'reput': 2056, 'sympathi': 2057, 'terrifi': 2058, 'indi': 2059, 'creator': 2060, 'mini': 2061, 'task': 2062, 'tabl': 2063, 'endur': 2064, 'expert': 2065, 'prevent': 2066, 'tediou': 2067, 'rival': 2068, 'trial': 2069, 'imit': 2070, 'employ': 2071, 'offend': 2072, 'basebal': 2073, 'che': 2074, 'pitch': 2075, 'dig': 2076, 'fairi': 2077, 'max': 2078, 'complaint': 2079, 'weekend': 2080, 'europ': 2081, 'beach': 2082, 'murphi': 2083, 'purchas': 2084, 'risk': 2085, 'format': 2086, 'glimps': 2087, 'tini': 2088, 'harsh': 2089, 'hype': 2090, 'nois': 2091, 'reminisc': 2092, 'bite': 2093, 'powel': 2094, 'titan': 2095, 'north': 2096, 'fals': 2097, '14': 2098, 'till': 2099, 'asleep': 2100, 'strip': 2101, 'prime': 2102, 'africa': 2103, 'texa': 2104, 'destruct': 2105, 'descript': 2106, 'revel': 2107, 'arrest': 2108, 'inner': 2109, 'surfac': 2110, 'sitcom': 2111, 'excess': 2112, 'uninterest': 2113, 'semi': 2114, 'spin': 2115, 'controversi': 2116, 'dinosaur': 2117, 'maintain': 2118, 'massiv': 2119, 'argu': 2120, 'hitchcock': 2121, 'twin': 2122, 'makeup': 2123, 'melodrama': 2124, 'stare': 2125, 'expens': 2126, 'reject': 2127, 'ludicr': 2128, 'ideal': 2129, 'kim': 2130, 'insist': 2131, 'host': 2132, 'subplot': 2133, 'ga': 2134, 'nail': 2135, 'supernatur': 2136, 'ala': 2137, 'forest': 2138, 'press': 2139, 'erot': 2140, 'atroci': 2141, 'columbo': 2142, 'dude': 2143, 'presum': 2144, 'notch': 2145, 'identifi': 2146, 'cant': 2147, 'forgett': 2148, 'character': 2149, 'plagu': 2150, 'crude': 2151, 'method': 2152, 'closer': 2153, 'guest': 2154, 'border': 2155, 'princess': 2156, 'ear': 2157, 'lion': 2158, 'beast': 2159, 'foster': 2160, 'landscap': 2161, 'urban': 2162, 'accus': 2163, 'bound': 2164, 'pacino': 2165, 'aunt': 2166, 'damag': 2167, 'storytel': 2168, 'birth': 2169, 'jungl': 2170, 'previous': 2171, 'nude': 2172, 'chose': 2173, 'propaganda': 2174, 'doll': 2175, 'guid': 2176, 'thirti': 2177, 'jess': 2178, 'emma': 2179, 'mainstream': 2180, 'whoever': 2181, 'warrior': 2182, 'pet': 2183, 'mate': 2184, '25': 2185, 'exact': 2186, 'upset': 2187, 'poster': 2188, 'merit': 2189, 'cooper': 2190, 'latest': 2191, 'friday': 2192, 'gritti': 2193, 'deadli': 2194, 'size': 2195, 'buff': 2196, 'rough': 2197, 'settl': 2198, 'popul': 2199, 'citizen': 2200, 'sun': 2201, '1990': 2202, 'contact': 2203, 'ton': 2204, 'contest': 2205, 'corps': 2206, 'blend': 2207, 'warner': 2208, 'wilson': 2209, 'overcom': 2210, 'rat': 2211, 'mgm': 2212, 'select': 2213, 'pitt': 2214, 'alic': 2215, 'metal': 2216, 'widow': 2217, 'bu': 2218, 'environ': 2219, 'guilti': 2220, 'particip': 2221, 'lift': 2222, 'revolut': 2223, 'link': 2224, 'ted': 2225, 'prostitut': 2226, 'exagger': 2227, 'corpor': 2228, 'moron': 2229, 'corner': 2230, 'afternoon': 2231, 'johnson': 2232, '1960': 2233, 'accompani': 2234, 'matrix': 2235, 'multipl': 2236, 'doom': 2237, 'hood': 2238, 'instal': 2239, 'sincer': 2240, 'leagu': 2241, 'friendli': 2242, 'clair': 2243, 'holm': 2244, 'hip': 2245, 'junk': 2246, 'examin': 2247, 'defend': 2248, 'string': 2249, 'campi': 2250, 'irish': 2251, 'lugosi': 2252, 'blah': 2253, 'sunday': 2254, 'aka': 2255, 'grim': 2256, 'advis': 2257, 'rachel': 2258, 'icon': 2259, 'varieti': 2260, 'tight': 2261, 'shut': 2262, 'pro': 2263, 'confid': 2264, 'shake': 2265, 'denni': 2266, 'goal': 2267, 'medic': 2268, 'attach': 2269, 'mexican': 2270, 'jaw': 2271, 'directli': 2272, 'sullivan': 2273, 'vietnam': 2274, 'sarah': 2275, 'prior': 2276, 'terrorist': 2277, 'courag': 2278, 'sentenc': 2279, 'breast': 2280, 'dean': 2281, 'legendari': 2282, 'truck': 2283, 'duke': 2284, 'bourn': 2285, 'un': 2286, 'nose': 2287, 'yell': 2288, 'entri': 2289, 'split': 2290, 'proceed': 2291, 'behav': 2292, 'hong': 2293, 'donald': 2294, 'forth': 2295, 'everywher': 2296, 'borrow': 2297, 'buri': 2298, 'gather': 2299, 'confess': 2300, 'stolen': 2301, 'concentr': 2302, 'crush': 2303, 'swim': 2304, 'unconvinc': 2305, 'lifetim': 2306, 'jerk': 2307, 'turkey': 2308, 'deliveri': 2309, 'spite': 2310, 'lip': 2311, 'pan': 2312, 'california': 2313, 'julia': 2314, 'downright': 2315, 'china': 2316, 'flight': 2317, 'hoffman': 2318, 'offici': 2319, 'proud': 2320, 'reward': 2321, 'freeman': 2322, 'quest': 2323, 'encourag': 2324, 'worthwhil': 2325, 'betray': 2326, 'lazi': 2327, 'jail': 2328, 'fabul': 2329, 'fade': 2330, 'sir': 2331, 'sink': 2332, 'jon': 2333, 'notori': 2334, 'inept': 2335, 'bell': 2336, 'storm': 2337, 'lisa': 2338, 'bag': 2339, 'retard': 2340, 'imageri': 2341, 'survivor': 2342, 'branagh': 2343, 'cousin': 2344, 'teeth': 2345, 'susan': 2346, 'relev': 2347, 'shower': 2348, 'summari': 2349, 'tremend': 2350, 'toler': 2351, 'finger': 2352, 'trade': 2353, 'quirki': 2354, 'mexico': 2355, 'facial': 2356, 'alright': 2357, 'shark': 2358, 'hugh': 2359, 'stab': 2360, 'bride': 2361, 'pose': 2362, 'hyster': 2363, 'ha': 2364, 'von': 2365, 'bitter': 2366, 'blown': 2367, 'larri': 2368, 'cruel': 2369, 'scheme': 2370, 'address': 2371, 'ned': 2372, 'afterward': 2373, 'bone': 2374, 'ron': 2375, 'christ': 2376, 'feed': 2377, 'beg': 2378, 'pursu': 2379, 'snake': 2380, 'tour': 2381, 'traci': 2382, 'thumb': 2383, 'distinct': 2384, 'screw': 2385, 'swear': 2386, 'chair': 2387, 'raw': 2388, 'mechan': 2389, 'stomach': 2390, 'obscur': 2391, 'occas': 2392, 'photo': 2393, 'gruesom': 2394, 'argument': 2395, 'render': 2396, 'cabin': 2397, 'holiday': 2398, 'necessarili': 2399, 'hardi': 2400, 'heavili': 2401, 'southern': 2402, 'sidney': 2403, 'resist': 2404, 'chain': 2405, 'philip': 2406, 'racist': 2407, 'indulg': 2408, 'understood': 2409, 'india': 2410, 'satan': 2411, 'fourth': 2412, 'integr': 2413, 'stalk': 2414, 'tongu': 2415, 'forgot': 2416, 'midnight': 2417, 'outfit': 2418, 'lay': 2419, 'belov': 2420, 'obnoxi': 2421, 'pregnant': 2422, 'garden': 2423, 'carol': 2424, 'slapstick': 2425, 'restor': 2426, '17': 2427, 'ticket': 2428, 'inhabit': 2429, 'deeper': 2430, 'magazin': 2431, 'shoe': 2432, 'incid': 2433, 'brad': 2434, 'devot': 2435, 'lincoln': 2436, 'benefit': 2437, 'maria': 2438, 'elizabeth': 2439, 'guarante': 2440, 'sandler': 2441, 'divorc': 2442, 'anticip': 2443, 'disbelief': 2444, 'underground': 2445, 'lili': 2446, 'cring': 2447, 'bbc': 2448, 'amazingli': 2449, 'greater': 2450, 'capit': 2451, 'creation': 2452, 'slave': 2453, 'explod': 2454, 'mildli': 2455, 'princip': 2456, 'introduct': 2457, 'lesli': 2458, 'halfway': 2459, 'funnier': 2460, 'extraordinari': 2461, 'tap': 2462, 'text': 2463, 'wreck': 2464, 'transfer': 2465, 'extent': 2466, 'punish': 2467, 'overwhelm': 2468, 'advantag': 2469, 'enhanc': 2470, 'error': 2471, 'east': 2472, 'deliber': 2473, 'lane': 2474, 'preview': 2475, 'horrif': 2476, 'lo': 2477, 'plant': 2478, 'jessica': 2479, 'dynam': 2480, 'basi': 2481, 'miscast': 2482, 'vincent': 2483, 'sophist': 2484, 'homosexu': 2485, 'miller': 2486, '2000': 2487, 'ensu': 2488, 'vacat': 2489, 'appli': 2490, 'uncomfort': 2491, 'steel': 2492, 'reed': 2493, 'mansion': 2494, 'sleazi': 2495, 'elev': 2496, 'extend': 2497, 'via': 2498, 'spoken': 2499, 'measur': 2500, 'bollywood': 2501, 'fix': 2502, 'cathol': 2503, 'melt': 2504, 'assign': 2505, 'breathtak': 2506, 'hippi': 2507, 'alter': 2508, 'blair': 2509, 'overact': 2510, 'beer': 2511, 'stanley': 2512, 'dentist': 2513, 'mous': 2514, 'savag': 2515, 'daili': 2516, 'conceiv': 2517, 'goofi': 2518, 'sacrific': 2519, 'everyday': 2520, 'nowaday': 2521, 'oppos': 2522, 'succe': 2523, 'inspector': 2524, 'burt': 2525, 'properli': 2526, 'subsequ': 2527, 'carpent': 2528, 'neck': 2529, 'massacr': 2530, 'circl': 2531, 'laura': 2532, 'block': 2533, 'lesser': 2534, 'pool': 2535, 'fay': 2536, 'christi': 2537, 'concert': 2538, 'seagal': 2539, 'portrait': 2540, 'fallen': 2541, 'mob': 2542, 'access': 2543, 'grey': 2544, 'react': 2545, 'competit': 2546, 'usa': 2547, 'isol': 2548, 'chees': 2549, 'sinist': 2550, 'relax': 2551, 'jake': 2552, 'jewish': 2553, 'nine': 2554, 'creep': 2555, '2006': 2556, 'immens': 2557, 'spiritu': 2558, 'lyric': 2559, 'nonetheless': 2560, 'chop': 2561, 'stink': 2562, 'suitabl': 2563, 'appal': 2564, 'ironi': 2565, 'needless': 2566, 'adopt': 2567, 'user': 2568, 'luci': 2569, 'sold': 2570, 'reduc': 2571, 'showcas': 2572, 'nut': 2573, 'navi': 2574, 'rage': 2575, 'spring': 2576, 'retir': 2577, 'franchis': 2578, 'shirt': 2579, 'per': 2580, 'nurs': 2581, 'asham': 2582, 'digit': 2583, 'bulli': 2584, 'stanwyck': 2585, 'zone': 2586, 'jay': 2587, 'bath': 2588, 'uninspir': 2589, 'sutherland': 2590, 'upper': 2591, 'broadcast': 2592, '2001': 2593, 'amongst': 2594, '1940': 2595, 'laid': 2596, 'oddli': 2597, 'illustr': 2598, 'aspir': 2599, 'fulfil': 2600, 'baker': 2601, 'stylish': 2602, 'disguis': 2603, 'throat': 2604, 'brando': 2605, 'wwii': 2606, 'em': 2607, 'neighborhood': 2608, 'nobl': 2609, 'wanna': 2610, 'endear': 2611, 'impli': 2612, 'pound': 2613, 'pride': 2614, '18': 2615, 'thief': 2616, 'coher': 2617, 'cinematograph': 2618, 'shoulder': 2619, 'shift': 2620, 'albeit': 2621, 'diseas': 2622, 'bett': 2623, 'prop': 2624, 'tens': 2625, '16': 2626, 'dawn': 2627, 'dinner': 2628, 'bo': 2629, 'distribut': 2630, 'rochest': 2631, 'silenc': 2632, 'rebel': 2633, 'function': 2634, 'matthau': 2635, 'shout': 2636, 'snow': 2637, 'surf': 2638, 'forti': 2639, 'knife': 2640, 'wash': 2641, 'poignant': 2642, 'contract': 2643, 'heat': 2644, 'proof': 2645, 'horrend': 2646, 'henc': 2647, 'cancel': 2648, 'chuck': 2649, 'cannib': 2650, 'instinct': 2651, 'reunion': 2652, 'eeri': 2653, 'silver': 2654, 'internet': 2655, 'duti': 2656, 'mindless': 2657, 'height': 2658, 'widmark': 2659, 'derek': 2660, 'elvira': 2661, 'absorb': 2662, 'mill': 2663, 'incoher': 2664, 'greatli': 2665, 'innov': 2666, 'elvi': 2667, 'premier': 2668, 'repetit': 2669, 'glori': 2670, 'musician': 2671, 'alik': 2672, 'pie': 2673, 'neat': 2674, 'torn': 2675, 'etern': 2676, 'spielberg': 2677, 'lovabl': 2678, 'announc': 2679, 'horrifi': 2680, 'bang': 2681, 'itali': 2682, 'infam': 2683, 'trite': 2684, 'crisi': 2685, 'homag': 2686, 'burton': 2687, 'redempt': 2688, 'precis': 2689, 'blank': 2690, 'fbi': 2691, 'diamond': 2692, 'racism': 2693, 'britain': 2694, 'wealthi': 2695, 'nelson': 2696, 'streisand': 2697, 'hammer': 2698, 'dedic': 2699, 'happili': 2700, 'wilder': 2701, 'parallel': 2702, 'pat': 2703, 'ensembl': 2704, 'chaplin': 2705, 'helen': 2706, 'resolut': 2707, 'flop': 2708, 'carter': 2709, 'plastic': 2710, 'oil': 2711, 'factori': 2712, 'conclud': 2713, 'st': 2714, 'triumph': 2715, 'disagre': 2716, 'broke': 2717, 'mar': 2718, 'cube': 2719, 'row': 2720, 'weight': 2721, 'rocket': 2722, 'bush': 2723, 'vega': 2724, 'chuckl': 2725, 'march': 2726, 'climb': 2727, 'fighter': 2728, 'own': 2729, 'meaning': 2730, 'mst3k': 2731, 'thug': 2732, 'kurt': 2733, 'boot': 2734, 'dump': 2735, 'lust': 2736, 'spare': 2737, 'wherea': 2738, 'sensibl': 2739, 'dane': 2740, 'unforgett': 2741, 'enorm': 2742, 'luca': 2743, 'rap': 2744, 'brand': 2745, 'dear': 2746, 'threat': 2747, 'fifti': 2748, 'stress': 2749, 'arnold': 2750, 'adequ': 2751, 'bobbi': 2752, 'difficulti': 2753, 'engin': 2754, 'butt': 2755, 'caricatur': 2756, 'karloff': 2757, 'polish': 2758, 'ego': 2759, 'ralph': 2760, 'hamlet': 2761, 'arrog': 2762, 'secretari': 2763, 'swing': 2764, 'journalist': 2765, 'homeless': 2766, 'fest': 2767, 'elabor': 2768, 'flynn': 2769, 'barri': 2770, 'simpson': 2771, 'fanci': 2772, 'induc': 2773, 'puppet': 2774, 'unbear': 2775, 'conspiraci': 2776, 'grate': 2777, 'arrang': 2778, 'spike': 2779, 'tool': 2780, 'float': 2781, 'resort': 2782, 'tribut': 2783, 'choreograph': 2784, 'boll': 2785, 'guilt': 2786, 'muppet': 2787, 'pig': 2788, 'basement': 2789, 'exercis': 2790, 'phillip': 2791, 'cruis': 2792, 'korean': 2793, 'babe': 2794, 'ham': 2795, 'medium': 2796, 'editor': 2797, 'item': 2798, 'file': 2799, 'fianc': 2800, '24': 2801, 'layer': 2802, 'puzzl': 2803, 'tower': 2804, 'stan': 2805, 'toilet': 2806, 'ward': 2807, 'slip': 2808, 'document': 2809, 'scarecrow': 2810, 'transit': 2811, 'persona': 2812, 'doc': 2813, 'assur': 2814, 'slaughter': 2815, 'librari': 2816, 'superfici': 2817, 'philosoph': 2818, 'minim': 2819, 'orient': 2820, 'catherin': 2821, 'larger': 2822, 'spark': 2823, 'territori': 2824, 'glover': 2825, 'portion': 2826, 'inexplic': 2827, 'denzel': 2828, 'walken': 2829, 'financi': 2830, 'wolf': 2831, 'curti': 2832, 'shi': 2833, 'owe': 2834, 'ban': 2835, 'pg': 2836, 'jet': 2837, 'jeremi': 2838, 'sneak': 2839, 'boredom': 2840, 'dorothi': 2841, 'backdrop': 2842, 'eleph': 2843, 'metaphor': 2844, 'profound': 2845, 'hudson': 2846, 'multi': 2847, 'cusack': 2848, 'ambigu': 2849, 'whale': 2850, 'elsewher': 2851, 'implaus': 2852, '2005': 2853, 'birthday': 2854, 'viru': 2855, 'ultra': 2856, 'notion': 2857, 'gadget': 2858, 'stiff': 2859, 'union': 2860, 'rave': 2861, 'hack': 2862, 'eva': 2863, 'pad': 2864, 'afford': 2865, 'newspap': 2866, 'canada': 2867, 'reader': 2868, '1st': 2869, 'hawk': 2870, 'squar': 2871, 'urg': 2872, 'poison': 2873, 'lloyd': 2874, 'distanc': 2875, 'slight': 2876, 'disc': 2877, 'eastwood': 2878, 'deriv': 2879, 'bibl': 2880, 'superhero': 2881, 'drown': 2882, 'skit': 2883, 'essenc': 2884, 'montag': 2885, 'huh': 2886, 'button': 2887, 'charisma': 2888, 'sadist': 2889, 'heston': 2890, 'spread': 2891, 'cure': 2892, 'health': 2893, 'restaur': 2894, 'dealt': 2895, 'godfath': 2896, 'invest': 2897, 'companion': 2898, 'gradual': 2899, 'lab': 2900, 'peak': 2901, 'maniac': 2902, 'scoobi': 2903, 'fetch': 2904, 'muslim': 2905, 'estat': 2906, 'kane': 2907, 'servant': 2908, 'cup': 2909, 'gothic': 2910, 'ritter': 2911, 'tea': 2912, 'alli': 2913, 'countless': 2914, 'subtleti': 2915, 'miik': 2916, 'heroic': 2917, 'electr': 2918, 'iii': 2919, 'charismat': 2920, 'elect': 2921, 'salli': 2922, 'briefli': 2923, 'resourc': 2924, 'nuanc': 2925, 'bud': 2926, 'wannab': 2927, 'tender': 2928, 'cole': 2929, 'ingredi': 2930, 'admittedli': 2931, 'toss': 2932, 'reel': 2933, 'grandmoth': 2934, 'neil': 2935, 'label': 2936, 'poverti': 2937, 'stood': 2938, 'shall': 2939, 'mild': 2940, 'stronger': 2941, 'mafia': 2942, 'kubrick': 2943, 'punk': 2944, 'reev': 2945, 'pauli': 2946, 'gate': 2947, 'carrey': 2948, 'pit': 2949, 'dawson': 2950, 'easier': 2951, 'smash': 2952, 'cox': 2953, 'ian': 2954, 'cardboard': 2955, 'burst': 2956, 'tag': 2957, 'fond': 2958, 'smooth': 2959, 'outcom': 2960, 'terri': 2961, 'updat': 2962, 'useless': 2963, 'bakshi': 2964, 'assault': 2965, 'astair': 2966, 'coincid': 2967, 'rex': 2968, 'samurai': 2969, 'divers': 2970, 'fist': 2971, 'exchang': 2972, 'resolv': 2973, 'vulner': 2974, 'vari': 2975, 'increasingli': 2976, 'melodramat': 2977, 'qualifi': 2978, 'sketch': 2979, '2002': 2980, 'blast': 2981, 'templ': 2982, 'conveni': 2983, 'brillianc': 2984, 'scratch': 2985, 'be': 2986, 'tame': 2987, 'insert': 2988, 'suspend': 2989, 'luckili': 2990, 'reynold': 2991, 'walker': 2992, 'jami': 2993, 'matthew': 2994, 'coach': 2995, 'pin': 2996, 'nuclear': 2997, 'seventi': 2998, 'ambiti': 2999, 'strictli': 3000, 'gotta': 3001, 'farm': 3002, 'meat': 3003, 'soprano': 3004, 'hamilton': 3005, 'fisher': 3006, 'spooki': 3007, 'instantli': 3008, 'eccentr': 3009, 'grasp': 3010, 'cave': 3011, 'worthless': 3012, 'struck': 3013, 'closet': 3014, 'monk': 3015, 'convolut': 3016, 'butcher': 3017, 'discoveri': 3018, 'ninja': 3019, 'recreat': 3020, 'brosnan': 3021, 'empir': 3022, 'revers': 3023, 'kudo': 3024, 'timeless': 3025, 'joey': 3026, 'clock': 3027, 'pal': 3028, 'fifteen': 3029, 'declar': 3030, 'norman': 3031, 'gray': 3032, 'eighti': 3033, 'sidekick': 3034, 'communist': 3035, 'seller': 3036, 'miracl': 3037, 'bleak': 3038, 'clown': 3039, 'importantli': 3040, 'evok': 3041, 'inconsist': 3042, 'selfish': 3043, 'cliff': 3044, 'sloppi': 3045, 'wipe': 3046, 'mitchel': 3047, 'partli': 3048, 'seed': 3049, '45': 3050, 'lifestyl': 3051, 'cheek': 3052, 'superbl': 3053, 'ho': 3054, 'aforement': 3055, 'flawless': 3056, 'australia': 3057, 'chew': 3058, 'farc': 3059, 'debat': 3060, 'destin': 3061, 'enthusiast': 3062, 'piano': 3063, 'stoog': 3064, 'websit': 3065, 'psychiatrist': 3066, 'anni': 3067, 'akshay': 3068, 'incompet': 3069, 'directori': 3070, 'dire': 3071, 'wrestl': 3072, 'wick': 3073, 'soviet': 3074, 'bash': 3075, 'pressur': 3076, 'drivel': 3077, 'slice': 3078, 'emili': 3079, 'abc': 3080, 'regardless': 3081, 'kitchen': 3082, 'dash': 3083, 'splatter': 3084, 'prize': 3085, 'distant': 3086, 'suppli': 3087, 'glow': 3088, 'helicopt': 3089, 'lou': 3090, 'seduc': 3091, 'curios': 3092, 'pleasantli': 3093, 'judi': 3094, 'boil': 3095, 'mann': 3096, 'increas': 3097, 'flower': 3098, 'recov': 3099, 'artifici': 3100, 'jar': 3101, 'duo': 3102, 'doo': 3103, 'cameron': 3104, 'chapter': 3105, 'beaten': 3106, 'cia': 3107, 'dave': 3108, 'ken': 3109, 'cagney': 3110, 'blob': 3111, 'glenn': 3112, 'hop': 3113, 'craig': 3114, 'favour': 3115, 'combat': 3116, 'goldberg': 3117, 'eleg': 3118, 'panic': 3119, 'turner': 3120, 'craven': 3121, 'splendid': 3122, 'perri': 3123, 'laurel': 3124, 'ellen': 3125, 'web': 3126, 'ranger': 3127, 'drunken': 3128, 'psychot': 3129, 'francisco': 3130, 'graduat': 3131, 'fx': 3132, 'gandhi': 3133, 'plausibl': 3134, 'flip': 3135, 'rid': 3136, 'alexand': 3137, 'ruth': 3138, 'shortli': 3139, 'slightest': 3140, 'philosophi': 3141, 'hatr': 3142, 'min': 3143, 'gentl': 3144, 'modesti': 3145, '20th': 3146, 'wizard': 3147, 'greek': 3148, 'falk': 3149, 'manhattan': 3150, 'dracula': 3151, 'legal': 3152, 'harm': 3153, 'knight': 3154, 'tall': 3155, 'holi': 3156, 'fund': 3157, 'unpleas': 3158, 'felix': 3159, 'we': 3160, 'jealou': 3161, 'futurist': 3162, 'preciou': 3163, 'lend': 3164, 'ocean': 3165, 'nod': 3166, 'digniti': 3167, 'childish': 3168, 'tank': 3169, 'overdon': 3170, 'forbidden': 3171, 'thread': 3172, 'explicit': 3173, 'scientif': 3174, 'mock': 3175, 'ami': 3176, 'giallo': 3177, 'bless': 3178, 'reviv': 3179, 'verhoeven': 3180, 'fever': 3181, 'elderli': 3182, 'eve': 3183, 'awe': 3184, 'thick': 3185, 'pirat': 3186, '99': 3187, 'torment': 3188, 'broad': 3189, 'margaret': 3190, '2004': 3191, 'unwatch': 3192, 'repeatedli': 3193, 'yesterday': 3194, 'awaken': 3195, 'mel': 3196, 'nerv': 3197, 'ambit': 3198, 'absenc': 3199, 'ah': 3200, 'automat': 3201, 'eas': 3202, 'launch': 3203, 'publish': 3204, 'roman': 3205, 'uniform': 3206, 'custom': 3207, 'timothi': 3208, 'lean': 3209, 'acclaim': 3210, 'kay': 3211, 'griffith': 3212, 'politician': 3213, 'royal': 3214, 'romero': 3215, 'rivet': 3216, 'stiller': 3217, 'bin': 3218, 'wallac': 3219, 'foul': 3220, 'crook': 3221, 'bathroom': 3222, 'termin': 3223, 'warren': 3224, 'stinker': 3225, 'transport': 3226, 'homicid': 3227, 'darker': 3228, 'purpl': 3229, 'phrase': 3230, 'pierc': 3231, 'pulp': 3232, 'antic': 3233, 'sunshin': 3234, 'gabriel': 3235, 'tomato': 3236, 'awak': 3237, 'horrid': 3238, 'saint': 3239, 'kenneth': 3240, 'coloni': 3241, 'juvenil': 3242, 'album': 3243, 'karen': 3244, 'li': 3245, 'choreographi': 3246, 'evolv': 3247, 'pray': 3248, 'viciou': 3249, 'contrari': 3250, 'sixti': 3251, 'revolutionari': 3252, 'brazil': 3253, 'donna': 3254, 'hollow': 3255, 'rambo': 3256, 'q': 3257, 'packag': 3258, 'prom': 3259, 'marin': 3260, '2003': 3261, 'ought': 3262, 'eyr': 3263, 'blade': 3264, 'boast': 3265, 'mummi': 3266, 'beatti': 3267, 'candid': 3268, 'dose': 3269, 'kapoor': 3270, 'defi': 3271, 'conserv': 3272, 'overr': 3273, 'stole': 3274, 'twelv': 3275, 'ireland': 3276, 'nerd': 3277, 'option': 3278, 'ramon': 3279, 'mildr': 3280, 'confirm': 3281, 'collabor': 3282, 'detract': 3283, 'trio': 3284, 'kirk': 3285, 'protest': 3286, 'astonish': 3287, 'natali': 3288, 'funer': 3289, 'fulci': 3290, 'global': 3291, 'altman': 3292, 'jazz': 3293, 'flame': 3294, 'bull': 3295, 'tommi': 3296, 'destini': 3297, 'leap': 3298, 'shade': 3299, 'delici': 3300, 'enterpris': 3301, 'audio': 3302, 'bottl': 3303, 'nicholson': 3304, 'racial': 3305, 'spit': 3306, 'blake': 3307, 'yellow': 3308, 'mystic': 3309, 'whip': 3310, 'threw': 3311, 'bedroom': 3312, 'enchant': 3313, 'staff': 3314, 'merci': 3315, 'inherit': 3316, 'neo': 3317, 'visibl': 3318, 'harder': 3319, 'reunit': 3320, 'adolesc': 3321, 'fonda': 3322, 'popcorn': 3323, 'altogeth': 3324, 'pseudo': 3325, 'todd': 3326, 'vivid': 3327, 'meaningless': 3328, 'swedish': 3329, 'moodi': 3330, 'fanat': 3331, 'respond': 3332, 'synopsi': 3333, 'uneven': 3334, 'lemmon': 3335, 'reserv': 3336, 'leonard': 3337, 'bust': 3338, 'befriend': 3339, 'ruthless': 3340, 'await': 3341, 'exhibit': 3342, 'suspici': 3343, 'roommat': 3344, 'atlanti': 3345, 'decor': 3346, 'voight': 3347, 'wire': 3348, 'kennedi': 3349, 'madonna': 3350, 'lawrenc': 3351, 'tip': 3352, 'jew': 3353, 'edi': 3354, 'crocodil': 3355, 'audit': 3356, 'clumsi': 3357, 'unsettl': 3358, 'abysm': 3359, 'voyag': 3360, 'garner': 3361, 'bargain': 3362, 'bold': 3363, 'carl': 3364, 'chao': 3365, 'incident': 3366, 'ventur': 3367, 'dimens': 3368, 'clint': 3369, 'rural': 3370, '2007': 3371, 'holli': 3372, 'palma': 3373, 'bradi': 3374, 'centr': 3375, 'neglect': 3376, 'versu': 3377, 'cd': 3378, 'troop': 3379, '2nd': 3380, 'echo': 3381, 'timon': 3382, 'daddi': 3383, 'cari': 3384, 'acknowledg': 3385, 'elimin': 3386, 'cuba': 3387, 'hart': 3388, 'humili': 3389, 'tiger': 3390, 'characterist': 3391, 'trail': 3392, 'ant': 3393, 'lit': 3394, 'poetic': 3395, 'immigr': 3396, 'wealth': 3397, 'imperson': 3398, 'nearbi': 3399, 'mall': 3400, 'domest': 3401, 'mickey': 3402, 'infect': 3403, 'solo': 3404, 'marshal': 3405, 'repuls': 3406, 'collaps': 3407, 'homer': 3408, 'prejudic': 3409, 'saga': 3410, 'celluloid': 3411, 'paus': 3412, 'jeffrey': 3413, 'mistaken': 3414, 'pun': 3415, 'coat': 3416, 'coffe': 3417, 'gear': 3418, 'ginger': 3419, 'undoubtedli': 3420, 'hbo': 3421, 'cake': 3422, 'sore': 3423, 'inappropri': 3424, 'inan': 3425, 'olivi': 3426, 'equip': 3427, 'harvey': 3428, 'milk': 3429, 'assembl': 3430, 'tribe': 3431, 'promin': 3432, '1996': 3433, 'pant': 3434, 'chest': 3435, 'interrupt': 3436, 'apolog': 3437, 'leon': 3438, 'exot': 3439, 'vulgar': 3440, 'primari': 3441, 'pen': 3442, 'florida': 3443, 'solut': 3444, 'trace': 3445, 'brooklyn': 3446, 'consum': 3447, 'furthermor': 3448, 'instant': 3449, 'colleagu': 3450, 'aveng': 3451, 'institut': 3452, 'polanski': 3453, 'humbl': 3454, 'maggi': 3455, 'devast': 3456, 'colonel': 3457, 'pot': 3458, 'airplan': 3459, 'embrac': 3460, 'jenni': 3461, 'retain': 3462, 'highest': 3463, 'outer': 3464, 'godzilla': 3465, '3rd': 3466, '1999': 3467, 'seduct': 3468, 'cope': 3469, 'poke': 3470, 'rick': 3471, 'linda': 3472, 'principl': 3473, 'dian': 3474, 'sale': 3475, 'strain': 3476, 'wive': 3477, 'descend': 3478, 'disabl': 3479, 'ya': 3480, 'bowl': 3481, 'gender': 3482, 'smaller': 3483, 'illog': 3484, 'dutch': 3485, 'primarili': 3486, 'yard': 3487, 'blatant': 3488, 'glamor': 3489, 'inferior': 3490, 'cue': 3491, 'mixtur': 3492, 'devoid': 3493, 'scope': 3494, 'lol': 3495, 'dive': 3496, 'dud': 3497, 'rabbit': 3498, 'vast': 3499, 'gloriou': 3500, 'predecessor': 3501, 'bubbl': 3502, 'beneath': 3503, 'secondli': 3504, 'hal': 3505, 'gundam': 3506, 'et': 3507, 'senseless': 3508, 'disjoint': 3509, 'hideou': 3510, 'trademark': 3511, 'breed': 3512, 'shelf': 3513, 'talki': 3514, 'countrysid': 3515, 'alfr': 3516, 'casual': 3517, 'domino': 3518, 'invas': 3519, 'simplist': 3520, 'streep': 3521, 'aggress': 3522, 'z': 3523, 'museum': 3524, 'shirley': 3525, 'pearl': 3526, 'arab': 3527, 'garbo': 3528, 'april': 3529, 'grinch': 3530, 'myer': 3531, 'alert': 3532, 'boom': 3533, 'unhappi': 3534, 'uwe': 3535, 'stir': 3536, 'maci': 3537, 'obtain': 3538, 'hardcor': 3539, 'applaud': 3540, 'vanish': 3541, 'rendit': 3542, 'robberi': 3543, 'khan': 3544, 'experiment': 3545, 'oz': 3546, 'slide': 3547, 'illeg': 3548, 'mail': 3549, 'acid': 3550, 'sh': 3551, 'robinson': 3552, 'hopeless': 3553, 'mayor': 3554, 'stellar': 3555, 'loyal': 3556, 'stack': 3557, 'defens': 3558, 'disgrac': 3559, 'dismiss': 3560, 'tempt': 3561, 'fri': 3562, 'berlin': 3563, 'scroog': 3564, 'spider': 3565, 'emphasi': 3566, 'amanda': 3567, 'declin': 3568, 'rifl': 3569, 'craze': 3570, 'tenant': 3571, 'psychic': 3572, 'topless': 3573, 'diana': 3574, 'soccer': 3575, 'wont': 3576, 'recruit': 3577, 'dicken': 3578, 'incomprehens': 3579, 'grandfath': 3580, 'blew': 3581, 'span': 3582, 'counter': 3583, 'hartley': 3584, 'sympath': 3585, 'goer': 3586, 'sibl': 3587, 'faster': 3588, 'intim': 3589, 'woo': 3590, 'porno': 3591, 'ethnic': 3592, 'trashi': 3593, 'resurrect': 3594, 'shaw': 3595, 'revolt': 3596, 'riot': 3597, 'shed': 3598, 'wet': 3599, 'niro': 3600, 'justin': 3601, 'parad': 3602, 'bitch': 3603, 'lumet': 3604, 'ration': 3605, 'hopper': 3606, 'region': 3607, 'immort': 3608, 'wendi': 3609, 'dealer': 3610, 'choru': 3611, 'ensur': 3612, 'feminist': 3613, 'enlighten': 3614, 'hesit': 3615, 'biographi': 3616, 'steam': 3617, 'partial': 3618, 'rider': 3619, 'unreal': 3620, 'worm': 3621, 'gap': 3622, 'andr': 3623, 'honesti': 3624, 'mario': 3625, 'slick': 3626, 'wheel': 3627, 'farmer': 3628, 'ballet': 3629, 'lena': 3630, 'eager': 3631, 'nephew': 3632, 'jonathan': 3633, 'commend': 3634, '00': 3635, 'weakest': 3636, 'patriot': 3637, 'prequel': 3638, 'snap': 3639, 'sappi': 3640, 'psychopath': 3641, 'confin': 3642, 'wore': 3643, 'charlott': 3644, 'hung': 3645, 'properti': 3646, 'leo': 3647, 'victori': 3648, 'nostalg': 3649, 'util': 3650, 'vice': 3651, 'kingdom': 3652, 'franco': 3653, 'owen': 3654, 'similarli': 3655, 'repress': 3656, 'mutant': 3657, 'skull': 3658, 'safeti': 3659, 'morri': 3660, 'sandra': 3661, 'composit': 3662, 'blunt': 3663, 'macarthur': 3664, 'bumbl': 3665, 'compass': 3666, 'dust': 3667, 'tail': 3668, 'bonu': 3669, 'rocki': 3670, 'del': 3671, 'campbel': 3672, 'emperor': 3673, 'latin': 3674, 'snl': 3675, 'whoopi': 3676, 'cg': 3677, 'hyde': 3678, 'compens': 3679, 'pattern': 3680, 'farrel': 3681, 'speci': 3682, 'miseri': 3683, 'drum': 3684, 'recycl': 3685, 'heartbreak': 3686, 'rambl': 3687, 'bergman': 3688, '1972': 3689, 'montana': 3690, 'tad': 3691, 'thru': 3692, 'deed': 3693, 'drain': 3694, 'valuabl': 3695, 'kyle': 3696, 'acquir': 3697, 'nervou': 3698, 'exit': 3699, 'despair': 3700, 'bow': 3701, 'strand': 3702, 'dalton': 3703, 'rope': 3704, 'repli': 3705, 'airport': 3706, 'downhil': 3707, 'da': 3708, 'mistress': 3709, 'carradin': 3710, 'percept': 3711, '35': 3712, 'wacki': 3713, 'bleed': 3714, 'radic': 3715, 'orson': 3716, 'chess': 3717, 'pour': 3718, 'martian': 3719, 'gal': 3720, 'tonight': 3721, 'roth': 3722, 'contempl': 3723, 'olli': 3724, 'slug': 3725, 'gimmick': 3726, 'romp': 3727, 'oppress': 3728, 'rapist': 3729, 'rotten': 3730, 'taught': 3731, 'pervers': 3732, '1983': 3733, 'arc': 3734, 'paltrow': 3735, 'pursuit': 3736, 'stilt': 3737, 'champion': 3738, 'edgar': 3739, 'heal': 3740, 'shelley': 3741, 'slash': 3742, 'tooth': 3743, 'arguabl': 3744, 'attorney': 3745, 'pervert': 3746, 'dazzl': 3747, 'banal': 3748, 'mislead': 3749, 'programm': 3750, 'unpredict': 3751, 'tackl': 3752, 'melodi': 3753, 'belt': 3754, 'preach': 3755, 'duval': 3756, 'plight': 3757, 'raymond': 3758, 'passeng': 3759, 'mesmer': 3760, 'tiresom': 3761, 'cleverli': 3762, 'bela': 3763, 'closest': 3764, 'gambl': 3765, 'virginia': 3766, 'vocal': 3767, 'maid': 3768, 'conneri': 3769, 'graham': 3770, 'sensat': 3771, 'uplift': 3772, 'franki': 3773, 'poem': 3774, 'chicken': 3775, 'orang': 3776, 'rubi': 3777, 'employe': 3778, 'vengeanc': 3779, 'dixon': 3780, 'marti': 3781, '1968': 3782, 'swallow': 3783, 'quarter': 3784, 'mute': 3785, 'secretli': 3786, 'climact': 3787, 'clone': 3788, 'giggl': 3789, 'lundgren': 3790, 'engross': 3791, 'suffic': 3792, 'yawn': 3793, 'numb': 3794, 'abraham': 3795, 'gerard': 3796, 'inject': 3797, 'volum': 3798, 'paranoia': 3799, 'outing': 3800, 'iran': 3801, 'profan': 3802, 'habit': 3803, 'calm': 3804, 'convincingli': 3805, 'crystal': 3806, 'whine': 3807, 'pokemon': 3808, 'monologu': 3809, 'tube': 3810, 'scottish': 3811, 'bay': 3812, 'sirk': 3813, 'amitabh': 3814, 'extens': 3815, 'grotesqu': 3816, 'fed': 3817, 'backward': 3818, 'trend': 3819, 'chicago': 3820, 'underst': 3821, 'nichola': 3822, 'austen': 3823, 'richardson': 3824, 'meander': 3825, 'linger': 3826, 'earl': 3827, 'franci': 3828, 'expand': 3829, 'profess': 3830, 'lowest': 3831, 'dispos': 3832, 'taxi': 3833, 'bend': 3834, 'plod': 3835, 'surpass': 3836, 'abort': 3837, 'poetri': 3838, 'spock': 3839, 'im': 3840, 'ethan': 3841, 'junior': 3842, 'septemb': 3843, 'frankenstein': 3844, 'literatur': 3845, 'household': 3846, 'simplic': 3847, 'spoke': 3848, 'lure': 3849, 'cannon': 3850, 'eugen': 3851, 'mundan': 3852, 'hum': 3853, 'der': 3854, 'compliment': 3855, 'sue': 3856, 'nostalgia': 3857, 'econom': 3858, 'dysfunct': 3859, 'catchi': 3860, 'rubber': 3861, 'instrument': 3862, 'rant': 3863, 'tourist': 3864, 'myth': 3865, 'waitress': 3866, 'muddl': 3867, 'greedi': 3868, 'stallon': 3869, 'descent': 3870, 'recognis': 3871, 'phoni': 3872, 'mortal': 3873, 'crucial': 3874, 'phantom': 3875, 'furi': 3876, 'mankind': 3877, 'june': 3878, 'sissi': 3879, 'equival': 3880, 'duck': 3881, 'irrelev': 3882, 'map': 3883, 'deaf': 3884, 'omen': 3885, 'lang': 3886, 'dictat': 3887, 'occupi': 3888, 'firstli': 3889, 'cent': 3890, 'randi': 3891, 'coast': 3892, 'stale': 3893, 'hello': 3894, 'molli': 3895, 'bacal': 3896, 'recognit': 3897, 'eaten': 3898, 'dement': 3899, 'alongsid': 3900, 'insur': 3901, 'louis': 3902, 'flee': 3903, 'carel': 3904, 'damon': 3905, 'twilight': 3906, 'newli': 3907, 'reign': 3908, 'onlin': 3909, 'daisi': 3910, 'wisdom': 3911, 'bump': 3912, 'freez': 3913, 'heel': 3914, 'cyborg': 3915, 'rooney': 3916, 'dreari': 3917, 'damm': 3918, 'drake': 3919, 'distinguish': 3920, 'ashley': 3921, 'biko': 3922, 'loyalti': 3923, '1973': 3924, 'lengthi': 3925, 'rude': 3926, 'labor': 3927, 'bike': 3928, 'buffalo': 3929, 'antwon': 3930, 'blackmail': 3931, 'likewis': 3932, 'grayson': 3933, 'barrymor': 3934, 'worn': 3935, 'interior': 3936, 'provoc': 3937, 'inher': 3938, 'pink': 3939, 'analysi': 3940, 'prey': 3941, 'tunnel': 3942, 'vein': 3943, 'boxer': 3944, 'attribut': 3945, 'startl': 3946, 'approv': 3947, 'basketbal': 3948, 'butler': 3949, 'baddi': 3950, 'proce': 3951, 'ridden': 3952, 'emphas': 3953, 'sailor': 3954, 'keith': 3955, 'incorpor': 3956, 'chronicl': 3957, 'nineti': 3958, 'exposur': 3959, 'unorigin': 3960, 'mighti': 3961, 'condemn': 3962, 'barrel': 3963, 'indiffer': 3964, 'substitut': 3965, 'underli': 3966, 'millionair': 3967, 'predat': 3968, 'degrad': 3969, 'hypnot': 3970, 'drift': 3971, 'carla': 3972, 'meyer': 3973, 'elm': 3974, 'improvis': 3975, 'er': 3976, 'julian': 3977, 'fleet': 3978, 'robbin': 3979, 'meg': 3980, 'unrel': 3981, 'walsh': 3982, 'mormon': 3983, 'othello': 3984, 'bunni': 3985, 'undeni': 3986, 'nicol': 3987, 'simmon': 3988, 'stalker': 3989, 'belushi': 3990, 'nyc': 3991, 'alarm': 3992, 'firm': 3993, 'greed': 3994, 'palac': 3995, 'vital': 3996, 'dolph': 3997, 'mtv': 3998, 'watson': 3999, 'warmth': 4000, 'priceless': 4001, 'agenda': 4002, 'lampoon': 4003, 'enthusiasm': 4004, 'hay': 4005, 'edgi': 4006, 'novak': 4007, 'roof': 4008, '3d': 4009, 'unawar': 4010, 'shove': 4011, 'disord': 4012, 'errol': 4013, 'marion': 4014, 'reid': 4015, 'rukh': 4016, 'exquisit': 4017, 'alison': 4018, 'sergeant': 4019, 'preserv': 4020, 'testament': 4021, 'championship': 4022, 'what': 4023, 'petti': 4024, 'glanc': 4025, 'showdown': 4026, '1933': 4027, 'peril': 4028, 'gestur': 4029, 'profit': 4030, 'angela': 4031, 'minimum': 4032, 'ponder': 4033, 'israel': 4034, 'pamela': 4035, 'campaign': 4036, 'randomli': 4037, 'cassidi': 4038, 'coup': 4039, 'zizek': 4040, 'crown': 4041, 'eastern': 4042, 'nun': 4043, 'orlean': 4044, 'thompson': 4045, 'spain': 4046, 'drip': 4047, 'valentin': 4048, 'peck': 4049, 'unleash': 4050, 'iraq': 4051, 'beatl': 4052, '13th': 4053, 'session': 4054, 'distort': 4055, 'simultan': 4056, 'perpetu': 4057, 'unimagin': 4058, 'crawl': 4059, '1984': 4060, 'stake': 4061, 'wig': 4062, 'regist': 4063, 'realm': 4064, 'contradict': 4065, 'crow': 4066, 'represent': 4067, 'stroke': 4068, 'restrain': 4069, 'shootout': 4070, 'calib': 4071, 'cream': 4072, 'cooki': 4073, 'valley': 4074, 'han': 4075, 'scotland': 4076, 'empathi': 4077, 'mon': 4078, 'kurosawa': 4079, 'reson': 4080, 'jan': 4081, 'brenda': 4082, 'din': 4083, 'travesti': 4084, 'fido': 4085, 'climat': 4086, 'quinn': 4087, 'rout': 4088, 'sabrina': 4089, 'buster': 4090, 'gentleman': 4091, 'exposit': 4092, 'miyazaki': 4093, 'bro': 4094, 'monoton': 4095, 'painter': 4096, 'compromis': 4097, '1987': 4098, 'censor': 4099, 'absent': 4100, 'spacey': 4101, 'businessman': 4102, 'crawford': 4103, 'distress': 4104, 'shaki': 4105, 'pole': 4106, 'unsatisfi': 4107, 'stargat': 4108, 'passabl': 4109, 'traumat': 4110, 'tacki': 4111, 'wax': 4112, '1997': 4113, 'shoddi': 4114, 'meryl': 4115, 'cloud': 4116, 'abomin': 4117, 'sucker': 4118, 'unseen': 4119, 'dana': 4120, 'mclaglen': 4121, 'fuller': 4122, 'perceiv': 4123, 'derang': 4124, 'delic': 4125, 'warrant': 4126, 'pretens': 4127, 'femm': 4128, 'greg': 4129, 'darren': 4130, 'geek': 4131, 'ross': 4132, 'sammi': 4133, 'josh': 4134, 'baldwin': 4135, 'soderbergh': 4136, 'ustinov': 4137, 'demis': 4138, '1993': 4139, 'accuraci': 4140, 'verbal': 4141, 'jewel': 4142, 'uncov': 4143, 'polici': 4144, 'dee': 4145, 'judgment': 4146, 'clash': 4147, 'tarantino': 4148, 'austin': 4149, 'sid': 4150, 'antonioni': 4151, 'wholli': 4152, 'correctli': 4153, 'kumar': 4154, 'deceas': 4155, 'unravel': 4156, 'norm': 4157, 'reluct': 4158, 'valid': 4159, 'primit': 4160, 'expedit': 4161, 'fog': 4162, 'click': 4163, 'seal': 4164, 'furiou': 4165, 'exclus': 4166, 'tech': 4167, 'nathan': 4168, 'deniro': 4169, 'anchor': 4170, 'fenc': 4171, 'joel': 4172, 'debt': 4173, '3000': 4174, 'unfair': 4175, '2008': 4176, 'slam': 4177, 'shanghai': 4178, 'crippl': 4179, 'ritual': 4180, 'temper': 4181, 'hallucin': 4182, 'wretch': 4183, 'seldom': 4184, 'dreck': 4185, 'pocket': 4186, 'logan': 4187, 'sheet': 4188, 'enforc': 4189, 'nicola': 4190, '1971': 4191, 'alec': 4192, 'fabric': 4193, 'vanc': 4194, 'mode': 4195, 'darn': 4196, 'conduct': 4197, 'tax': 4198, 'wang': 4199, '1995': 4200, 'bake': 4201, 'sunni': 4202, 'patienc': 4203, 'fought': 4204, 'roller': 4205, 'murray': 4206, 'clerk': 4207, 'behold': 4208, 'trait': 4209, 'malon': 4210, 'sustain': 4211, 'fart': 4212, 'sand': 4213, 'preposter': 4214, 'squad': 4215, 'tactic': 4216, 'outlin': 4217, 'scriptwrit': 4218, 'bias': 4219, 'sweep': 4220, 'runner': 4221, 'clau': 4222, 'guitar': 4223, 'helpless': 4224, 'divid': 4225, 'grief': 4226, 'conscious': 4227, 'isabel': 4228, 'stark': 4229, 'rita': 4230, 'technicolor': 4231, 'penni': 4232, 'schedul': 4233, 'shell': 4234, 'fundament': 4235, 'pete': 4236, 'robber': 4237, 'bridget': 4238, 'canyon': 4239, 'critiqu': 4240, 'phil': 4241, 'preston': 4242, 'legaci': 4243, 'exhaust': 4244, 'despis': 4245, 'soup': 4246, 'stuart': 4247, 'culmin': 4248, 'bloom': 4249, 'alley': 4250, 'sentinel': 4251, 'consciou': 4252, 'implic': 4253, 'liberti': 4254, 'alicia': 4255, 'lacklust': 4256, 'downey': 4257, 'rear': 4258, 'gregori': 4259, 'russia': 4260, 'sugar': 4261, 'kansa': 4262, 'marc': 4263, 'vomit': 4264, 'propos': 4265, 'invad': 4266, 'cigarett': 4267, 'flair': 4268, 'jodi': 4269, 'passag': 4270, 'jacket': 4271, 'palanc': 4272, 'agenc': 4273, 'drove': 4274, 'delv': 4275, 'rehash': 4276, 'connor': 4277, 'inabl': 4278, 'unexpectedli': 4279, 'restrict': 4280, 'newman': 4281, 'boyl': 4282, 'sniper': 4283, 'horn': 4284, 'wrench': 4285, 'lush': 4286, 'feat': 4287, 'karl': 4288, 'mccoy': 4289, 'improb': 4290, 'chainsaw': 4291, 'rehears': 4292, 'tripe': 4293, 'vet': 4294, 'tendenc': 4295, 'sharon': 4296, 'ladder': 4297, 'foxx': 4298, 'delet': 4299, 'rod': 4300, 'awhil': 4301, 'asylum': 4302, 'cap': 4303, 'pale': 4304, 'yeti': 4305, 'behaviour': 4306, 'kolchak': 4307, '22': 4308, 'rampag': 4309, 'arrow': 4310, 'aesthet': 4311, 'bacon': 4312, '1936': 4313, 'newcom': 4314, 'shortcom': 4315, 'el': 4316, '1988': 4317, 'underneath': 4318, 'suffici': 4319, 'fright': 4320, 'loneli': 4321, 'prank': 4322, 'visitor': 4323, 'rhythm': 4324, 'tasteless': 4325, 'globe': 4326, 'coaster': 4327, 'hulk': 4328, 'weav': 4329, 'hackney': 4330, 'stream': 4331, 'hungri': 4332, 'filler': 4333, 'amazon': 4334, '1920': 4335, 'basing': 4336, 'elit': 4337, 'financ': 4338, 'minu': 4339, 'paradis': 4340, 'conscienc': 4341, 'tomorrow': 4342, 'paramount': 4343, '1978': 4344, 'thunderbird': 4345, 'wildli': 4346, '19th': 4347, 'aristocrat': 4348, 'scoop': 4349, 'lurk': 4350, 'suspicion': 4351, 'sung': 4352, 'wagner': 4353, 'rumor': 4354, 'spice': 4355, 'abrupt': 4356, 'smell': 4357, 'hopkin': 4358, '1989': 4359, 'penn': 4360, 'chavez': 4361, 'atroc': 4362, 'choppi': 4363, 'ram': 4364, '1939': 4365, 'cancer': 4366, 'beverli': 4367, 'lectur': 4368, 'bread': 4369, 'standout': 4370, 'literari': 4371, 'impos': 4372, 'grudg': 4373, 'ingeni': 4374, 'counterpart': 4375, 'iv': 4376, 'recogniz': 4377, 'wwe': 4378, 'minist': 4379, 'brit': 4380, 'heist': 4381, 'naughti': 4382, 'straightforward': 4383, 'immers': 4384, 'couch': 4385, 'posey': 4386, 'inmat': 4387, '75': 4388, 'entranc': 4389, 'paxton': 4390, 'quietli': 4391, 'dirt': 4392, 'teas': 4393, 'secondari': 4394, 'en': 4395, 'worship': 4396, 'curli': 4397, 'leigh': 4398, 'chamberlain': 4399, 'tierney': 4400, 'springer': 4401, 'rub': 4402, 'policeman': 4403, 'laurenc': 4404, 'esther': 4405, 'sassi': 4406, 'sublim': 4407, 'missil': 4408, 'clan': 4409, 'watcher': 4410, 'skeptic': 4411, 'morbid': 4412, 'nemesi': 4413, 'geni': 4414, 'yearn': 4415, 'ratso': 4416, 'bernard': 4417, 'net': 4418, 'entitl': 4419, 'heartfelt': 4420, 'moreov': 4421, 'misguid': 4422, 'ace': 4423, 'lindsay': 4424, 'injuri': 4425, 'duel': 4426, 'transcend': 4427, 'variat': 4428, 'convert': 4429, '1986': 4430, 'enthral': 4431, 'attenborough': 4432, 'quaid': 4433, 'cattl': 4434, 'nolan': 4435, 'youngest': 4436, 'setup': 4437, 'cruelti': 4438, '1979': 4439, 'moder': 4440, 'mytholog': 4441, 'artsi': 4442, 'grin': 4443, 'brood': 4444, 'poe': 4445, 'enabl': 4446, 'steadi': 4447, 'facil': 4448, 'rosemari': 4449, 'hopelessli': 4450, 'uncut': 4451, 'graini': 4452, 'obstacl': 4453, 'buzz': 4454, 'dont': 4455, 'characteris': 4456, 'reliabl': 4457, 'vader': 4458, 'puppi': 4459, 'unexplain': 4460, 'diari': 4461, 'out': 4462, 'carlito': 4463, 'hk': 4464, 'egg': 4465, 'spiral': 4466, 'tyler': 4467, 'kitti': 4468, 'bye': 4469, 'kidman': 4470, 'bean': 4471, 'gina': 4472, 'decept': 4473, 'heap': 4474, 'disastr': 4475, 'clueless': 4476, 'effici': 4477, 'kline': 4478, 'athlet': 4479, 'underworld': 4480, 'christin': 4481, 'preming': 4482, '1969': 4483, 'hammi': 4484, 'niec': 4485, 'fuel': 4486, 'spontan': 4487, 'narrow': 4488, 'martha': 4489, 'sweat': 4490, 'oblig': 4491, 'despic': 4492, 'brendan': 4493, 'acquaint': 4494, 'gillian': 4495, 'patricia': 4496, 'baffl': 4497, 'exterior': 4498, 'bounc': 4499, 'weather': 4500, 'hain': 4501, 'bewar': 4502, 'bronson': 4503, 'tick': 4504, 'suprem': 4505, 'dandi': 4506, 'housewif': 4507, 'circu': 4508, 'analyz': 4509, 'viewpoint': 4510, 'biker': 4511, 'astound': 4512, 'loath': 4513, 'mayhem': 4514, 'taboo': 4515, 'harmless': 4516, 'goof': 4517, '73': 4518, 'insipid': 4519, 'rome': 4520, 'outlaw': 4521, 'sooner': 4522, 'mermaid': 4523, 'shatter': 4524, 'preachi': 4525, 'loi': 4526, 'uh': 4527, 'dilemma': 4528, 'fontain': 4529, 'angst': 4530, 'enlist': 4531, '19': 4532, 'trigger': 4533, 'candl': 4534, 'virtu': 4535, 'lester': 4536, 'headach': 4537, 'hepburn': 4538, 'scar': 4539, 'injur': 4540, 'renaiss': 4541, 'sleepwalk': 4542, 'macho': 4543, 'filth': 4544, 'overlong': 4545, 'glorifi': 4546, 'sox': 4547, 'intric': 4548, 'redund': 4549, 'hokey': 4550, 'camcord': 4551, 'contempt': 4552, 'foolish': 4553, 'salt': 4554, 'dismal': 4555, 'hostag': 4556, 'hooker': 4557, 'oldest': 4558, 'zoom': 4559, 'dish': 4560, 'boston': 4561, 'slimi': 4562, 'stimul': 4563, 'tripl': 4564, 'guin': 4565, 'steer': 4566, 'stair': 4567, 'idol': 4568, 'bent': 4569, 'cassavet': 4570, 'fluff': 4571, 'phenomenon': 4572, 'whore': 4573, 'scorses': 4574, 'amor': 4575, 'ebert': 4576, 'spade': 4577, 'ariel': 4578, 'claustrophob': 4579, 'gere': 4580, 'corbett': 4581, 'immatur': 4582, 'surgeri': 4583, 'conquer': 4584, 'spinal': 4585, 'spree': 4586, 'proport': 4587, 'naschi': 4588, 'remad': 4589, 'margin': 4590, 'antagonist': 4591, 'messi': 4592, 'cow': 4593, 'keen': 4594, 'muscl': 4595, 'gasp': 4596, 'strongest': 4597, 'gabl': 4598, 'down': 4599, 'nolt': 4600, 'astronaut': 4601, 'mount': 4602, 'joker': 4603, 'frantic': 4604, 'beard': 4605, 'cohen': 4606, 'alvin': 4607, 'rhyme': 4608, 'shield': 4609, 'obligatori': 4610, '1976': 4611, 'faint': 4612, 'dwarf': 4613, 'shred': 4614, 'schlock': 4615, 'flirt': 4616, 'perman': 4617, 'mutual': 4618, 'widescreen': 4619, 'transplant': 4620, 'fascist': 4621, 'corman': 4622, 'flag': 4623, 'zane': 4624, '1981': 4625, 'flashi': 4626, 'cush': 4627, 'assert': 4628, 'harold': 4629, 'radiat': 4630, 'preced': 4631, 'trivia': 4632, 'fishburn': 4633, 'divin': 4634, 'scandal': 4635, 'wield': 4636, 'info': 4637, 'flock': 4638, 'strive': 4639, 'off': 4640, 'interestingli': 4641, 'mobil': 4642, 'archiv': 4643, 'claud': 4644, 'sensual': 4645, 'ritchi': 4646, 'boob': 4647, 'barn': 4648, 'deer': 4649, 'triangl': 4650, 'resum': 4651, 'repris': 4652, '28': 4653, 'departur': 4654, 'brush': 4655, 'someday': 4656, 'hara': 4657, 'inflict': 4658, 'neurot': 4659, 'bitten': 4660, 'instruct': 4661, '95': 4662, 'persuad': 4663, 'discern': 4664, 'bachelor': 4665, 'raj': 4666, 'vaniti': 4667, 'carey': 4668, '1945': 4669, 'www': 4670, 'mol': 4671, 'danish': 4672, 'aborigin': 4673, 'cb': 4674, 'clad': 4675, 'ish': 4676, 'jade': 4677, 'banter': 4678, 'pixar': 4679, 'cher': 4680, 'helm': 4681, 'bate': 4682, 'neill': 4683, 'axe': 4684, 'artwork': 4685, 'hug': 4686, 'dame': 4687, 'hilar': 4688, 'dylan': 4689, 'heartwarm': 4690, 'hapless': 4691, 'casino': 4692, 'miracul': 4693, 'mobster': 4694, 'dim': 4695, 'frontier': 4696, 'prophet': 4697, 'recit': 4698, 'cycl': 4699, 'fragil': 4700, 'colin': 4701, 'submit': 4702, 'wendigo': 4703, 'loretta': 4704, 'anton': 4705, 'traffic': 4706, 'rot': 4707, 'cliffhang': 4708, 'europa': 4709, 'earnest': 4710, 'timberlak': 4711, 'vibrant': 4712, 'proclaim': 4713, 'pacif': 4714, 'melissa': 4715, 'senior': 4716, 'pickford': 4717, 'harrison': 4718, 'biblic': 4719, 'undermin': 4720, 'luka': 4721, 'kathryn': 4722, 'carlo': 4723, 'parson': 4724, 'milo': 4725, 'alexandr': 4726, 'jordan': 4727, 'isra': 4728, 'misfortun': 4729, 'nope': 4730, 'northern': 4731, 'holocaust': 4732, 'estrang': 4733, 'static': 4734, 'aris': 4735, 'wardrob': 4736, 'vanessa': 4737, 'flavor': 4738, 'http': 4739, 'electron': 4740, 'pc': 4741, 'eli': 4742, 'winchest': 4743, 'bikini': 4744, 'vile': 4745, 'mason': 4746, 'seedi': 4747, 'antholog': 4748, 'razor': 4749, 'shepherd': 4750, 'rooki': 4751, 'breakfast': 4752, 'orphan': 4753, 'toronto': 4754, 'blatantli': 4755, 'foil': 4756, 'choke': 4757, 'sicken': 4758, 'cerebr': 4759, 'jo': 4760, 'uma': 4761, 'lucil': 4762, 'lui': 4763, 'articl': 4764, 'marlon': 4765, 'bondag': 4766, 'trier': 4767, 'redneck': 4768, 'akin': 4769, 'illus': 4770, 'feast': 4771, 'mathieu': 4772, 'legitim': 4773, 'token': 4774, 'venom': 4775, 'glare': 4776, 'smack': 4777, 'audrey': 4778, 'clinic': 4779, 'ideolog': 4780, 'leather': 4781, 'abund': 4782, 'huston': 4783, 'nightclub': 4784, 'disregard': 4785, 'boyer': 4786, 'tack': 4787, 'shorter': 4788, 'outdat': 4789, 'deem': 4790, 'comprehend': 4791, 'styliz': 4792, 'linear': 4793, 'charlton': 4794, 'gunga': 4795, 'fifth': 4796, 'psych': 4797, 'wrestler': 4798, 'affleck': 4799, 'cartoonish': 4800, 'peer': 4801, 'gilbert': 4802, 'highway': 4803, 'frog': 4804, 'feminin': 4805, 'oppon': 4806, 'howl': 4807, 'turd': 4808, 'ceremoni': 4809, 'magician': 4810, 'swept': 4811, 'dudley': 4812, 'retriev': 4813, 'knightley': 4814, 'breakdown': 4815, '1994': 4816, '4th': 4817, 'monument': 4818, 'spawn': 4819, 'compris': 4820, 'durat': 4821, 'bogu': 4822, 'lighter': 4823, 'lavish': 4824, 'toe': 4825, 'cuban': 4826, 'lifeless': 4827, 'snatch': 4828, 'chip': 4829, 'boo': 4830, '1991': 4831, 'sleaz': 4832, 'client': 4833, 'goldsworthi': 4834, 'evolut': 4835, 'bastard': 4836, 'salman': 4837, 'greet': 4838, 'collector': 4839, 'conrad': 4840, 'einstein': 4841, 'plate': 4842, 'summar': 4843, 'cemeteri': 4844, 'senat': 4845, 'phenomen': 4846, 'corn': 4847, 'energet': 4848, 'moe': 4849, 'btw': 4850, 'braveheart': 4851, 'spine': 4852, 'whack': 4853, 'mitch': 4854, 'potter': 4855, 'uniformli': 4856, 'deliver': 4857, 'newer': 4858, 'tara': 4859, 'eleven': 4860, 'outright': 4861, 'ol': 4862, 'constitut': 4863, 'alleg': 4864, 'undertak': 4865, 'undead': 4866, 'mcqueen': 4867, 'healthi': 4868, '1977': 4869, 'inaccuraci': 4870, 'firmli': 4871, 'historian': 4872, 'appl': 4873, 'belli': 4874, 'jule': 4875, 'liu': 4876, '1974': 4877, 'bulk': 4878, 'pronounc': 4879, 'luxuri': 4880, 'jam': 4881, 'neatli': 4882, 'clara': 4883, 'jedi': 4884, 'trauma': 4885, 'jare': 4886, 'sorrow': 4887, 'capot': 4888, 'spectacl': 4889, 'signal': 4890, 'wtf': 4891, 'replay': 4892, 'bori': 4893, 'ie': 4894, 'occup': 4895, 'cecil': 4896, 'kazan': 4897, 'nina': 4898, 'judd': 4899, 'evelyn': 4900, 'armstrong': 4901, 'gilliam': 4902, 'embark': 4903, 'fluid': 4904, 'creek': 4905, 'randolph': 4906, 'lex': 4907, 'kent': 4908, 'miami': 4909, 'groan': 4910, 'cape': 4911, 'relentless': 4912, 'walt': 4913, 'genet': 4914, 'spray': 4915, 'forgiven': 4916, 'curtain': 4917, 'roar': 4918, 'inclus': 4919, 'goldblum': 4920, 'carmen': 4921, 'bait': 4922, 'galaxi': 4923, 'antonio': 4924, 'ash': 4925, 'subtli': 4926, 'blur': 4927, 'tokyo': 4928, 'vignett': 4929, 'meal': 4930, 'bsg': 4931, 'mum': 4932, 'knee': 4933, 'pepper': 4934, 'porter': 4935, 'pioneer': 4936, 'comb': 4937, 'abound': 4938, 'poker': 4939, 'lauren': 4940, 'basket': 4941, 'unsuspect': 4942, 'kiddi': 4943, 'sacrif': 4944, 'unattract': 4945, 'truman': 4946, 'decapit': 4947, 'paula': 4948, 'vain': 4949, 'inaccur': 4950, 'id': 4951, 'lanc': 4952, 'aussi': 4953, 'fruit': 4954, 'conan': 4955, 'miniseri': 4956, 'palm': 4957, 'propheci': 4958, 'comprehens': 4959, 'congratul': 4960, 'rosario': 4961, '1985': 4962, 'sidewalk': 4963, 'assort': 4964, 'profil': 4965, 'epitom': 4966, 'ghetto': 4967, 'evan': 4968, 'asset': 4969, 'frontal': 4970, 'reincarn': 4971, 'turtl': 4972, 'optimist': 4973, 'rapidli': 4974, 'macabr': 4975, 'weaker': 4976, 'vastli': 4977, 'sparkl': 4978, 'substanti': 4979, 'verg': 4980, 'monti': 4981, 'drone': 4982, 'motorcycl': 4983, 'victorian': 4984, 'weari': 4985, 'sophi': 4986, 'hostil': 4987, '21st': 4988, 'detach': 4989, 'incorrect': 4990, 'mice': 4991, 'handicap': 4992, 'cypher': 4993, 'modest': 4994, 'growth': 4995, 'ingrid': 4996, 'dubiou': 4997, 'hackman': 4998, 'orchestr': 4999}\n"
     ]
    }
   ],
   "source": [
    "import os\n",
    "import pickle\n",
    "\n",
    "model_dir = '../data/pytorch'\n",
    "word_dict_path = os.path.join(model_dir, 'word_dict.pkl')\n",
    "with open(word_dict_path, 'rb') as f:\n",
    "    theDict = pickle.load(f)\n",
    "    print(theDict)"
   ]
  },
  {
   "cell_type": "markdown",
   "metadata": {},
   "source": [
    "### Deploying the model\n",
    "\n",
    "Now that the custom inference code has been written, we will create and deploy our model. To begin with, we need to construct a new PyTorchModel object which points to the model artifacts created during training and also points to the inference code that we wish to use. Then we can call the deploy method to launch the deployment container.\n",
    "\n",
    "**NOTE**: The default behaviour for a deployed PyTorch model is to assume that any input passed to the predictor is a `numpy` array. In our case we want to send a string so we need to construct a simple wrapper around the `RealTimePredictor` class to accomodate simple strings. In a more complicated situation you may want to provide a serialization object, for example if you wanted to sent image data."
   ]
  },
  {
   "cell_type": "code",
   "execution_count": 42,
   "metadata": {},
   "outputs": [
    {
     "name": "stderr",
     "output_type": "stream",
     "text": [
      "Parameter image will be renamed to image_uri in SageMaker Python SDK v2.\n",
      "'create_image_uri' will be deprecated in favor of 'ImageURIProvider' class in SageMaker Python SDK v2.\n"
     ]
    },
    {
     "name": "stdout",
     "output_type": "stream",
     "text": [
      "---------------!"
     ]
    }
   ],
   "source": [
    "from sagemaker.predictor import RealTimePredictor\n",
    "from sagemaker.pytorch import PyTorchModel\n",
    "\n",
    "class StringPredictor(RealTimePredictor):\n",
    "    def __init__(self, endpoint_name, sagemaker_session):\n",
    "        super(StringPredictor, self).__init__(endpoint_name, sagemaker_session, content_type='text/plain')\n",
    "\n",
    "model = PyTorchModel(model_data=estimator.model_data,\n",
    "                     role = role,\n",
    "                     framework_version='0.4.0',\n",
    "                     entry_point='predict.py',\n",
    "                     source_dir='serve',\n",
    "                     predictor_cls=StringPredictor)\n",
    "predictor = model.deploy(initial_instance_count=1, instance_type='ml.m4.xlarge')"
   ]
  },
  {
   "cell_type": "markdown",
   "metadata": {},
   "source": [
    "### Testing the model\n",
    "\n",
    "Now that we have deployed our model with the custom inference code, we should test to see if everything is working. Here we test our model by loading the first `250` positive and negative reviews and send them to the endpoint, then collect the results. The reason for only sending some of the data is that the amount of time it takes for our model to process the input and then perform inference is quite long and so testing the entire data set would be prohibitive."
   ]
  },
  {
   "cell_type": "code",
   "execution_count": 43,
   "metadata": {},
   "outputs": [],
   "source": [
    "import glob\n",
    "\n",
    "def test_reviews(data_dir='../data/aclImdb', stop=250):\n",
    "    \n",
    "    results = []\n",
    "    ground = []\n",
    "    \n",
    "    # We make sure to test both positive and negative reviews    \n",
    "    for sentiment in ['pos', 'neg']:\n",
    "        \n",
    "        path = os.path.join(data_dir, 'test', sentiment, '*.txt')\n",
    "        files = glob.glob(path)\n",
    "        \n",
    "        files_read = 0\n",
    "        \n",
    "        print('Starting ', sentiment, ' files')\n",
    "        \n",
    "        # Iterate through the files and send them to the predictor\n",
    "        for f in files:\n",
    "            with open(f) as review:\n",
    "                # First, we store the ground truth (was the review positive or negative)\n",
    "                if sentiment == 'pos':\n",
    "                    ground.append(1)\n",
    "                else:\n",
    "                    ground.append(0)\n",
    "                # Read in the review and convert to 'utf-8' for transmission via HTTP\n",
    "                review_input = review.read().encode('utf-8')\n",
    "                # Send the review to the predictor and store the results\n",
    "                predictResult = predictor.predict(review_input)\n",
    "                print(\"{} Predict result is: {}\".format(files_read, predictResult))\n",
    "                results.append(int(predictResult))\n",
    "                \n",
    "            # Sending reviews to our endpoint one at a time takes a while so we\n",
    "            # only send a small number of reviews\n",
    "            files_read += 1\n",
    "            if files_read == stop:\n",
    "                break\n",
    "            \n",
    "    return ground, results"
   ]
  },
  {
   "cell_type": "code",
   "execution_count": 44,
   "metadata": {
    "scrolled": true
   },
   "outputs": [
    {
     "name": "stdout",
     "output_type": "stream",
     "text": [
      "Starting  pos  files\n",
      "0 Predict result is: b'0'\n",
      "1 Predict result is: b'1'\n",
      "2 Predict result is: b'1'\n",
      "3 Predict result is: b'1'\n",
      "4 Predict result is: b'0'\n",
      "5 Predict result is: b'1'\n",
      "6 Predict result is: b'1'\n",
      "7 Predict result is: b'0'\n",
      "8 Predict result is: b'1'\n",
      "9 Predict result is: b'1'\n",
      "10 Predict result is: b'1'\n",
      "11 Predict result is: b'1'\n",
      "12 Predict result is: b'1'\n",
      "13 Predict result is: b'1'\n",
      "14 Predict result is: b'0'\n",
      "15 Predict result is: b'0'\n",
      "16 Predict result is: b'1'\n",
      "17 Predict result is: b'1'\n",
      "18 Predict result is: b'1'\n",
      "19 Predict result is: b'1'\n",
      "20 Predict result is: b'1'\n",
      "21 Predict result is: b'1'\n",
      "22 Predict result is: b'0'\n",
      "23 Predict result is: b'1'\n",
      "24 Predict result is: b'1'\n",
      "25 Predict result is: b'1'\n",
      "26 Predict result is: b'1'\n",
      "27 Predict result is: b'1'\n",
      "28 Predict result is: b'1'\n",
      "29 Predict result is: b'0'\n",
      "30 Predict result is: b'1'\n",
      "31 Predict result is: b'1'\n",
      "32 Predict result is: b'1'\n",
      "33 Predict result is: b'0'\n",
      "34 Predict result is: b'0'\n",
      "35 Predict result is: b'1'\n",
      "36 Predict result is: b'1'\n",
      "37 Predict result is: b'1'\n",
      "38 Predict result is: b'0'\n",
      "39 Predict result is: b'1'\n",
      "40 Predict result is: b'0'\n",
      "41 Predict result is: b'1'\n",
      "42 Predict result is: b'1'\n",
      "43 Predict result is: b'1'\n",
      "44 Predict result is: b'1'\n",
      "45 Predict result is: b'1'\n",
      "46 Predict result is: b'0'\n",
      "47 Predict result is: b'0'\n",
      "48 Predict result is: b'1'\n",
      "49 Predict result is: b'1'\n",
      "50 Predict result is: b'0'\n",
      "51 Predict result is: b'1'\n",
      "52 Predict result is: b'1'\n",
      "53 Predict result is: b'1'\n",
      "54 Predict result is: b'1'\n",
      "55 Predict result is: b'0'\n",
      "56 Predict result is: b'0'\n",
      "57 Predict result is: b'1'\n",
      "58 Predict result is: b'1'\n",
      "59 Predict result is: b'1'\n",
      "60 Predict result is: b'0'\n",
      "61 Predict result is: b'1'\n",
      "62 Predict result is: b'0'\n",
      "63 Predict result is: b'0'\n",
      "64 Predict result is: b'0'\n",
      "65 Predict result is: b'1'\n",
      "66 Predict result is: b'1'\n",
      "67 Predict result is: b'1'\n",
      "68 Predict result is: b'1'\n",
      "69 Predict result is: b'1'\n",
      "70 Predict result is: b'1'\n",
      "71 Predict result is: b'1'\n",
      "72 Predict result is: b'1'\n",
      "73 Predict result is: b'1'\n",
      "74 Predict result is: b'1'\n",
      "75 Predict result is: b'1'\n",
      "76 Predict result is: b'1'\n",
      "77 Predict result is: b'1'\n",
      "78 Predict result is: b'1'\n",
      "79 Predict result is: b'1'\n",
      "80 Predict result is: b'0'\n",
      "81 Predict result is: b'1'\n",
      "82 Predict result is: b'0'\n",
      "83 Predict result is: b'1'\n",
      "84 Predict result is: b'1'\n",
      "85 Predict result is: b'1'\n",
      "86 Predict result is: b'0'\n",
      "87 Predict result is: b'1'\n",
      "88 Predict result is: b'1'\n",
      "89 Predict result is: b'1'\n",
      "90 Predict result is: b'1'\n",
      "91 Predict result is: b'0'\n",
      "92 Predict result is: b'1'\n",
      "93 Predict result is: b'1'\n",
      "94 Predict result is: b'0'\n",
      "95 Predict result is: b'0'\n",
      "96 Predict result is: b'1'\n",
      "97 Predict result is: b'1'\n",
      "98 Predict result is: b'1'\n",
      "99 Predict result is: b'0'\n",
      "100 Predict result is: b'1'\n",
      "101 Predict result is: b'0'\n",
      "102 Predict result is: b'1'\n",
      "103 Predict result is: b'1'\n",
      "104 Predict result is: b'1'\n",
      "105 Predict result is: b'1'\n",
      "106 Predict result is: b'0'\n",
      "107 Predict result is: b'1'\n",
      "108 Predict result is: b'1'\n",
      "109 Predict result is: b'1'\n",
      "110 Predict result is: b'0'\n",
      "111 Predict result is: b'1'\n",
      "112 Predict result is: b'0'\n",
      "113 Predict result is: b'1'\n",
      "114 Predict result is: b'0'\n",
      "115 Predict result is: b'1'\n",
      "116 Predict result is: b'1'\n",
      "117 Predict result is: b'0'\n",
      "118 Predict result is: b'1'\n",
      "119 Predict result is: b'1'\n",
      "120 Predict result is: b'1'\n",
      "121 Predict result is: b'1'\n",
      "122 Predict result is: b'0'\n",
      "123 Predict result is: b'0'\n",
      "124 Predict result is: b'1'\n",
      "125 Predict result is: b'1'\n",
      "126 Predict result is: b'1'\n",
      "127 Predict result is: b'1'\n",
      "128 Predict result is: b'1'\n",
      "129 Predict result is: b'0'\n",
      "130 Predict result is: b'1'\n",
      "131 Predict result is: b'1'\n",
      "132 Predict result is: b'0'\n",
      "133 Predict result is: b'0'\n",
      "134 Predict result is: b'1'\n",
      "135 Predict result is: b'1'\n",
      "136 Predict result is: b'0'\n",
      "137 Predict result is: b'0'\n",
      "138 Predict result is: b'1'\n",
      "139 Predict result is: b'0'\n",
      "140 Predict result is: b'1'\n",
      "141 Predict result is: b'1'\n",
      "142 Predict result is: b'0'\n",
      "143 Predict result is: b'0'\n",
      "144 Predict result is: b'1'\n",
      "145 Predict result is: b'1'\n",
      "146 Predict result is: b'1'\n",
      "147 Predict result is: b'0'\n",
      "148 Predict result is: b'0'\n",
      "149 Predict result is: b'1'\n",
      "150 Predict result is: b'1'\n",
      "151 Predict result is: b'1'\n",
      "152 Predict result is: b'0'\n",
      "153 Predict result is: b'0'\n",
      "154 Predict result is: b'1'\n",
      "155 Predict result is: b'1'\n",
      "156 Predict result is: b'1'\n",
      "157 Predict result is: b'0'\n",
      "158 Predict result is: b'1'\n",
      "159 Predict result is: b'0'\n",
      "160 Predict result is: b'0'\n",
      "161 Predict result is: b'1'\n",
      "162 Predict result is: b'0'\n",
      "163 Predict result is: b'0'\n",
      "164 Predict result is: b'0'\n",
      "165 Predict result is: b'1'\n",
      "166 Predict result is: b'1'\n",
      "167 Predict result is: b'1'\n",
      "168 Predict result is: b'0'\n",
      "169 Predict result is: b'1'\n",
      "170 Predict result is: b'1'\n",
      "171 Predict result is: b'1'\n",
      "172 Predict result is: b'0'\n",
      "173 Predict result is: b'0'\n",
      "174 Predict result is: b'1'\n",
      "175 Predict result is: b'1'\n",
      "176 Predict result is: b'1'\n",
      "177 Predict result is: b'1'\n",
      "178 Predict result is: b'0'\n",
      "179 Predict result is: b'1'\n",
      "180 Predict result is: b'0'\n",
      "181 Predict result is: b'1'\n",
      "182 Predict result is: b'1'\n",
      "183 Predict result is: b'0'\n",
      "184 Predict result is: b'0'\n",
      "185 Predict result is: b'1'\n",
      "186 Predict result is: b'1'\n",
      "187 Predict result is: b'1'\n",
      "188 Predict result is: b'1'\n",
      "189 Predict result is: b'1'\n",
      "190 Predict result is: b'1'\n",
      "191 Predict result is: b'1'\n",
      "192 Predict result is: b'0'\n",
      "193 Predict result is: b'1'\n",
      "194 Predict result is: b'0'\n",
      "195 Predict result is: b'0'\n",
      "196 Predict result is: b'1'\n",
      "197 Predict result is: b'1'\n",
      "198 Predict result is: b'0'\n",
      "199 Predict result is: b'0'\n",
      "200 Predict result is: b'1'\n",
      "201 Predict result is: b'0'\n",
      "202 Predict result is: b'1'\n",
      "203 Predict result is: b'1'\n",
      "204 Predict result is: b'1'\n",
      "205 Predict result is: b'1'\n",
      "206 Predict result is: b'1'\n",
      "207 Predict result is: b'1'\n",
      "208 Predict result is: b'0'\n",
      "209 Predict result is: b'1'\n",
      "210 Predict result is: b'1'\n",
      "211 Predict result is: b'1'\n",
      "212 Predict result is: b'0'\n",
      "213 Predict result is: b'0'\n",
      "214 Predict result is: b'1'\n",
      "215 Predict result is: b'1'\n",
      "216 Predict result is: b'1'\n",
      "217 Predict result is: b'1'\n",
      "218 Predict result is: b'0'\n",
      "219 Predict result is: b'0'\n",
      "220 Predict result is: b'0'\n",
      "221 Predict result is: b'1'\n",
      "222 Predict result is: b'1'\n",
      "223 Predict result is: b'1'\n",
      "224 Predict result is: b'1'\n",
      "225 Predict result is: b'1'\n",
      "226 Predict result is: b'1'\n",
      "227 Predict result is: b'0'\n",
      "228 Predict result is: b'1'\n",
      "229 Predict result is: b'1'\n",
      "230 Predict result is: b'1'\n",
      "231 Predict result is: b'1'\n",
      "232 Predict result is: b'1'\n",
      "233 Predict result is: b'0'\n",
      "234 Predict result is: b'1'\n",
      "235 Predict result is: b'1'\n",
      "236 Predict result is: b'1'\n",
      "237 Predict result is: b'0'\n",
      "238 Predict result is: b'1'\n",
      "239 Predict result is: b'0'\n",
      "240 Predict result is: b'1'\n",
      "241 Predict result is: b'0'\n",
      "242 Predict result is: b'1'\n",
      "243 Predict result is: b'1'\n",
      "244 Predict result is: b'0'\n",
      "245 Predict result is: b'1'\n",
      "246 Predict result is: b'1'\n",
      "247 Predict result is: b'1'\n",
      "248 Predict result is: b'1'\n",
      "249 Predict result is: b'1'\n",
      "Starting  neg  files\n",
      "0 Predict result is: b'1'\n",
      "1 Predict result is: b'0'\n",
      "2 Predict result is: b'0'\n",
      "3 Predict result is: b'0'\n",
      "4 Predict result is: b'0'\n",
      "5 Predict result is: b'0'\n",
      "6 Predict result is: b'1'\n",
      "7 Predict result is: b'1'\n",
      "8 Predict result is: b'0'\n",
      "9 Predict result is: b'0'\n",
      "10 Predict result is: b'1'\n",
      "11 Predict result is: b'0'\n",
      "12 Predict result is: b'1'\n",
      "13 Predict result is: b'0'\n",
      "14 Predict result is: b'0'\n",
      "15 Predict result is: b'1'\n",
      "16 Predict result is: b'0'\n",
      "17 Predict result is: b'0'\n",
      "18 Predict result is: b'0'\n",
      "19 Predict result is: b'0'\n",
      "20 Predict result is: b'0'\n",
      "21 Predict result is: b'0'\n",
      "22 Predict result is: b'1'\n",
      "23 Predict result is: b'0'\n",
      "24 Predict result is: b'0'\n",
      "25 Predict result is: b'0'\n",
      "26 Predict result is: b'0'\n",
      "27 Predict result is: b'0'\n",
      "28 Predict result is: b'0'\n",
      "29 Predict result is: b'0'\n",
      "30 Predict result is: b'0'\n",
      "31 Predict result is: b'0'\n",
      "32 Predict result is: b'0'\n",
      "33 Predict result is: b'1'\n",
      "34 Predict result is: b'0'\n",
      "35 Predict result is: b'0'\n",
      "36 Predict result is: b'0'\n",
      "37 Predict result is: b'0'\n",
      "38 Predict result is: b'1'\n",
      "39 Predict result is: b'1'\n",
      "40 Predict result is: b'0'\n",
      "41 Predict result is: b'1'\n",
      "42 Predict result is: b'0'\n",
      "43 Predict result is: b'0'\n",
      "44 Predict result is: b'1'\n",
      "45 Predict result is: b'0'\n",
      "46 Predict result is: b'1'\n",
      "47 Predict result is: b'1'\n",
      "48 Predict result is: b'0'\n"
     ]
    },
    {
     "name": "stdout",
     "output_type": "stream",
     "text": [
      "49 Predict result is: b'0'\n",
      "50 Predict result is: b'1'\n",
      "51 Predict result is: b'0'\n",
      "52 Predict result is: b'1'\n",
      "53 Predict result is: b'0'\n",
      "54 Predict result is: b'0'\n",
      "55 Predict result is: b'0'\n",
      "56 Predict result is: b'0'\n",
      "57 Predict result is: b'0'\n",
      "58 Predict result is: b'0'\n",
      "59 Predict result is: b'0'\n",
      "60 Predict result is: b'0'\n",
      "61 Predict result is: b'0'\n",
      "62 Predict result is: b'0'\n",
      "63 Predict result is: b'0'\n",
      "64 Predict result is: b'1'\n",
      "65 Predict result is: b'0'\n",
      "66 Predict result is: b'0'\n",
      "67 Predict result is: b'0'\n",
      "68 Predict result is: b'1'\n",
      "69 Predict result is: b'1'\n",
      "70 Predict result is: b'0'\n",
      "71 Predict result is: b'0'\n",
      "72 Predict result is: b'0'\n",
      "73 Predict result is: b'0'\n",
      "74 Predict result is: b'0'\n",
      "75 Predict result is: b'1'\n",
      "76 Predict result is: b'0'\n",
      "77 Predict result is: b'0'\n",
      "78 Predict result is: b'0'\n",
      "79 Predict result is: b'1'\n",
      "80 Predict result is: b'0'\n",
      "81 Predict result is: b'0'\n",
      "82 Predict result is: b'1'\n",
      "83 Predict result is: b'0'\n",
      "84 Predict result is: b'0'\n",
      "85 Predict result is: b'1'\n",
      "86 Predict result is: b'0'\n",
      "87 Predict result is: b'0'\n",
      "88 Predict result is: b'0'\n",
      "89 Predict result is: b'1'\n",
      "90 Predict result is: b'0'\n",
      "91 Predict result is: b'0'\n",
      "92 Predict result is: b'0'\n",
      "93 Predict result is: b'1'\n",
      "94 Predict result is: b'1'\n",
      "95 Predict result is: b'0'\n",
      "96 Predict result is: b'0'\n",
      "97 Predict result is: b'0'\n",
      "98 Predict result is: b'0'\n",
      "99 Predict result is: b'0'\n",
      "100 Predict result is: b'0'\n",
      "101 Predict result is: b'0'\n",
      "102 Predict result is: b'0'\n",
      "103 Predict result is: b'1'\n",
      "104 Predict result is: b'0'\n",
      "105 Predict result is: b'0'\n",
      "106 Predict result is: b'1'\n",
      "107 Predict result is: b'0'\n",
      "108 Predict result is: b'1'\n",
      "109 Predict result is: b'0'\n",
      "110 Predict result is: b'1'\n",
      "111 Predict result is: b'0'\n",
      "112 Predict result is: b'1'\n",
      "113 Predict result is: b'0'\n",
      "114 Predict result is: b'1'\n",
      "115 Predict result is: b'0'\n",
      "116 Predict result is: b'0'\n",
      "117 Predict result is: b'0'\n",
      "118 Predict result is: b'0'\n",
      "119 Predict result is: b'0'\n",
      "120 Predict result is: b'0'\n",
      "121 Predict result is: b'0'\n",
      "122 Predict result is: b'0'\n",
      "123 Predict result is: b'1'\n",
      "124 Predict result is: b'0'\n",
      "125 Predict result is: b'1'\n",
      "126 Predict result is: b'0'\n",
      "127 Predict result is: b'0'\n",
      "128 Predict result is: b'1'\n",
      "129 Predict result is: b'0'\n",
      "130 Predict result is: b'0'\n",
      "131 Predict result is: b'0'\n",
      "132 Predict result is: b'0'\n",
      "133 Predict result is: b'0'\n",
      "134 Predict result is: b'1'\n",
      "135 Predict result is: b'1'\n",
      "136 Predict result is: b'0'\n",
      "137 Predict result is: b'0'\n",
      "138 Predict result is: b'0'\n",
      "139 Predict result is: b'1'\n",
      "140 Predict result is: b'0'\n",
      "141 Predict result is: b'0'\n",
      "142 Predict result is: b'0'\n",
      "143 Predict result is: b'0'\n",
      "144 Predict result is: b'0'\n",
      "145 Predict result is: b'0'\n",
      "146 Predict result is: b'1'\n",
      "147 Predict result is: b'1'\n",
      "148 Predict result is: b'0'\n",
      "149 Predict result is: b'0'\n",
      "150 Predict result is: b'1'\n",
      "151 Predict result is: b'0'\n",
      "152 Predict result is: b'0'\n",
      "153 Predict result is: b'0'\n",
      "154 Predict result is: b'1'\n",
      "155 Predict result is: b'0'\n",
      "156 Predict result is: b'1'\n",
      "157 Predict result is: b'0'\n",
      "158 Predict result is: b'0'\n",
      "159 Predict result is: b'0'\n",
      "160 Predict result is: b'0'\n",
      "161 Predict result is: b'0'\n",
      "162 Predict result is: b'0'\n",
      "163 Predict result is: b'0'\n",
      "164 Predict result is: b'1'\n",
      "165 Predict result is: b'0'\n",
      "166 Predict result is: b'0'\n",
      "167 Predict result is: b'0'\n",
      "168 Predict result is: b'0'\n",
      "169 Predict result is: b'1'\n",
      "170 Predict result is: b'0'\n",
      "171 Predict result is: b'1'\n",
      "172 Predict result is: b'0'\n",
      "173 Predict result is: b'0'\n",
      "174 Predict result is: b'0'\n",
      "175 Predict result is: b'1'\n",
      "176 Predict result is: b'1'\n",
      "177 Predict result is: b'0'\n",
      "178 Predict result is: b'1'\n",
      "179 Predict result is: b'0'\n",
      "180 Predict result is: b'0'\n",
      "181 Predict result is: b'0'\n",
      "182 Predict result is: b'0'\n",
      "183 Predict result is: b'0'\n",
      "184 Predict result is: b'0'\n",
      "185 Predict result is: b'0'\n",
      "186 Predict result is: b'0'\n",
      "187 Predict result is: b'0'\n",
      "188 Predict result is: b'0'\n",
      "189 Predict result is: b'0'\n",
      "190 Predict result is: b'0'\n",
      "191 Predict result is: b'0'\n",
      "192 Predict result is: b'1'\n",
      "193 Predict result is: b'0'\n",
      "194 Predict result is: b'0'\n",
      "195 Predict result is: b'0'\n",
      "196 Predict result is: b'0'\n",
      "197 Predict result is: b'1'\n",
      "198 Predict result is: b'0'\n",
      "199 Predict result is: b'1'\n",
      "200 Predict result is: b'1'\n",
      "201 Predict result is: b'1'\n",
      "202 Predict result is: b'1'\n",
      "203 Predict result is: b'1'\n",
      "204 Predict result is: b'0'\n",
      "205 Predict result is: b'0'\n",
      "206 Predict result is: b'0'\n",
      "207 Predict result is: b'0'\n",
      "208 Predict result is: b'0'\n",
      "209 Predict result is: b'0'\n",
      "210 Predict result is: b'0'\n",
      "211 Predict result is: b'0'\n",
      "212 Predict result is: b'1'\n",
      "213 Predict result is: b'0'\n",
      "214 Predict result is: b'0'\n",
      "215 Predict result is: b'1'\n",
      "216 Predict result is: b'0'\n",
      "217 Predict result is: b'0'\n",
      "218 Predict result is: b'0'\n",
      "219 Predict result is: b'1'\n",
      "220 Predict result is: b'0'\n",
      "221 Predict result is: b'0'\n",
      "222 Predict result is: b'0'\n",
      "223 Predict result is: b'0'\n",
      "224 Predict result is: b'0'\n",
      "225 Predict result is: b'0'\n",
      "226 Predict result is: b'1'\n",
      "227 Predict result is: b'0'\n",
      "228 Predict result is: b'1'\n",
      "229 Predict result is: b'0'\n",
      "230 Predict result is: b'0'\n",
      "231 Predict result is: b'0'\n",
      "232 Predict result is: b'0'\n",
      "233 Predict result is: b'1'\n",
      "234 Predict result is: b'1'\n",
      "235 Predict result is: b'0'\n",
      "236 Predict result is: b'0'\n",
      "237 Predict result is: b'0'\n",
      "238 Predict result is: b'0'\n",
      "239 Predict result is: b'0'\n",
      "240 Predict result is: b'0'\n",
      "241 Predict result is: b'0'\n",
      "242 Predict result is: b'0'\n",
      "243 Predict result is: b'0'\n",
      "244 Predict result is: b'0'\n",
      "245 Predict result is: b'0'\n",
      "246 Predict result is: b'0'\n",
      "247 Predict result is: b'0'\n",
      "248 Predict result is: b'0'\n",
      "249 Predict result is: b'1'\n"
     ]
    }
   ],
   "source": [
    "#model = PyTorchModel(model_data=estimator.model_data, role = role, framework_version='0.4.0', entry_point='predict.py', source_dir='serve', predictor_cls=StringPredictor)\n",
    "\n",
    "#predictor = model.deploy(initial_instance_count=1, instance_type='ml.m4.xlarge') # remove\n",
    "ground, results = test_reviews()\n",
    "#predictor.delete_endpoint()"
   ]
  },
  {
   "cell_type": "code",
   "execution_count": 45,
   "metadata": {},
   "outputs": [
    {
     "data": {
      "text/plain": [
       "0.716"
      ]
     },
     "execution_count": 45,
     "metadata": {},
     "output_type": "execute_result"
    }
   ],
   "source": [
    "from sklearn.metrics import accuracy_score\n",
    "accuracy_score(ground, results)"
   ]
  },
  {
   "cell_type": "markdown",
   "metadata": {},
   "source": [
    "As an additional test, we can try sending the `test_review` that we looked at earlier."
   ]
  },
  {
   "cell_type": "code",
   "execution_count": 46,
   "metadata": {},
   "outputs": [
    {
     "data": {
      "text/plain": [
       "b'0'"
      ]
     },
     "execution_count": 46,
     "metadata": {},
     "output_type": "execute_result"
    }
   ],
   "source": [
    "predictor.predict(test_review)"
   ]
  },
  {
   "cell_type": "markdown",
   "metadata": {},
   "source": [
    "Now that we know our endpoint is working as expected, we can set up the web page that will interact with it. If you don't have time to finish the project now, make sure to skip down to the end of this notebook and shut down your endpoint. You can deploy it again when you come back."
   ]
  },
  {
   "cell_type": "markdown",
   "metadata": {},
   "source": [
    "## Step 7 (again): Use the model for the web app\n",
    "\n",
    "> **TODO:** This entire section and the next contain tasks for you to complete, mostly using the AWS console.\n",
    "\n",
    "So far we have been accessing our model endpoint by constructing a predictor object which uses the endpoint and then just using the predictor object to perform inference. What if we wanted to create a web app which accessed our model? The way things are set up currently makes that not possible since in order to access a SageMaker endpoint the app would first have to authenticate with AWS using an IAM role which included access to SageMaker endpoints. However, there is an easier way! We just need to use some additional AWS services.\n",
    "\n",
    "<img src=\"Web App Diagram.svg\">\n",
    "\n",
    "The diagram above gives an overview of how the various services will work together. On the far right is the model which we trained above and which is deployed using SageMaker. On the far left is our web app that collects a user's movie review, sends it off and expects a positive or negative sentiment in return.\n",
    "\n",
    "In the middle is where some of the magic happens. We will construct a Lambda function, which you can think of as a straightforward Python function that can be executed whenever a specified event occurs. We will give this function permission to send and recieve data from a SageMaker endpoint.\n",
    "\n",
    "Lastly, the method we will use to execute the Lambda function is a new endpoint that we will create using API Gateway. This endpoint will be a url that listens for data to be sent to it. Once it gets some data it will pass that data on to the Lambda function and then return whatever the Lambda function returns. Essentially it will act as an interface that lets our web app communicate with the Lambda function.\n",
    "\n",
    "### Setting up a Lambda function\n",
    "\n",
    "The first thing we are going to do is set up a Lambda function. This Lambda function will be executed whenever our public API has data sent to it. When it is executed it will receive the data, perform any sort of processing that is required, send the data (the review) to the SageMaker endpoint we've created and then return the result.\n",
    "\n",
    "#### Part A: Create an IAM Role for the Lambda function\n",
    "\n",
    "Since we want the Lambda function to call a SageMaker endpoint, we need to make sure that it has permission to do so. To do this, we will construct a role that we can later give the Lambda function.\n",
    "\n",
    "Using the AWS Console, navigate to the **IAM** page and click on **Roles**. Then, click on **Create role**. Make sure that the **AWS service** is the type of trusted entity selected and choose **Lambda** as the service that will use this role, then click **Next: Permissions**.\n",
    "\n",
    "In the search box type `sagemaker` and select the check box next to the **AmazonSageMakerFullAccess** policy. Then, click on **Next: Review**.\n",
    "\n",
    "Lastly, give this role a name. Make sure you use a name that you will remember later on, for example `LambdaSageMakerRole`. Then, click on **Create role**.\n",
    "\n",
    "#### Part B: Create a Lambda function\n",
    "\n",
    "Now it is time to actually create the Lambda function.\n",
    "\n",
    "Using the AWS Console, navigate to the AWS Lambda page and click on **Create a function**. When you get to the next page, make sure that **Author from scratch** is selected. Now, name your Lambda function, using a name that you will remember later on, for example `sentiment_analysis_func`. Make sure that the **Python 3.6** runtime is selected and then choose the role that you created in the previous part. Then, click on **Create Function**.\n",
    "\n",
    "On the next page you will see some information about the Lambda function you've just created. If you scroll down you should see an editor in which you can write the code that will be executed when your Lambda function is triggered. In our example, we will use the code below. \n",
    "\n",
    "```python\n",
    "# We need to use the low-level library to interact with SageMaker since the SageMaker API\n",
    "# is not available natively through Lambda.\n",
    "import boto3\n",
    "\n",
    "def lambda_handler(event, context):\n",
    "\n",
    "    # The SageMaker runtime is what allows us to invoke the endpoint that we've created.\n",
    "    runtime = boto3.Session().client('sagemaker-runtime')\n",
    "\n",
    "    # Now we use the SageMaker runtime to invoke our endpoint, sending the review we were given\n",
    "    response = runtime.invoke_endpoint(EndpointName = '**ENDPOINT NAME HERE**',    # The name of the endpoint we created\n",
    "                                       ContentType = 'text/plain',                 # The data format that is expected\n",
    "                                       Body = event['body'])                       # The actual review\n",
    "\n",
    "    # The response is an HTTP response whose body contains the result of our inference\n",
    "    result = response['Body'].read().decode('utf-8')\n",
    "\n",
    "    return {\n",
    "        'statusCode' : 200,\n",
    "        'headers' : { 'Content-Type' : 'text/plain', 'Access-Control-Allow-Origin' : '*' },\n",
    "        'body' : result\n",
    "    }\n",
    "```\n",
    "\n",
    "Once you have copy and pasted the code above into the Lambda code editor, replace the `**ENDPOINT NAME HERE**` portion with the name of the endpoint that we deployed earlier. You can determine the name of the endpoint using the code cell below."
   ]
  },
  {
   "cell_type": "code",
   "execution_count": 47,
   "metadata": {},
   "outputs": [
    {
     "data": {
      "text/plain": [
       "'sagemaker-pytorch-2020-08-05-06-53-11-030'"
      ]
     },
     "execution_count": 47,
     "metadata": {},
     "output_type": "execute_result"
    }
   ],
   "source": [
    "predictor.endpoint"
   ]
  },
  {
   "cell_type": "markdown",
   "metadata": {},
   "source": [
    "Once you have added the endpoint name to the Lambda function, click on **Save**. Your Lambda function is now up and running. Next we need to create a way for our web app to execute the Lambda function.\n",
    "\n",
    "### Setting up API Gateway\n",
    "\n",
    "Now that our Lambda function is set up, it is time to create a new API using API Gateway that will trigger the Lambda function we have just created.\n",
    "\n",
    "Using AWS Console, navigate to **Amazon API Gateway** and then click on **Get started**.\n",
    "\n",
    "On the next page, make sure that **New API** is selected and give the new api a name, for example, `sentiment_analysis_api`. Then, click on **Create API**.\n",
    "\n",
    "Now we have created an API, however it doesn't currently do anything. What we want it to do is to trigger the Lambda function that we created earlier.\n",
    "\n",
    "Select the **Actions** dropdown menu and click **Create Method**. A new blank method will be created, select its dropdown menu and select **POST**, then click on the check mark beside it.\n",
    "\n",
    "For the integration point, make sure that **Lambda Function** is selected and click on the **Use Lambda Proxy integration**. This option makes sure that the data that is sent to the API is then sent directly to the Lambda function with no processing. It also means that the return value must be a proper response object as it will also not be processed by API Gateway.\n",
    "\n",
    "Type the name of the Lambda function you created earlier into the **Lambda Function** text entry box and then click on **Save**. Click on **OK** in the pop-up box that then appears, giving permission to API Gateway to invoke the Lambda function you created.\n",
    "\n",
    "The last step in creating the API Gateway is to select the **Actions** dropdown and click on **Deploy API**. You will need to create a new Deployment stage and name it anything you like, for example `prod`.\n",
    "\n",
    "You have now successfully set up a public API to access your SageMaker model. Make sure to copy or write down the URL provided to invoke your newly created public API as this will be needed in the next step. This URL can be found at the top of the page, highlighted in blue next to the text **Invoke URL**."
   ]
  },
  {
   "cell_type": "markdown",
   "metadata": {},
   "source": [
    "## Step 4: Deploying our web app\n",
    "\n",
    "Now that we have a publicly available API, we can start using it in a web app. For our purposes, we have provided a simple static html file which can make use of the public api you created earlier.\n",
    "\n",
    "In the `website` folder there should be a file called `index.html`. Download the file to your computer and open that file up in a text editor of your choice. There should be a line which contains **\\*\\*REPLACE WITH PUBLIC API URL\\*\\***. Replace this string with the url that you wrote down in the last step and then save the file.\n",
    "\n",
    "Now, if you open `index.html` on your local computer, your browser will behave as a local web server and you can use the provided site to interact with your SageMaker model.\n",
    "\n",
    "If you'd like to go further, you can host this html file anywhere you'd like, for example using github or hosting a static site on Amazon's S3. Once you have done this you can share the link with anyone you'd like and have them play with it too!\n",
    "\n",
    "> **Important Note** In order for the web app to communicate with the SageMaker endpoint, the endpoint has to actually be deployed and running. This means that you are paying for it. Make sure that the endpoint is running when you want to use the web app but that you shut it down when you don't need it, otherwise you will end up with a surprisingly large AWS bill.\n",
    "\n",
    "**TODO:** Make sure that you include the edited `index.html` file in your project submission."
   ]
  },
  {
   "cell_type": "markdown",
   "metadata": {},
   "source": [
    "Now that your web app is working, trying playing around with it and see how well it works.\n",
    "\n",
    "**Question**: Give an example of a review that you entered into your web app. What was the predicted sentiment of your example review?"
   ]
  },
  {
   "cell_type": "markdown",
   "metadata": {},
   "source": [
    "**Answer:** this is a very good movie. this is the best movie ever. I am very happy.this is a very good movie. this is the best movie ever. I am very happy. (Predicted as Positive)"
   ]
  },
  {
   "cell_type": "markdown",
   "metadata": {},
   "source": [
    "### Delete the endpoint\n",
    "\n",
    "Remember to always shut down your endpoint if you are no longer using it. You are charged for the length of time that the endpoint is running so if you forget and leave it on you could end up with an unexpectedly large bill."
   ]
  },
  {
   "cell_type": "code",
   "execution_count": 36,
   "metadata": {},
   "outputs": [],
   "source": [
    "predictor.delete_endpoint()"
   ]
  },
  {
   "cell_type": "code",
   "execution_count": null,
   "metadata": {},
   "outputs": [],
   "source": []
  }
 ],
 "metadata": {
  "kernelspec": {
   "display_name": "conda_pytorch_p36",
   "language": "python",
   "name": "conda_pytorch_p36"
  },
  "language_info": {
   "codemirror_mode": {
    "name": "ipython",
    "version": 3
   },
   "file_extension": ".py",
   "mimetype": "text/x-python",
   "name": "python",
   "nbconvert_exporter": "python",
   "pygments_lexer": "ipython3",
   "version": "3.6.10"
  }
 },
 "nbformat": 4,
 "nbformat_minor": 2
}
